{
 "cells": [
  {
   "cell_type": "markdown",
   "id": "203451b8",
   "metadata": {},
   "source": [
    "## Import"
   ]
  },
  {
   "cell_type": "code",
   "execution_count": null,
   "id": "aa4adfaa",
   "metadata": {},
   "outputs": [],
   "source": [
    "# for read data\n",
    "import os\n",
    "import numpy as np\n",
    "import pandas as pd\n",
    "\n",
    "# model\n",
    "from lightgbm import LGBMClassifier     \n",
    "\n",
    "# tunning\n",
    "from sklearn.model_selection import train_test_split\n",
    "from bayes_opt import BayesianOptimization\n",
    "\n",
    "# Out of Fold\n",
    "from sklearn.metrics import log_loss  \n",
    "from sklearn.model_selection import StratifiedKFold\n",
    "\n",
    "# for save\n",
    "import joblib"
   ]
  },
  {
   "cell_type": "markdown",
   "id": "b0a4d663",
   "metadata": {},
   "source": [
    "### Read data"
   ]
  },
  {
   "cell_type": "code",
   "execution_count": null,
   "id": "a26b5f4e",
   "metadata": {},
   "outputs": [],
   "source": [
    "path = (os.path.abspath(\"./input\"))\n",
    "\n",
    "X_train = pd.read_csv(path +'/CAT_train.csv', encoding='cp949')\n",
    "X_test = pd.read_csv(path +'/CAT_test.csv', encoding='cp949')\n",
    "y_train = pd.read_csv(path +'/y_train.csv', encoding='cp949').group"
   ]
  },
  {
   "cell_type": "code",
   "execution_count": null,
   "id": "f8a1df6a",
   "metadata": {},
   "outputs": [],
   "source": [
    "train_ID, test_ID = X_train.custid, X_test.custid\n",
    "del X_train['custid'], X_test['custid']"
   ]
  },
  {
   "cell_type": "markdown",
   "id": "c3a862e7",
   "metadata": {},
   "source": [
    "### ▶ Bayesian Optimization"
   ]
  },
  {
   "cell_type": "code",
   "execution_count": null,
   "id": "9184a9ca",
   "metadata": {},
   "outputs": [],
   "source": [
    "SKF = StratifiedKFold(n_splits = 5, shuffle = True, random_state = 0)"
   ]
  },
  {
   "cell_type": "code",
   "execution_count": null,
   "id": "d56d0908",
   "metadata": {},
   "outputs": [],
   "source": [
    "def lgbm_bayesian(n_estimators, min_child_samples):\n",
    "    params = {'learning_rate':0.03,\n",
    "              'n_estimators':int(round(n_estimators)),\n",
    "              'min_child_samples': int(round(min_child_samples))}\n",
    "    \n",
    "    bays = LGBMClassifier(**params, objective='multiclass', metrics='multi_logloss', \n",
    "                          gpu_use_dp=True, gpu_device_id=0, num_gpu=1, random_state=0)  \n",
    "    \n",
    "    logloss = []\n",
    "    for tr_idx, val_idx in SKF.split(X_train, y_train):\n",
    "        tr_x, tr_y = X_train.iloc[tr_idx], y_train.iloc[tr_idx]\n",
    "        val_x, val_y = X_train.iloc[val_idx], y_train.iloc[val_idx]\n",
    "        score = log_loss(val_y, bays.fit(tr_x, tr_y).predict_proba(val_x))\n",
    "        logloss.append(score)\n",
    "    return np.mean(logloss)"
   ]
  },
  {
   "cell_type": "code",
   "execution_count": null,
   "id": "4f75b713",
   "metadata": {},
   "outputs": [],
   "source": [
    "bayesian_params = {'n_estimators':(900, 1100),\n",
    "                   'min_child_samples':(60, 120)}"
   ]
  },
  {
   "cell_type": "code",
   "execution_count": null,
   "id": "082be9d3",
   "metadata": {
    "scrolled": true
   },
   "outputs": [],
   "source": [
    "lgbm_bay = BayesianOptimization(f=lgbm_bayesian, pbounds=bayesian_params, random_state=0)\n",
    "lgbm_bay.maximize(init_points=5, n_iter=100)"
   ]
  },
  {
   "cell_type": "code",
   "execution_count": null,
   "id": "42e6edba",
   "metadata": {},
   "outputs": [],
   "source": [
    "# dictionary에 있는 target값을 모두 추출\n",
    "target_list = []\n",
    "for result in lgbm_bay.res:\n",
    "    target = result['target']\n",
    "    target_list.append(target)\n",
    "print(target_list)\n",
    "# 가장 큰 target 값을 가지는 순번(index)를 추출\n",
    "print('maximum target index:', np.argmin(np.array(target_list)))"
   ]
  },
  {
   "cell_type": "code",
   "execution_count": null,
   "id": "e01c6c8a",
   "metadata": {},
   "outputs": [],
   "source": [
    "# 가장 큰 target값을 가지는 index값을 기준으로 res에서 해당 parameter 추출. \n",
    "max_dict = lgbm_bay.res[np.argmin(np.array(target_list))]['params']\n",
    "max_dict['max_depth'] = int(max_dict['max_depth'])\n",
    "max_dict['min_child_samples'] = int(max_dict['min_child_samples'])\n",
    "max_dict['n_estimators'] = int(max_dict['n_estimators'])\n",
    "max_dict['num_leaves'] = int(max_dict['num_leaves'])\n",
    "max_dict"
   ]
  },
  {
   "cell_type": "code",
   "execution_count": null,
   "id": "1ee2490e",
   "metadata": {},
   "outputs": [],
   "source": [
    "# score: 1.5545960092945523\n",
    "lgbm_bayesian = LGBMClassifier(**max_dict, objective='multiclass', metrics='multi_logloss', \n",
    "                               gpu_use_dp=True, gpu_device_id=0, num_gpu=1, random_state=0)  "
   ]
  },
  {
   "cell_type": "markdown",
   "id": "1eda78ab",
   "metadata": {},
   "source": [
    "### ▶ Out of Fold"
   ]
  },
  {
   "cell_type": "code",
   "execution_count": null,
   "id": "0d8559ab",
   "metadata": {},
   "outputs": [],
   "source": [
    "model = lgbm_bayesian"
   ]
  },
  {
   "cell_type": "code",
   "execution_count": null,
   "id": "05a0d812",
   "metadata": {
    "scrolled": true
   },
   "outputs": [],
   "source": [
    "lgbm_pred = np.zeros((X_test.shape[0], 8))\n",
    "loss_list = []\n",
    "for tr_idx, val_idx in SKF.split(X_train, y_train):\n",
    "    tr_x, tr_y = X_train.iloc[tr_idx], y_train.iloc[tr_idx]\n",
    "    val_x, val_y = X_train.iloc[val_idx], y_train.iloc[val_idx]\n",
    "    \n",
    "    model.fit(tr_x, tr_y)\n",
    "    pred = model.predict_proba(val_x)\n",
    "    loss = log_loss(val_y, pred)\n",
    "    loss_list.append(loss)\n",
    "    \n",
    "    sub_pred = np.array(model.predict_proba(X_test)) / 5  # averaging\n",
    "    lgbm_pred += sub_pred\n",
    "print(f'{model.__class__.__name__}의 5fold 평균 Log Loss는 {np.mean(loss_list)}')"
   ]
  },
  {
   "cell_type": "markdown",
   "id": "c706b505",
   "metadata": {},
   "source": [
    "### ▶ Deploy Model&Submission data"
   ]
  },
  {
   "cell_type": "code",
   "execution_count": null,
   "id": "4b629c6b",
   "metadata": {
    "scrolled": true
   },
   "outputs": [],
   "source": [
    "pred = pd.DataFrame(lgbm_pred)\n",
    "pred.columns = ['F20','F30','F40','F50','M20','M30','M40','M50']\n",
    "submissions = pd.concat([pd.Series(test_ID, name=\"ID\"), pred] ,axis=1)"
   ]
  },
  {
   "cell_type": "code",
   "execution_count": null,
   "id": "9a2f3fdf",
   "metadata": {},
   "outputs": [],
   "source": [
    "sub_path = (os.path.abspath(\"./submission\"))\n",
    "\n",
    "fname = '/MLGBM_FCAT.csv' # Model_FeatureSet\n",
    "submissions.to_csv(sub_path+fname, index=False)"
   ]
  },
  {
   "cell_type": "code",
   "execution_count": null,
   "id": "7917a3ed",
   "metadata": {},
   "outputs": [],
   "source": []
  }
 ],
 "metadata": {
  "kernelspec": {
   "display_name": "Python 3 (ipykernel)",
   "language": "python",
   "name": "python3"
  },
  "language_info": {
   "codemirror_mode": {
    "name": "ipython",
    "version": 3
   },
   "file_extension": ".py",
   "mimetype": "text/x-python",
   "name": "python",
   "nbconvert_exporter": "python",
   "pygments_lexer": "ipython3",
   "version": "3.9.7"
  }
 },
 "nbformat": 4,
 "nbformat_minor": 5
}
