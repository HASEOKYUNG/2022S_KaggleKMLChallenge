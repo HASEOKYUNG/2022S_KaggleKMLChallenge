{
 "cells": [
  {
   "cell_type": "markdown",
   "id": "203451b8",
   "metadata": {},
   "source": [
    "## Import"
   ]
  },
  {
   "cell_type": "code",
   "execution_count": null,
   "id": "aa4adfaa",
   "metadata": {},
   "outputs": [],
   "source": [
    "# for read data\n",
    "import os\n",
    "import numpy as np\n",
    "import pandas as pd\n",
    "\n",
    "# model\n",
    "from lightgbm import LGBMClassifier     \n",
    "\n",
    "# tunning\n",
    "import optuna\n",
    "\n",
    "# Out of Fold\n",
    "from sklearn.metrics import log_loss  \n",
    "from sklearn.model_selection import StratifiedKFold\n",
    "\n",
    "# for save\n",
    "import joblib"
   ]
  },
  {
   "cell_type": "markdown",
   "id": "b0a4d663",
   "metadata": {},
   "source": [
    "## Read data"
   ]
  },
  {
   "cell_type": "code",
   "execution_count": null,
   "id": "a26b5f4e",
   "metadata": {},
   "outputs": [],
   "source": [
    "path = (os.path.abspath(\"./input\"))\n",
    "\n",
    "X_train = pd.read_csv(path +'/LGBM_train.csv', encoding='cp949')\n",
    "X_test = pd.read_csv(path +'/LGBM_test.csv', encoding='cp949')\n",
    "y_train = pd.read_csv(path +'/y_train.csv', encoding='cp949').group"
   ]
  },
  {
   "cell_type": "code",
   "execution_count": null,
   "id": "f8a1df6a",
   "metadata": {},
   "outputs": [],
   "source": [
    "train_ID, test_ID = X_train.custid, X_test.custid\n",
    "del X_train['custid'], X_test['custid']"
   ]
  },
  {
   "cell_type": "markdown",
   "id": "333498c1",
   "metadata": {},
   "source": [
    "### ▶ Shallow Tunning & Ensemble"
   ]
  },
  {
   "cell_type": "code",
   "execution_count": null,
   "id": "71d9343b",
   "metadata": {},
   "outputs": [],
   "source": [
    "# 모델 설정\n",
    "lgbm_1 = LGBMClassifier(n_estimators=150, min_child_samples=400,\n",
    "                        learning_rate=0.03,objective='multiclass', metrics='multi_logloss', num_gpu=1, random_state=0)"
   ]
  },
  {
   "cell_type": "markdown",
   "id": "1eda78ab",
   "metadata": {},
   "source": [
    "### ▶ Out of Fold"
   ]
  },
  {
   "cell_type": "code",
   "execution_count": null,
   "id": "ec623cd8",
   "metadata": {},
   "outputs": [],
   "source": [
    "model = lgbm_1"
   ]
  },
  {
   "cell_type": "code",
   "execution_count": null,
   "id": "2e34d8e5",
   "metadata": {},
   "outputs": [],
   "source": [
    "SKF = StratifiedKFold(n_splits = 5, shuffle = True, random_state = 0)"
   ]
  },
  {
   "cell_type": "code",
   "execution_count": null,
   "id": "05a0d812",
   "metadata": {
    "scrolled": true
   },
   "outputs": [],
   "source": [
    "lgbm_pred = np.zeros((X_test.shape[0], 8))\n",
    "loss_list = []\n",
    "for tr_idx, val_idx in SKF.split(X_train, y_train):\n",
    "    tr_x, tr_y = X_train.iloc[tr_idx], y_train.iloc[tr_idx]\n",
    "    val_x, val_y = X_train.iloc[val_idx], y_train.iloc[val_idx]\n",
    "    \n",
    "    model.fit(tr_x, tr_y)\n",
    "    pred = model.predict_proba(val_x)\n",
    "    loss = log_loss(val_y, pred)\n",
    "    loss_list.append(loss)\n",
    "    \n",
    "    sub_pred = np.array(model.predict_proba(X_test)) / 5  # averaging\n",
    "    lgbm_pred += sub_pred\n",
    "print(f'{model.__class__.__name__}의 5fold 평균 Log Loss는 {np.mean(loss_list)}')"
   ]
  },
  {
   "cell_type": "code",
   "execution_count": null,
   "id": "165ccf76",
   "metadata": {},
   "outputs": [],
   "source": [
    "# min_child_samples=50: 1.53695786862622\n",
    "# min_child_samples=100: 1.5363410525558314\n",
    "# min_child_samples=150: 1.5319978453349357\n",
    "# min_child_samples=200: 1.5306841729108775\n",
    "# n_estimators=120: 1.5251515293031905\n",
    "\n",
    "# n_estimators=130,min_child_samples=250: 1.5222674774168437\n",
    "# n_estimators=150, min_child_samples=300 : 1.51...."
   ]
  },
  {
   "cell_type": "markdown",
   "id": "c706b505",
   "metadata": {},
   "source": [
    "### ▶ Deploy Model&Submission data"
   ]
  },
  {
   "cell_type": "code",
   "execution_count": null,
   "id": "4b629c6b",
   "metadata": {
    "scrolled": true
   },
   "outputs": [],
   "source": [
    "pred = pd.DataFrame(lgbm_pred)\n",
    "pred.columns = ['F20','F30','F40','F50','M20','M30','M40','M50']\n",
    "submissions = pd.concat([pd.Series(test_ID, name=\"ID\"), pred] ,axis=1)"
   ]
  },
  {
   "cell_type": "code",
   "execution_count": null,
   "id": "9a2f3fdf",
   "metadata": {},
   "outputs": [],
   "source": [
    "sub_path = (os.path.abspath(\"./submission\"))\n",
    "\n",
    "fname = '/MLGBM_FLGBM.csv' # Model_FeatureSet\n",
    "submissions.to_csv(sub_path+fname, index=False)\n",
    "print(\"'{}' is ready to submit.\" .format(fname))"
   ]
  },
  {
   "cell_type": "code",
   "execution_count": null,
   "id": "7917a3ed",
   "metadata": {},
   "outputs": [],
   "source": []
  }
 ],
 "metadata": {
  "kernelspec": {
   "display_name": "Python 3 (ipykernel)",
   "language": "python",
   "name": "python3"
  },
  "language_info": {
   "codemirror_mode": {
    "name": "ipython",
    "version": 3
   },
   "file_extension": ".py",
   "mimetype": "text/x-python",
   "name": "python",
   "nbconvert_exporter": "python",
   "pygments_lexer": "ipython3",
   "version": "3.9.7"
  }
 },
 "nbformat": 4,
 "nbformat_minor": 5
}
