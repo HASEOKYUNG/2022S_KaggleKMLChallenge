{
 "cells": [
  {
   "cell_type": "markdown",
   "id": "ce61110a",
   "metadata": {},
   "source": [
    "## Imports"
   ]
  },
  {
   "cell_type": "code",
   "execution_count": 1,
   "id": "5ba322ec",
   "metadata": {},
   "outputs": [],
   "source": [
    "# for read data\n",
    "import os\n",
    "import pandas as pd\n",
    "import warnings; warnings.filterwarnings(\"ignore\")\n",
    "\n",
    "# feature selection\n",
    "from sklearn.model_selection import train_test_split\n",
    "from catboost import CatBoostClassifier \n",
    "from lightgbm import LGBMClassifier \n",
    "\n",
    "# validation\n",
    "from sklearn.model_selection import StratifiedKFold\n",
    "from sklearn.metrics import log_loss, make_scorer"
   ]
  },
  {
   "cell_type": "markdown",
   "id": "1b618736",
   "metadata": {},
   "source": [
    "## Exclude Low Importance Features\n",
    "모든 Feature를 집어넣어 학습시킨 뒤 Feature Importance가 낮은 Feature는 제외하고 Selection을 진행한다."
   ]
  },
  {
   "cell_type": "markdown",
   "id": "40545d08",
   "metadata": {},
   "source": [
    "- **[Catboost]**"
   ]
  },
  {
   "cell_type": "code",
   "execution_count": 2,
   "id": "334f73cd",
   "metadata": {},
   "outputs": [],
   "source": [
    "path = (os.path.abspath(\"./input\"))\n",
    "\n",
    "feature_train1 = pd.read_csv(path +'/feature_train_transformation.csv', encoding='cp949')\n",
    "feature_train2 = pd.read_csv(path +'/feature_train_W2V.csv', encoding='cp949')\n",
    "feature_train3 = pd.read_csv(path +'/feature_train_BOW.csv', encoding='cp949')\n",
    "feature_train = pd.merge(feature_train1, feature_train2, on='custid', how='outer')\n",
    "feature_train = pd.merge(feature_train, feature_train3, on='custid', how='outer')\n",
    "\n",
    "feature_test1 = pd.read_csv(path +'/feature_test_transformation.csv', encoding='cp949')\n",
    "feature_test2 = pd.read_csv(path +'/feature_test_W2V.csv', encoding='cp949')\n",
    "feature_test3 = pd.read_csv(path +'/feature_test_BOW.csv', encoding='cp949')\n",
    "feature_test = pd.merge(feature_test1, feature_test2, on='custid', how='outer')\n",
    "feature_test = pd.merge(feature_test, feature_test3, on='custid', how='outer')\n",
    "\n",
    "y_train = pd.read_csv(path +'/y_train.csv', encoding='cp949').group\n",
    "\n",
    "del feature_train['custid'], feature_test['custid']"
   ]
  },
  {
   "cell_type": "code",
   "execution_count": 21,
   "id": "37b4f9da",
   "metadata": {},
   "outputs": [],
   "source": [
    "X_train, X_dev, y__train, y_dev = train_test_split(feature_train, y_train, test_size=0.3, random_state=0)"
   ]
  },
  {
   "cell_type": "code",
   "execution_count": 22,
   "id": "9fcf43bd",
   "metadata": {},
   "outputs": [],
   "source": [
    "# learning_rate만 지정한다.\n",
    "model=CatBoostClassifier(iterations=100, learning_rate=0.03, objective='MultiClass', bootstrap_type ='Bayesian',\n",
    "                           devices='0:1', task_type=\"GPU\", random_state=0)"
   ]
  },
  {
   "cell_type": "code",
   "execution_count": 23,
   "id": "3bd8380d",
   "metadata": {
    "scrolled": true
   },
   "outputs": [
    {
     "name": "stdout",
     "output_type": "stream",
     "text": [
      "0:\tlearn: 2.0491174\ttotal: 11.9ms\tremaining: 1.17s\n",
      "1:\tlearn: 2.0225404\ttotal: 22.4ms\tremaining: 1.1s\n",
      "2:\tlearn: 1.9984641\ttotal: 33.3ms\tremaining: 1.08s\n",
      "3:\tlearn: 1.9759895\ttotal: 44.2ms\tremaining: 1.06s\n",
      "4:\tlearn: 1.9553916\ttotal: 55ms\tremaining: 1.04s\n",
      "5:\tlearn: 1.9366652\ttotal: 65.7ms\tremaining: 1.03s\n",
      "6:\tlearn: 1.9181629\ttotal: 76.5ms\tremaining: 1.01s\n",
      "7:\tlearn: 1.9020130\ttotal: 87.8ms\tremaining: 1.01s\n",
      "8:\tlearn: 1.8865269\ttotal: 98.5ms\tremaining: 996ms\n",
      "9:\tlearn: 1.8718661\ttotal: 109ms\tremaining: 984ms\n",
      "10:\tlearn: 1.8579473\ttotal: 120ms\tremaining: 970ms\n",
      "11:\tlearn: 1.8450638\ttotal: 131ms\tremaining: 958ms\n",
      "12:\tlearn: 1.8327675\ttotal: 141ms\tremaining: 946ms\n",
      "13:\tlearn: 1.8214510\ttotal: 152ms\tremaining: 935ms\n",
      "14:\tlearn: 1.8104039\ttotal: 163ms\tremaining: 923ms\n",
      "15:\tlearn: 1.8000808\ttotal: 173ms\tremaining: 910ms\n",
      "16:\tlearn: 1.7895658\ttotal: 184ms\tremaining: 899ms\n",
      "17:\tlearn: 1.7805525\ttotal: 195ms\tremaining: 887ms\n",
      "18:\tlearn: 1.7714452\ttotal: 207ms\tremaining: 882ms\n",
      "19:\tlearn: 1.7626551\ttotal: 218ms\tremaining: 871ms\n",
      "20:\tlearn: 1.7540828\ttotal: 228ms\tremaining: 859ms\n",
      "21:\tlearn: 1.7458736\ttotal: 239ms\tremaining: 848ms\n",
      "22:\tlearn: 1.7385517\ttotal: 250ms\tremaining: 837ms\n",
      "23:\tlearn: 1.7312148\ttotal: 261ms\tremaining: 825ms\n",
      "24:\tlearn: 1.7239459\ttotal: 271ms\tremaining: 814ms\n",
      "25:\tlearn: 1.7172095\ttotal: 282ms\tremaining: 802ms\n",
      "26:\tlearn: 1.7107085\ttotal: 293ms\tremaining: 791ms\n",
      "27:\tlearn: 1.7045049\ttotal: 304ms\tremaining: 781ms\n",
      "28:\tlearn: 1.6985740\ttotal: 314ms\tremaining: 770ms\n",
      "29:\tlearn: 1.6926826\ttotal: 325ms\tremaining: 759ms\n",
      "30:\tlearn: 1.6871480\ttotal: 336ms\tremaining: 748ms\n",
      "31:\tlearn: 1.6818680\ttotal: 347ms\tremaining: 737ms\n",
      "32:\tlearn: 1.6767855\ttotal: 358ms\tremaining: 726ms\n",
      "33:\tlearn: 1.6714334\ttotal: 369ms\tremaining: 715ms\n",
      "34:\tlearn: 1.6665102\ttotal: 379ms\tremaining: 705ms\n",
      "35:\tlearn: 1.6618640\ttotal: 390ms\tremaining: 694ms\n",
      "36:\tlearn: 1.6573040\ttotal: 401ms\tremaining: 683ms\n",
      "37:\tlearn: 1.6528524\ttotal: 413ms\tremaining: 673ms\n",
      "38:\tlearn: 1.6488054\ttotal: 424ms\tremaining: 663ms\n",
      "39:\tlearn: 1.6444510\ttotal: 436ms\tremaining: 655ms\n",
      "40:\tlearn: 1.6406047\ttotal: 447ms\tremaining: 644ms\n",
      "41:\tlearn: 1.6368321\ttotal: 458ms\tremaining: 633ms\n",
      "42:\tlearn: 1.6329433\ttotal: 469ms\tremaining: 621ms\n",
      "43:\tlearn: 1.6290832\ttotal: 480ms\tremaining: 610ms\n",
      "44:\tlearn: 1.6254304\ttotal: 490ms\tremaining: 599ms\n",
      "45:\tlearn: 1.6216660\ttotal: 501ms\tremaining: 588ms\n",
      "46:\tlearn: 1.6181049\ttotal: 512ms\tremaining: 577ms\n",
      "47:\tlearn: 1.6149867\ttotal: 524ms\tremaining: 567ms\n",
      "48:\tlearn: 1.6117705\ttotal: 534ms\tremaining: 556ms\n",
      "49:\tlearn: 1.6085940\ttotal: 545ms\tremaining: 545ms\n",
      "50:\tlearn: 1.6056015\ttotal: 556ms\tremaining: 534ms\n",
      "51:\tlearn: 1.6026995\ttotal: 567ms\tremaining: 523ms\n",
      "52:\tlearn: 1.5996391\ttotal: 577ms\tremaining: 512ms\n",
      "53:\tlearn: 1.5967830\ttotal: 588ms\tremaining: 501ms\n",
      "54:\tlearn: 1.5940850\ttotal: 599ms\tremaining: 490ms\n",
      "55:\tlearn: 1.5912729\ttotal: 610ms\tremaining: 479ms\n",
      "56:\tlearn: 1.5885784\ttotal: 621ms\tremaining: 469ms\n",
      "57:\tlearn: 1.5858080\ttotal: 632ms\tremaining: 458ms\n",
      "58:\tlearn: 1.5832702\ttotal: 643ms\tremaining: 447ms\n",
      "59:\tlearn: 1.5810384\ttotal: 654ms\tremaining: 436ms\n",
      "60:\tlearn: 1.5785702\ttotal: 665ms\tremaining: 425ms\n",
      "61:\tlearn: 1.5759653\ttotal: 676ms\tremaining: 415ms\n",
      "62:\tlearn: 1.5735036\ttotal: 688ms\tremaining: 404ms\n",
      "63:\tlearn: 1.5710526\ttotal: 699ms\tremaining: 393ms\n",
      "64:\tlearn: 1.5688195\ttotal: 709ms\tremaining: 382ms\n",
      "65:\tlearn: 1.5664908\ttotal: 720ms\tremaining: 371ms\n",
      "66:\tlearn: 1.5643330\ttotal: 731ms\tremaining: 360ms\n",
      "67:\tlearn: 1.5621827\ttotal: 742ms\tremaining: 349ms\n",
      "68:\tlearn: 1.5599921\ttotal: 753ms\tremaining: 338ms\n",
      "69:\tlearn: 1.5578244\ttotal: 764ms\tremaining: 327ms\n",
      "70:\tlearn: 1.5558533\ttotal: 774ms\tremaining: 316ms\n",
      "71:\tlearn: 1.5538353\ttotal: 786ms\tremaining: 306ms\n",
      "72:\tlearn: 1.5518120\ttotal: 797ms\tremaining: 295ms\n",
      "73:\tlearn: 1.5499330\ttotal: 807ms\tremaining: 284ms\n",
      "74:\tlearn: 1.5477893\ttotal: 818ms\tremaining: 273ms\n",
      "75:\tlearn: 1.5458531\ttotal: 829ms\tremaining: 262ms\n",
      "76:\tlearn: 1.5440592\ttotal: 841ms\tremaining: 251ms\n",
      "77:\tlearn: 1.5421402\ttotal: 852ms\tremaining: 240ms\n",
      "78:\tlearn: 1.5403612\ttotal: 862ms\tremaining: 229ms\n",
      "79:\tlearn: 1.5385881\ttotal: 873ms\tremaining: 218ms\n",
      "80:\tlearn: 1.5368764\ttotal: 884ms\tremaining: 207ms\n",
      "81:\tlearn: 1.5351304\ttotal: 895ms\tremaining: 196ms\n",
      "82:\tlearn: 1.5334185\ttotal: 906ms\tremaining: 186ms\n",
      "83:\tlearn: 1.5317318\ttotal: 917ms\tremaining: 175ms\n",
      "84:\tlearn: 1.5300828\ttotal: 927ms\tremaining: 164ms\n",
      "85:\tlearn: 1.5285112\ttotal: 938ms\tremaining: 153ms\n",
      "86:\tlearn: 1.5267545\ttotal: 949ms\tremaining: 142ms\n",
      "87:\tlearn: 1.5251384\ttotal: 960ms\tremaining: 131ms\n",
      "88:\tlearn: 1.5235011\ttotal: 971ms\tremaining: 120ms\n",
      "89:\tlearn: 1.5218476\ttotal: 982ms\tremaining: 109ms\n",
      "90:\tlearn: 1.5200169\ttotal: 993ms\tremaining: 98.2ms\n",
      "91:\tlearn: 1.5183916\ttotal: 1s\tremaining: 87.2ms\n",
      "92:\tlearn: 1.5167061\ttotal: 1.01s\tremaining: 76.3ms\n",
      "93:\tlearn: 1.5151788\ttotal: 1.02s\tremaining: 65.4ms\n",
      "94:\tlearn: 1.5135113\ttotal: 1.04s\tremaining: 54.6ms\n",
      "95:\tlearn: 1.5119245\ttotal: 1.05s\tremaining: 43.7ms\n",
      "96:\tlearn: 1.5103839\ttotal: 1.06s\tremaining: 32.8ms\n",
      "97:\tlearn: 1.5088715\ttotal: 1.07s\tremaining: 21.8ms\n",
      "98:\tlearn: 1.5074742\ttotal: 1.08s\tremaining: 10.9ms\n",
      "99:\tlearn: 1.5060406\ttotal: 1.09s\tremaining: 0us\n"
     ]
    },
    {
     "data": {
      "text/plain": [
       "<catboost.core.CatBoostClassifier at 0x1cc48a71610>"
      ]
     },
     "execution_count": 23,
     "metadata": {},
     "output_type": "execute_result"
    }
   ],
   "source": [
    "model.fit(X_train, y__train)"
   ]
  },
  {
   "cell_type": "code",
   "execution_count": 24,
   "id": "d5a3649d",
   "metadata": {
    "scrolled": true
   },
   "outputs": [
    {
     "name": "stdout",
     "output_type": "stream",
     "text": [
      "상위 104개 사용:  1.5726428439180589\n"
     ]
    }
   ],
   "source": [
    "# 전체 Feature 사용: 1.5727539589558865\n",
    "# 상위 171개 사용:  1.572028648061302, redefine_1 결과\n",
    "# 상위 120개 사용:  1.5705520554742651, redefine_2 결과, STOP!\n",
    "# 상위 104개 사용:  1.5726428439180589, redefine_3 결과\n",
    "print(f'상위 {feature_train.shape[1]}개 사용: ',log_loss(y_dev, model.predict_proba(X_dev)))"
   ]
  },
  {
   "cell_type": "code",
   "execution_count": 19,
   "id": "3eabcbe1",
   "metadata": {
    "scrolled": true
   },
   "outputs": [
    {
     "data": {
      "text/plain": [
       "Feature_Importances\n",
       "0.000000               14\n",
       "0.109186                1\n",
       "0.109186                1\n",
       "0.115790                1\n",
       "0.118929                1\n",
       "                       ..\n",
       "4.284226                1\n",
       "4.487170                1\n",
       "4.803143                1\n",
       "4.821632                1\n",
       "9.188756                1\n",
       "Length: 107, dtype: int64"
      ]
     },
     "metadata": {},
     "output_type": "display_data"
    }
   ],
   "source": [
    "# Feature Importance 확인\n",
    "FI = pd.DataFrame({'Feature_Importances':model.feature_importances_})\n",
    "display(FI.value_counts().sort_index())"
   ]
  },
  {
   "cell_type": "code",
   "execution_count": 20,
   "id": "e5610a0b",
   "metadata": {},
   "outputs": [],
   "source": [
    "# redefine features\n",
    "# Log loss가 올라가는 importance 이면 그 사이값 재탐색 후 결정한다.\n",
    "# limit = round(FI.value_counts().sort_index().index[1][0], 6)\n",
    "# redefine_1 = FI.query('Feature_Importances > @limit').index\n",
    "# redefine_2 = FI.query('Feature_Importances > @limit').index\n",
    "# redefine_3 = FI.query('Feature_Importances > @limit').index\n",
    "\n",
    "# feature_train = feature_train.iloc[:, redefine_3]\n",
    "# feature_test = feature_test.iloc[:, redefine_3]"
   ]
  },
  {
   "cell_type": "markdown",
   "id": "561281f7",
   "metadata": {},
   "source": [
    "- **[LGBM]**"
   ]
  },
  {
   "cell_type": "code",
   "execution_count": 25,
   "id": "b2a0f365",
   "metadata": {},
   "outputs": [],
   "source": [
    "feature_train0 = pd.read_csv(path +'/feature_train_transformation_0.csv', encoding='cp949')\n",
    "feature_train3 = pd.read_csv(path +'/feature_train_W2V.csv', encoding='cp949')\n",
    "feature_train4 = pd.read_csv(path +'/feature_train_BOW.csv', encoding='cp949')\n",
    "feature_train = pd.merge(feature_train0, feature_train3, on='custid', how='outer')\n",
    "feature_train = pd.merge(feature_train, feature_train4, on='custid', how='outer')\n",
    "\n",
    "feature_test0 = pd.read_csv(path +'/feature_test_transformation_0.csv', encoding='cp949')\n",
    "feature_test3 = pd.read_csv(path +'/feature_test_W2V.csv', encoding='cp949')\n",
    "feature_test4 = pd.read_csv(path +'/feature_test_BOW.csv', encoding='cp949')\n",
    "feature_test = pd.merge(feature_test0, feature_test3, on='custid', how='outer')\n",
    "feature_test = pd.merge(feature_test, feature_test4, on='custid', how='outer')\n",
    "\n",
    "y_train = pd.read_csv(path +'/y_train.csv', encoding='cp949').group\n",
    "\n",
    "del feature_train['custid'], feature_test['custid']"
   ]
  },
  {
   "cell_type": "code",
   "execution_count": 38,
   "id": "3d56eaa0",
   "metadata": {},
   "outputs": [],
   "source": [
    "X_train, X_dev, y__train, y_dev = train_test_split(feature_train, y_train, test_size=0.3, random_state=0)"
   ]
  },
  {
   "cell_type": "code",
   "execution_count": 39,
   "id": "daa8df1c",
   "metadata": {},
   "outputs": [],
   "source": [
    "# learning_rate만 지정한다.\n",
    "model=LGBMClassifier(learning_rate=0.03,\n",
    "                     objective='multiclass', metrics='multi_logloss', num_gpu=1, random_state=0)"
   ]
  },
  {
   "cell_type": "code",
   "execution_count": 40,
   "id": "eab81086",
   "metadata": {},
   "outputs": [
    {
     "data": {
      "text/plain": [
       "LGBMClassifier(learning_rate=0.03, metrics='multi_logloss', num_gpu=1,\n",
       "               objective='multiclass', random_state=0)"
      ]
     },
     "execution_count": 40,
     "metadata": {},
     "output_type": "execute_result"
    }
   ],
   "source": [
    "model.fit(X_train, y__train)"
   ]
  },
  {
   "cell_type": "code",
   "execution_count": 41,
   "id": "1cd02de6",
   "metadata": {},
   "outputs": [
    {
     "name": "stdout",
     "output_type": "stream",
     "text": [
      "상위 4021개 사용:  1.548362171129472\n"
     ]
    }
   ],
   "source": [
    "# 전체 Feature 사용: 1.5479148067922546\n",
    "# 상위 4656개 사용:  1.5472279449561581, redefine_1 결과, STOP!\n",
    "# 상위 4021개 사용:  1.548362171129472, redefine_2 결과\n",
    "\n",
    "print(f'상위 {feature_train.shape[1]}개 사용: ',log_loss(y_dev, model.predict_proba(X_dev)))"
   ]
  },
  {
   "cell_type": "code",
   "execution_count": 42,
   "id": "8b794719",
   "metadata": {
    "scrolled": true
   },
   "outputs": [
    {
     "data": {
      "text/plain": [
       "Feature_Importances\n",
       "0                       83\n",
       "1                      252\n",
       "2                      510\n",
       "3                      648\n",
       "4                      612\n",
       "                      ... \n",
       "106                      1\n",
       "160                      1\n",
       "194                      1\n",
       "209                      1\n",
       "372                      1\n",
       "Length: 69, dtype: int64"
      ]
     },
     "metadata": {},
     "output_type": "display_data"
    }
   ],
   "source": [
    "# Feature Importance 확인\n",
    "FI = pd.DataFrame({'Feature_Importances':model.feature_importances_})\n",
    "display(FI.value_counts().sort_index())"
   ]
  },
  {
   "cell_type": "code",
   "execution_count": 37,
   "id": "029ccd99",
   "metadata": {},
   "outputs": [],
   "source": [
    "# redefine features\n",
    "# Log loss가 올라가는 importance 직전에서 멈춘다.\n",
    "# REDEFINE_1 = FI.query('Feature_Importances > 1').index \n",
    "# REDEFINE_2 = FI.query('Feature_Importances > 1').index \n",
    "\n",
    "# feature_train = feature_train.iloc[:, REDEFINE_2]\n",
    "# feature_test = feature_test.iloc[:, REDEFINE_2]"
   ]
  },
  {
   "cell_type": "markdown",
   "id": "ef6ea5c7",
   "metadata": {},
   "source": [
    "### $~~~~$ Save data"
   ]
  },
  {
   "cell_type": "code",
   "execution_count": 45,
   "id": "57118962",
   "metadata": {},
   "outputs": [],
   "source": [
    "feature_train1 = pd.read_csv(path +'/feature_train_transformation.csv', encoding='cp949')\n",
    "feature_train2 = pd.read_csv(path +'/feature_train_W2V.csv', encoding='cp949')\n",
    "feature_train3 = pd.read_csv(path +'/feature_train_BOW.csv', encoding='cp949')\n",
    "feature_train = pd.merge(feature_train1, feature_train2, on='custid', how='outer')\n",
    "feature_train = pd.merge(feature_train, feature_train3, on='custid', how='outer')\n",
    "\n",
    "feature_test1 = pd.read_csv(path +'/feature_test_transformation.csv', encoding='cp949')\n",
    "feature_test2 = pd.read_csv(path +'/feature_test_W2V.csv', encoding='cp949')\n",
    "feature_test3 = pd.read_csv(path +'/feature_test_BOW.csv', encoding='cp949')\n",
    "feature_test = pd.merge(feature_test1, feature_test2, on='custid', how='outer')\n",
    "feature_test = pd.merge(feature_test, feature_test3, on='custid', how='outer')\n",
    "\n",
    "train_ID, test_ID = feature_train.custid, feature_test.custid\n",
    "del feature_train['custid'], feature_test['custid']"
   ]
  },
  {
   "cell_type": "code",
   "execution_count": 46,
   "id": "4fc86c52",
   "metadata": {},
   "outputs": [],
   "source": [
    "# Catboost\n",
    "# logloss: 1.5705520554742651\n",
    "cat_train = pd.concat([train_ID, \n",
    "                       feature_train.iloc[:, redefine_1].iloc[:, redefine_2]], axis=1)\n",
    "cat_train.to_csv(path+'/CAT_train.csv', index=False, encoding='cp949')\n",
    "\n",
    "cat_test = pd.concat([test_ID, \n",
    "                      feature_test.iloc[:, redefine_1].iloc[:, redefine_2]], axis=1)\n",
    "cat_test.to_csv(path+'/CAT_test.csv', index=False, encoding='cp949')"
   ]
  },
  {
   "cell_type": "code",
   "execution_count": 47,
   "id": "fd291145",
   "metadata": {},
   "outputs": [],
   "source": [
    "# lgbmboost\n",
    "# logloss: 1.5472279449561581\n",
    "lgbm_train = pd.concat([train_ID, feature_train.iloc[:, REDEFINE_1]], axis=1)\n",
    "lgbm_train.to_csv(path+'/LGBM_train.csv', index=False, encoding='cp949')\n",
    "\n",
    "lgbm_test = pd.concat([test_ID, feature_test.iloc[:, REDEFINE_1]], axis=1)\n",
    "lgbm_test.to_csv(path+'/LGBM_test.csv', index=False, encoding='cp949')"
   ]
  },
  {
   "cell_type": "code",
   "execution_count": null,
   "id": "4b704626",
   "metadata": {},
   "outputs": [],
   "source": []
  }
 ],
 "metadata": {
  "kernelspec": {
   "display_name": "Python 3 (ipykernel)",
   "language": "python",
   "name": "python3"
  },
  "language_info": {
   "codemirror_mode": {
    "name": "ipython",
    "version": 3
   },
   "file_extension": ".py",
   "mimetype": "text/x-python",
   "name": "python",
   "nbconvert_exporter": "python",
   "pygments_lexer": "ipython3",
   "version": "3.9.7"
  }
 },
 "nbformat": 4,
 "nbformat_minor": 5
}
