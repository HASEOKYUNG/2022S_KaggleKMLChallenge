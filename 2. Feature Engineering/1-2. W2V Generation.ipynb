{
 "cells": [
  {
   "cell_type": "markdown",
   "id": "da0854a1",
   "metadata": {},
   "source": [
    "## Import"
   ]
  },
  {
   "cell_type": "code",
   "execution_count": 1,
   "id": "27206999",
   "metadata": {},
   "outputs": [],
   "source": [
    "# for read data\n",
    "import os\n",
    "\n",
    "# for feature generation\n",
    "import pandas as pd\n",
    "import numpy as np\n",
    "from gensim.models import word2vec\n",
    "import warnings; warnings.filterwarnings(\"ignore\")\n",
    "\n",
    "# for confirm features\n",
    "import matplotlib.pyplot as plt\n",
    "import seaborn as sns\n",
    "plt.rc('font', family='Malgun Gothic')\n",
    "plt.rc('axes', unicode_minus=False)"
   ]
  },
  {
   "cell_type": "markdown",
   "id": "bfcaa714",
   "metadata": {
    "_uuid": "dd7e3527fd56e5b5855c6846ca226f5f860f725b"
   },
   "source": [
    "## Read Data"
   ]
  },
  {
   "cell_type": "code",
   "execution_count": 2,
   "id": "ba1fc326",
   "metadata": {},
   "outputs": [],
   "source": [
    "path = (os.path.abspath(\"./input\"))\n",
    "\n",
    "train = pd.read_csv(path + '/X_train_DC.csv', parse_dates=['SALES_DATE', 'SALES_DAY'], encoding='cp949')\n",
    "test = pd.read_csv(path + '/X_test_DC.csv', parse_dates=['SALES_DATE', 'SALES_DAY'], encoding='cp949')\n",
    "y_train = pd.read_csv(path + '/y_train.csv')"
   ]
  },
  {
   "cell_type": "markdown",
   "id": "91dcac87",
   "metadata": {},
   "source": [
    "## Word2Vec\n",
    "고객이 구매한 상품의 정보를 지정한 차원에 흩뿌려 벡터화한 Word2Vec Feature를 생성한다."
   ]
  },
  {
   "cell_type": "code",
   "execution_count": 3,
   "id": "eb978645",
   "metadata": {},
   "outputs": [],
   "source": [
    "# make concat file\n",
    "w2v_train = pd.DataFrame({'custid': train.custid.unique()})\n",
    "w2v_test = pd.DataFrame({'custid': test.custid.unique()})"
   ]
  },
  {
   "cell_type": "markdown",
   "id": "3e2fba40",
   "metadata": {},
   "source": [
    "- **[goodcd]**"
   ]
  },
  {
   "cell_type": "code",
   "execution_count": 4,
   "id": "2dd3fad5",
   "metadata": {},
   "outputs": [],
   "source": [
    "p_level = 'goodcd'  \n",
    "train[p_level] = train[p_level].astype('O')\n",
    "test[p_level] = test[p_level].astype('O')"
   ]
  },
  {
   "cell_type": "code",
   "execution_count": 5,
   "id": "60c032af",
   "metadata": {},
   "outputs": [],
   "source": [
    "# W2V 학습데이터가 부족하여 구매한 상품 목록으로부터 n배 oversampling, 복원추출을 수행한다.\n",
    "def oversample(x, n, seed=2022):\n",
    "    if n == 0:\n",
    "        return list(x)\n",
    "    uw = np.unique(x)\n",
    "    bs = np.array([])\n",
    "    np.random.seed(seed)\n",
    "    for j in range(n):\n",
    "        bs = np.append(bs, np.random.choice(uw, len(uw), replace=True))  \n",
    "    return list(bs)"
   ]
  },
  {
   "cell_type": "code",
   "execution_count": 6,
   "id": "14e08742",
   "metadata": {},
   "outputs": [],
   "source": [
    "train_sample = train.groupby('custid')[p_level].agg(oversample, 30)\n",
    "test_sample = test.groupby('custid')[p_level].agg(oversample, 30)"
   ]
  },
  {
   "cell_type": "code",
   "execution_count": 7,
   "id": "d84742b3",
   "metadata": {},
   "outputs": [
    {
     "name": "stdout",
     "output_type": "stream",
     "text": [
      "train mode:  120\n",
      "test mode:  120\n"
     ]
    }
   ],
   "source": [
    "print('train mode: ',train_sample.apply(lambda x: len(x)).mode()[0])\n",
    "print('test mode: ',test_sample.apply(lambda x: len(x)).mode()[0])"
   ]
  },
  {
   "cell_type": "code",
   "execution_count": 8,
   "id": "e0109008",
   "metadata": {
    "scrolled": true
   },
   "outputs": [
    {
     "data": {
      "image/png": "[encoded data removed]",
      "text/plain": [
       "<Figure size 576x288 with 2 Axes>"
      ]
     },
     "metadata": {
      "needs_background": "light"
     },
     "output_type": "display_data"
    }
   ],
   "source": [
    "fig, ax = plt.subplots(1,2, figsize=(8,4))\n",
    "sns.violinplot(train_sample.apply(lambda x: len(x)), color='grey', ax=ax[0])\n",
    "sns.violinplot(test_sample.apply(lambda x: len(x)), color='grey', ax=ax[1])\n",
    "plt.show()"
   ]
  },
  {
   "cell_type": "code",
   "execution_count": 9,
   "id": "c9329060",
   "metadata": {},
   "outputs": [],
   "source": [
    "# corpus data\n",
    "train_corpus = list(train_sample)\n",
    "test_corpus = list(test_sample)"
   ]
  },
  {
   "cell_type": "code",
   "execution_count": 10,
   "id": "fa440d23",
   "metadata": {},
   "outputs": [],
   "source": [
    "# set word2vec\n",
    "num_features = 120   # 단어 벡터 차원 수\n",
    "min_word_count = 1  # 최소 단어 수\n",
    "context = 5         # 학습 윈도우(인접한 단어 리스트) 크기"
   ]
  },
  {
   "cell_type": "code",
   "execution_count": 11,
   "id": "40f7912e",
   "metadata": {},
   "outputs": [],
   "source": [
    "# 모델 학습\n",
    "w2v = word2vec.Word2Vec(train_corpus, \n",
    "                        vector_size=num_features, \n",
    "                        min_count=min_word_count,\n",
    "                        window=context,\n",
    "                        seed=2022, workers=1)\n",
    "w2v.init_sims(replace=True) # 필요없는 메모리 unload"
   ]
  },
  {
   "cell_type": "code",
   "execution_count": 12,
   "id": "0c6408d0",
   "metadata": {},
   "outputs": [],
   "source": [
    "# 구매상품에 해당하는 벡터의 평균/최소/최대 벡터를 feature로 만드는 전처리기\n",
    "class EmbeddingVectorizer(object):\n",
    "    def __init__(self, word2vec):\n",
    "        self.word2vec = word2vec\n",
    "        self.dim = num_features\n",
    "    def fit(self, X):\n",
    "        return self\n",
    "    def transform(self, X):\n",
    "        return np.array([\n",
    "            np.hstack([\n",
    "                np.max([self.word2vec[w] for w in words if w in self.word2vec] or [np.zeros(self.dim)], axis=0),\n",
    "                np.min([self.word2vec[w] for w in words if w in self.word2vec] or [np.zeros(self.dim)], axis=0),\n",
    "                np.mean([self.word2vec[w] for w in words if w in self.word2vec] or [np.zeros(self.dim)], axis=0),                \n",
    "                #np.std([self.word2vec[w] for w in words if w in self.word2vec] or [np.zeros(self.dim)], axis=0)                \n",
    "            ]) \n",
    "            for words in X\n",
    "        ]) \n",
    "\n",
    "# W2V 기반 feature 생성\n",
    "train_features = pd.DataFrame(EmbeddingVectorizer(w2v.wv).fit(train_corpus).transform(train_corpus))\n",
    "test_features = pd.DataFrame(EmbeddingVectorizer(w2v.wv).transform(test_corpus))"
   ]
  },
  {
   "cell_type": "code",
   "execution_count": 13,
   "id": "33e4df6e",
   "metadata": {
    "scrolled": true
   },
   "outputs": [],
   "source": [
    "# save data\n",
    "train_features.columns = ['vgoodcd'+f'{c+1:03d}' for c in train_features.columns]\n",
    "test_features.columns = ['vgoodcd'+f'{c+1:03d}' for c in test_features.columns]\n",
    "\n",
    "w2v_train = pd.concat([w2v_train, train_features], axis=1)\n",
    "w2v_test = pd.concat([w2v_test, test_features], axis=1)"
   ]
  },
  {
   "cell_type": "markdown",
   "id": "996e2f0e",
   "metadata": {},
   "source": [
    "- **[brd_nm]**"
   ]
  },
  {
   "cell_type": "code",
   "execution_count": 14,
   "id": "f806fbce",
   "metadata": {},
   "outputs": [],
   "source": [
    "p_level = 'brd_nm'  "
   ]
  },
  {
   "cell_type": "code",
   "execution_count": 15,
   "id": "6f485f31",
   "metadata": {},
   "outputs": [],
   "source": [
    "# W2V 학습데이터가 부족하여 구매한 상품 목록으로부터 n배 oversampling, 복원추출을 수행한다.\n",
    "def oversample(x, n, seed=2022):\n",
    "    if n == 0:\n",
    "        return list(x)\n",
    "    uw = np.unique(x)\n",
    "    bs = np.array([])\n",
    "    np.random.seed(seed)\n",
    "    for j in range(n):\n",
    "        bs = np.append(bs, np.random.choice(uw, len(uw), replace=True))  \n",
    "    return list(bs)"
   ]
  },
  {
   "cell_type": "code",
   "execution_count": 16,
   "id": "cd903308",
   "metadata": {},
   "outputs": [],
   "source": [
    "train_sample = train.groupby('custid')[p_level].agg(oversample, 30)\n",
    "test_sample = test.groupby('custid')[p_level].agg(oversample, 30)"
   ]
  },
  {
   "cell_type": "code",
   "execution_count": 17,
   "id": "392e49a9",
   "metadata": {},
   "outputs": [
    {
     "name": "stdout",
     "output_type": "stream",
     "text": [
      "train mode:  120\n",
      "test mode:  120\n"
     ]
    }
   ],
   "source": [
    "print('train mode: ',train_sample.apply(lambda x: len(x)).mode()[0])\n",
    "print('test mode: ',test_sample.apply(lambda x: len(x)).mode()[0])"
   ]
  },
  {
   "cell_type": "code",
   "execution_count": 18,
   "id": "f01a1aa0",
   "metadata": {},
   "outputs": [
    {
     "data": {
      "image/png": "[encoded data removed]",
      "text/plain": [
       "<Figure size 576x288 with 2 Axes>"
      ]
     },
     "metadata": {
      "needs_background": "light"
     },
     "output_type": "display_data"
    }
   ],
   "source": [
    "fig, ax = plt.subplots(1,2, figsize=(8,4))\n",
    "sns.violinplot(train_sample.apply(lambda x: len(x)), color='grey', ax=ax[0])\n",
    "sns.violinplot(test_sample.apply(lambda x: len(x)), color='grey', ax=ax[1])\n",
    "plt.show()"
   ]
  },
  {
   "cell_type": "code",
   "execution_count": 19,
   "id": "fb73c17b",
   "metadata": {},
   "outputs": [],
   "source": [
    "# corpus data\n",
    "train_corpus = list(train_sample)\n",
    "test_corpus = list(test_sample)"
   ]
  },
  {
   "cell_type": "code",
   "execution_count": 20,
   "id": "d6785dd3",
   "metadata": {},
   "outputs": [],
   "source": [
    "# set word2vec\n",
    "num_features = 120   # 단어 벡터 차원 수\n",
    "min_word_count = 1  # 최소 단어 수\n",
    "context = 5         # 학습 윈도우(인접한 단어 리스트) 크기"
   ]
  },
  {
   "cell_type": "code",
   "execution_count": 21,
   "id": "1041f98d",
   "metadata": {},
   "outputs": [],
   "source": [
    "# 모델 학습\n",
    "w2v = word2vec.Word2Vec(train_corpus, \n",
    "                        vector_size=num_features, \n",
    "                        min_count=min_word_count,\n",
    "                        window=context,\n",
    "                        seed=2022, workers=1)\n",
    "w2v.init_sims(replace=True) # 필요없는 메모리 unload"
   ]
  },
  {
   "cell_type": "code",
   "execution_count": 22,
   "id": "4ca5d774",
   "metadata": {},
   "outputs": [],
   "source": [
    "# 구매상품에 해당하는 벡터의 평균/최소/최대 벡터를 feature로 만드는 전처리기\n",
    "class EmbeddingVectorizer(object):\n",
    "    def __init__(self, word2vec):\n",
    "        self.word2vec = word2vec\n",
    "        self.dim = num_features\n",
    "    def fit(self, X):\n",
    "        return self\n",
    "    def transform(self, X):\n",
    "        return np.array([\n",
    "            np.hstack([\n",
    "                np.max([self.word2vec[w] for w in words if w in self.word2vec] or [np.zeros(self.dim)], axis=0),\n",
    "                np.min([self.word2vec[w] for w in words if w in self.word2vec] or [np.zeros(self.dim)], axis=0),\n",
    "                np.mean([self.word2vec[w] for w in words if w in self.word2vec] or [np.zeros(self.dim)], axis=0),                \n",
    "                #np.std([self.word2vec[w] for w in words if w in self.word2vec] or [np.zeros(self.dim)], axis=0)                \n",
    "            ]) \n",
    "            for words in X\n",
    "        ]) \n",
    "\n",
    "# W2V 기반 feature 생성\n",
    "train_features = pd.DataFrame(EmbeddingVectorizer(w2v.wv).fit(train_corpus).transform(train_corpus))\n",
    "test_features = pd.DataFrame(EmbeddingVectorizer(w2v.wv).transform(test_corpus))"
   ]
  },
  {
   "cell_type": "code",
   "execution_count": 23,
   "id": "f007b135",
   "metadata": {
    "scrolled": true
   },
   "outputs": [],
   "source": [
    "# save data\n",
    "train_features.columns = ['vbrdnm'+f'{c+1:03d}' for c in train_features.columns]\n",
    "test_features.columns = ['vbrdnm'+f'{c+1:03d}' for c in test_features.columns]\n",
    "\n",
    "w2v_train = pd.concat([w2v_train, train_features], axis=1)\n",
    "w2v_test = pd.concat([w2v_test, test_features], axis=1)"
   ]
  },
  {
   "cell_type": "markdown",
   "id": "82251ac4",
   "metadata": {},
   "source": [
    "- **[corner_nm]**"
   ]
  },
  {
   "cell_type": "code",
   "execution_count": 24,
   "id": "c53271e1",
   "metadata": {},
   "outputs": [],
   "source": [
    "p_level = 'corner_nm'  "
   ]
  },
  {
   "cell_type": "code",
   "execution_count": 25,
   "id": "eeb2e3f4",
   "metadata": {},
   "outputs": [],
   "source": [
    "# W2V 학습데이터가 부족하여 구매한 상품 목록으로부터 n배 oversampling, 복원추출을 수행한다.\n",
    "def oversample(x, n, seed=2022):\n",
    "    if n == 0:\n",
    "        return list(x)\n",
    "    uw = np.unique(x)\n",
    "    bs = np.array([])\n",
    "    np.random.seed(seed)\n",
    "    for j in range(n):\n",
    "        bs = np.append(bs, np.random.choice(uw, len(uw), replace=True))  \n",
    "    return list(bs)"
   ]
  },
  {
   "cell_type": "code",
   "execution_count": 26,
   "id": "0c591a2f",
   "metadata": {},
   "outputs": [],
   "source": [
    "train_sample = train.groupby('custid')[p_level].agg(oversample, 20)\n",
    "test_sample = test.groupby('custid')[p_level].agg(oversample, 20)"
   ]
  },
  {
   "cell_type": "code",
   "execution_count": 27,
   "id": "f2842a17",
   "metadata": {},
   "outputs": [
    {
     "name": "stdout",
     "output_type": "stream",
     "text": [
      "train mode:  80\n",
      "test mode:  120\n"
     ]
    }
   ],
   "source": [
    "print('train mode: ',train_sample.apply(lambda x: len(x)).mode()[0])\n",
    "print('test mode: ',test_sample.apply(lambda x: len(x)).mode()[0])"
   ]
  },
  {
   "cell_type": "code",
   "execution_count": 28,
   "id": "69736842",
   "metadata": {},
   "outputs": [
    {
     "data": {
      "image/png": "[encoded data removed]",
      "text/plain": [
       "<Figure size 576x288 with 2 Axes>"
      ]
     },
     "metadata": {
      "needs_background": "light"
     },
     "output_type": "display_data"
    }
   ],
   "source": [
    "fig, ax = plt.subplots(1,2, figsize=(8,4))\n",
    "sns.violinplot(train_sample.apply(lambda x: len(x)), color='grey', ax=ax[0])\n",
    "sns.violinplot(test_sample.apply(lambda x: len(x)), color='grey', ax=ax[1])\n",
    "plt.show()"
   ]
  },
  {
   "cell_type": "code",
   "execution_count": 29,
   "id": "1827483b",
   "metadata": {},
   "outputs": [],
   "source": [
    "# corpus data\n",
    "train_corpus = list(train_sample)\n",
    "test_corpus = list(test_sample)"
   ]
  },
  {
   "cell_type": "code",
   "execution_count": 30,
   "id": "bab18fd3",
   "metadata": {},
   "outputs": [],
   "source": [
    "# set word2vec\n",
    "num_features = 100   # 단어 벡터 차원 수\n",
    "min_word_count = 1   # 최소 단어 수\n",
    "context = 5          # 학습 윈도우(인접한 단어 리스트) 크기"
   ]
  },
  {
   "cell_type": "code",
   "execution_count": 31,
   "id": "2b07ba6f",
   "metadata": {},
   "outputs": [],
   "source": [
    "# 모델 학습\n",
    "w2v = word2vec.Word2Vec(train_corpus, \n",
    "                        vector_size=num_features, \n",
    "                        min_count=min_word_count,\n",
    "                        window=context,\n",
    "                        seed=2022, workers=1)\n",
    "w2v.init_sims(replace=True) # 필요없는 메모리 unload"
   ]
  },
  {
   "cell_type": "code",
   "execution_count": 32,
   "id": "876b9557",
   "metadata": {},
   "outputs": [],
   "source": [
    "# 구매상품에 해당하는 벡터의 평균/최소/최대 벡터를 feature로 만드는 전처리기\n",
    "class EmbeddingVectorizer(object):\n",
    "    def __init__(self, word2vec):\n",
    "        self.word2vec = word2vec\n",
    "        self.dim = num_features\n",
    "    def fit(self, X):\n",
    "        return self\n",
    "    def transform(self, X):\n",
    "        return np.array([\n",
    "            np.hstack([\n",
    "                np.max([self.word2vec[w] for w in words if w in self.word2vec] or [np.zeros(self.dim)], axis=0),\n",
    "                np.min([self.word2vec[w] for w in words if w in self.word2vec] or [np.zeros(self.dim)], axis=0),\n",
    "                np.mean([self.word2vec[w] for w in words if w in self.word2vec] or [np.zeros(self.dim)], axis=0),                \n",
    "                #np.std([self.word2vec[w] for w in words if w in self.word2vec] or [np.zeros(self.dim)], axis=0)                \n",
    "            ]) \n",
    "            for words in X\n",
    "        ]) \n",
    "\n",
    "# W2V 기반 feature 생성\n",
    "train_features = pd.DataFrame(EmbeddingVectorizer(w2v.wv).fit(train_corpus).transform(train_corpus))\n",
    "test_features = pd.DataFrame(EmbeddingVectorizer(w2v.wv).transform(test_corpus))"
   ]
  },
  {
   "cell_type": "code",
   "execution_count": 33,
   "id": "b221c7eb",
   "metadata": {
    "scrolled": true
   },
   "outputs": [],
   "source": [
    "# save data\n",
    "train_features.columns = ['vcornernm'+f'{c+1:03d}' for c in train_features.columns]\n",
    "test_features.columns = ['vcornernm'+f'{c+1:03d}' for c in test_features.columns]\n",
    "\n",
    "w2v_train = pd.concat([w2v_train, train_features], axis=1)\n",
    "w2v_test = pd.concat([w2v_test, test_features], axis=1)"
   ]
  },
  {
   "cell_type": "markdown",
   "id": "d95e7e91",
   "metadata": {},
   "source": [
    "- **[pc_nm]**"
   ]
  },
  {
   "cell_type": "code",
   "execution_count": 34,
   "id": "4019f4bc",
   "metadata": {},
   "outputs": [],
   "source": [
    "p_level = 'pc_nm'  "
   ]
  },
  {
   "cell_type": "code",
   "execution_count": 35,
   "id": "406387ad",
   "metadata": {},
   "outputs": [],
   "source": [
    "# W2V 학습데이터가 부족하여 구매한 상품 목록으로부터 n배 oversampling, 복원추출을 수행한다.\n",
    "def oversample(x, n, seed=2022):\n",
    "    if n == 0:\n",
    "        return list(x)\n",
    "    uw = np.unique(x)\n",
    "    bs = np.array([])\n",
    "    np.random.seed(seed)\n",
    "    for j in range(n):\n",
    "        bs = np.append(bs, np.random.choice(uw, len(uw), replace=True))  \n",
    "    return list(bs)"
   ]
  },
  {
   "cell_type": "code",
   "execution_count": 36,
   "id": "bce2835a",
   "metadata": {},
   "outputs": [],
   "source": [
    "train_sample = train.groupby('custid')[p_level].agg(oversample, 18)\n",
    "test_sample = test.groupby('custid')[p_level].agg(oversample, 18)"
   ]
  },
  {
   "cell_type": "code",
   "execution_count": 37,
   "id": "8b5f369c",
   "metadata": {},
   "outputs": [
    {
     "name": "stdout",
     "output_type": "stream",
     "text": [
      "train mode:  126\n",
      "test mode:  72\n"
     ]
    }
   ],
   "source": [
    "print('train mode: ',train_sample.apply(lambda x: len(x)).mode()[0])\n",
    "print('test mode: ',test_sample.apply(lambda x: len(x)).mode()[0])"
   ]
  },
  {
   "cell_type": "code",
   "execution_count": 38,
   "id": "982701a3",
   "metadata": {},
   "outputs": [
    {
     "data": {
      "image/png": "[encoded data removed]",
      "text/plain": [
       "<Figure size 576x288 with 2 Axes>"
      ]
     },
     "metadata": {
      "needs_background": "light"
     },
     "output_type": "display_data"
    }
   ],
   "source": [
    "fig, ax = plt.subplots(1,2, figsize=(8,4))\n",
    "sns.violinplot(train_sample.apply(lambda x: len(x)), color='grey', ax=ax[0])\n",
    "sns.violinplot(test_sample.apply(lambda x: len(x)), color='grey', ax=ax[1])\n",
    "plt.show()"
   ]
  },
  {
   "cell_type": "code",
   "execution_count": 39,
   "id": "600754cf",
   "metadata": {},
   "outputs": [],
   "source": [
    "# corpus data\n",
    "train_corpus = list(train_sample)\n",
    "test_corpus = list(test_sample)"
   ]
  },
  {
   "cell_type": "code",
   "execution_count": 40,
   "id": "d3079284",
   "metadata": {},
   "outputs": [],
   "source": [
    "# set word2vec\n",
    "num_features = 100   # 단어 벡터 차원 수\n",
    "min_word_count = 1   # 최소 단어 수\n",
    "context = 5          # 학습 윈도우(인접한 단어 리스트) 크기"
   ]
  },
  {
   "cell_type": "code",
   "execution_count": 41,
   "id": "dd983968",
   "metadata": {},
   "outputs": [],
   "source": [
    "# 모델 학습\n",
    "w2v = word2vec.Word2Vec(train_corpus, \n",
    "                        vector_size=num_features, \n",
    "                        min_count=min_word_count,\n",
    "                        window=context,\n",
    "                        seed=2022, workers=1)\n",
    "w2v.init_sims(replace=True) # 필요없는 메모리 unload"
   ]
  },
  {
   "cell_type": "code",
   "execution_count": 42,
   "id": "f933b6a1",
   "metadata": {},
   "outputs": [],
   "source": [
    "# 구매상품에 해당하는 벡터의 평균/최소/최대 벡터를 feature로 만드는 전처리기\n",
    "class EmbeddingVectorizer(object):\n",
    "    def __init__(self, word2vec):\n",
    "        self.word2vec = word2vec\n",
    "        self.dim = num_features\n",
    "    def fit(self, X):\n",
    "        return self\n",
    "    def transform(self, X):\n",
    "        return np.array([\n",
    "            np.hstack([\n",
    "                np.max([self.word2vec[w] for w in words if w in self.word2vec] or [np.zeros(self.dim)], axis=0),\n",
    "                np.min([self.word2vec[w] for w in words if w in self.word2vec] or [np.zeros(self.dim)], axis=0),\n",
    "                np.mean([self.word2vec[w] for w in words if w in self.word2vec] or [np.zeros(self.dim)], axis=0),                \n",
    "                #np.std([self.word2vec[w] for w in words if w in self.word2vec] or [np.zeros(self.dim)], axis=0)                \n",
    "            ]) \n",
    "            for words in X\n",
    "        ]) \n",
    "\n",
    "# W2V 기반 feature 생성\n",
    "train_features = pd.DataFrame(EmbeddingVectorizer(w2v.wv).fit(train_corpus).transform(train_corpus))\n",
    "test_features = pd.DataFrame(EmbeddingVectorizer(w2v.wv).transform(test_corpus))"
   ]
  },
  {
   "cell_type": "code",
   "execution_count": 43,
   "id": "19cadd79",
   "metadata": {
    "scrolled": true
   },
   "outputs": [],
   "source": [
    "# save data\n",
    "train_features.columns = ['vpcnm'+f'{c+1:03d}' for c in train_features.columns]\n",
    "test_features.columns = ['vpcnm'+f'{c+1:03d}' for c in test_features.columns]\n",
    "\n",
    "w2v_train = pd.concat([w2v_train, train_features], axis=1)\n",
    "w2v_test = pd.concat([w2v_test, test_features], axis=1)"
   ]
  },
  {
   "cell_type": "markdown",
   "id": "6d7fb8f2",
   "metadata": {},
   "source": [
    "- **[part_nm]**"
   ]
  },
  {
   "cell_type": "code",
   "execution_count": 44,
   "id": "de6a756d",
   "metadata": {},
   "outputs": [],
   "source": [
    "p_level = 'part_nm'  "
   ]
  },
  {
   "cell_type": "code",
   "execution_count": 45,
   "id": "98a8b6e5",
   "metadata": {},
   "outputs": [],
   "source": [
    "# W2V 학습데이터가 부족하여 구매한 상품 목록으로부터 n배 oversampling, 복원추출을 수행한다.\n",
    "def oversample(x, n, seed=2022):\n",
    "    if n == 0:\n",
    "        return list(x)\n",
    "    uw = np.unique(x)\n",
    "    bs = np.array([])\n",
    "    np.random.seed(seed)\n",
    "    for j in range(n):\n",
    "        bs = np.append(bs, np.random.choice(uw, len(uw), replace=True))  \n",
    "    return list(bs)"
   ]
  },
  {
   "cell_type": "code",
   "execution_count": 46,
   "id": "0a17a2c7",
   "metadata": {},
   "outputs": [],
   "source": [
    "train_sample = train.groupby('custid')[p_level].agg(oversample, 18)\n",
    "test_sample = test.groupby('custid')[p_level].agg(oversample, 18)"
   ]
  },
  {
   "cell_type": "code",
   "execution_count": 47,
   "id": "250ad6a2",
   "metadata": {},
   "outputs": [
    {
     "name": "stdout",
     "output_type": "stream",
     "text": [
      "train mode:  108\n",
      "test mode:  90\n"
     ]
    }
   ],
   "source": [
    "print('train mode: ',train_sample.apply(lambda x: len(x)).mode()[0])\n",
    "print('test mode: ',test_sample.apply(lambda x: len(x)).mode()[0])"
   ]
  },
  {
   "cell_type": "code",
   "execution_count": 48,
   "id": "4605886b",
   "metadata": {},
   "outputs": [
    {
     "data": {
      "image/png": "[encoded data removed]",
      "text/plain": [
       "<Figure size 576x288 with 2 Axes>"
      ]
     },
     "metadata": {
      "needs_background": "light"
     },
     "output_type": "display_data"
    }
   ],
   "source": [
    "fig, ax = plt.subplots(1,2, figsize=(8,4))\n",
    "sns.violinplot(train_sample.apply(lambda x: len(x)), color='grey', ax=ax[0])\n",
    "sns.violinplot(test_sample.apply(lambda x: len(x)), color='grey', ax=ax[1])\n",
    "plt.show()"
   ]
  },
  {
   "cell_type": "code",
   "execution_count": 49,
   "id": "e66b12ce",
   "metadata": {},
   "outputs": [],
   "source": [
    "# corpus data\n",
    "train_corpus = list(train_sample)\n",
    "test_corpus = list(test_sample)"
   ]
  },
  {
   "cell_type": "code",
   "execution_count": 50,
   "id": "f1fc1b7a",
   "metadata": {},
   "outputs": [],
   "source": [
    "# set word2vec\n",
    "num_features = 100   # 단어 벡터 차원 수\n",
    "min_word_count = 1   # 최소 단어 수\n",
    "context = 5          # 학습 윈도우(인접한 단어 리스트) 크기"
   ]
  },
  {
   "cell_type": "code",
   "execution_count": 51,
   "id": "b107b155",
   "metadata": {},
   "outputs": [],
   "source": [
    "# 모델 학습\n",
    "w2v = word2vec.Word2Vec(train_corpus, \n",
    "                        vector_size=num_features, \n",
    "                        min_count=min_word_count,\n",
    "                        window=context,\n",
    "                        seed=2022, workers=1)\n",
    "w2v.init_sims(replace=True) # 필요없는 메모리 unload"
   ]
  },
  {
   "cell_type": "code",
   "execution_count": 52,
   "id": "0bf6bf99",
   "metadata": {},
   "outputs": [],
   "source": [
    "# 구매상품에 해당하는 벡터의 평균/최소/최대 벡터를 feature로 만드는 전처리기\n",
    "class EmbeddingVectorizer(object):\n",
    "    def __init__(self, word2vec):\n",
    "        self.word2vec = word2vec\n",
    "        self.dim = num_features\n",
    "    def fit(self, X):\n",
    "        return self\n",
    "    def transform(self, X):\n",
    "        return np.array([\n",
    "            np.hstack([\n",
    "                np.max([self.word2vec[w] for w in words if w in self.word2vec] or [np.zeros(self.dim)], axis=0),\n",
    "                np.min([self.word2vec[w] for w in words if w in self.word2vec] or [np.zeros(self.dim)], axis=0),\n",
    "                np.mean([self.word2vec[w] for w in words if w in self.word2vec] or [np.zeros(self.dim)], axis=0),                \n",
    "                #np.std([self.word2vec[w] for w in words if w in self.word2vec] or [np.zeros(self.dim)], axis=0)                \n",
    "            ]) \n",
    "            for words in X\n",
    "        ]) \n",
    "\n",
    "# W2V 기반 feature 생성\n",
    "train_features = pd.DataFrame(EmbeddingVectorizer(w2v.wv).fit(train_corpus).transform(train_corpus))\n",
    "test_features = pd.DataFrame(EmbeddingVectorizer(w2v.wv).transform(test_corpus))"
   ]
  },
  {
   "cell_type": "code",
   "execution_count": 53,
   "id": "0790c00b",
   "metadata": {
    "scrolled": true
   },
   "outputs": [],
   "source": [
    "# save data\n",
    "train_features.columns = ['vpartnm'+f'{c+1:03d}' for c in train_features.columns]\n",
    "test_features.columns = ['vpartnm'+f'{c+1:03d}' for c in test_features.columns]\n",
    "\n",
    "w2v_train = pd.concat([w2v_train, train_features], axis=1)\n",
    "w2v_test = pd.concat([w2v_test, test_features], axis=1)"
   ]
  },
  {
   "cell_type": "markdown",
   "id": "7eef14c0",
   "metadata": {},
   "source": [
    "- **[buyer_nm]**"
   ]
  },
  {
   "cell_type": "code",
   "execution_count": 54,
   "id": "b78d456d",
   "metadata": {},
   "outputs": [],
   "source": [
    "p_level = 'buyer_nm'  "
   ]
  },
  {
   "cell_type": "code",
   "execution_count": 55,
   "id": "8b0b55f1",
   "metadata": {},
   "outputs": [],
   "source": [
    "# W2V 학습데이터가 부족하여 구매한 상품 목록으로부터 n배 oversampling, 복원추출을 수행한다.\n",
    "def oversample(x, n, seed=2022):\n",
    "    if n == 0:\n",
    "        return list(x)\n",
    "    uw = np.unique(x)\n",
    "    bs = np.array([])\n",
    "    np.random.seed(seed)\n",
    "    for j in range(n):\n",
    "        bs = np.append(bs, np.random.choice(uw, len(uw), replace=True))  \n",
    "    return list(bs)"
   ]
  },
  {
   "cell_type": "code",
   "execution_count": 56,
   "id": "99956093",
   "metadata": {},
   "outputs": [],
   "source": [
    "train_sample = train.groupby('custid')[p_level].agg(oversample, 17)\n",
    "test_sample = test.groupby('custid')[p_level].agg(oversample, 17)"
   ]
  },
  {
   "cell_type": "code",
   "execution_count": 57,
   "id": "c33cc788",
   "metadata": {},
   "outputs": [
    {
     "name": "stdout",
     "output_type": "stream",
     "text": [
      "train mode:  102\n",
      "test mode:  102\n"
     ]
    }
   ],
   "source": [
    "print('train mode: ',train_sample.apply(lambda x: len(x)).mode()[0])\n",
    "print('test mode: ',test_sample.apply(lambda x: len(x)).mode()[0])"
   ]
  },
  {
   "cell_type": "code",
   "execution_count": 58,
   "id": "1ae546b2",
   "metadata": {},
   "outputs": [
    {
     "data": {
      "image/png": "[encoded data removed]",
      "text/plain": [
       "<Figure size 576x288 with 2 Axes>"
      ]
     },
     "metadata": {
      "needs_background": "light"
     },
     "output_type": "display_data"
    }
   ],
   "source": [
    "fig, ax = plt.subplots(1,2, figsize=(8,4))\n",
    "sns.violinplot(train_sample.apply(lambda x: len(x)), color='grey', ax=ax[0])\n",
    "sns.violinplot(test_sample.apply(lambda x: len(x)), color='grey', ax=ax[1])\n",
    "plt.show()"
   ]
  },
  {
   "cell_type": "code",
   "execution_count": 59,
   "id": "c5a72460",
   "metadata": {},
   "outputs": [],
   "source": [
    "# corpus data\n",
    "train_corpus = list(train_sample)\n",
    "test_corpus = list(test_sample)"
   ]
  },
  {
   "cell_type": "code",
   "execution_count": 60,
   "id": "3066d6fe",
   "metadata": {},
   "outputs": [],
   "source": [
    "# set word2vec\n",
    "num_features = 100   # 단어 벡터 차원 수\n",
    "min_word_count = 1   # 최소 단어 수\n",
    "context = 5          # 학습 윈도우(인접한 단어 리스트) 크기"
   ]
  },
  {
   "cell_type": "code",
   "execution_count": 61,
   "id": "b29d2f39",
   "metadata": {},
   "outputs": [],
   "source": [
    "# 모델 학습\n",
    "w2v = word2vec.Word2Vec(train_corpus, \n",
    "                        vector_size=num_features, \n",
    "                        min_count=min_word_count,\n",
    "                        window=context,\n",
    "                        seed=2022, workers=1)\n",
    "w2v.init_sims(replace=True) # 필요없는 메모리 unload"
   ]
  },
  {
   "cell_type": "code",
   "execution_count": 62,
   "id": "f2a8b231",
   "metadata": {},
   "outputs": [],
   "source": [
    "# 구매상품에 해당하는 벡터의 평균/최소/최대 벡터를 feature로 만드는 전처리기\n",
    "class EmbeddingVectorizer(object):\n",
    "    def __init__(self, word2vec):\n",
    "        self.word2vec = word2vec\n",
    "        self.dim = num_features\n",
    "    def fit(self, X):\n",
    "        return self\n",
    "    def transform(self, X):\n",
    "        return np.array([\n",
    "            np.hstack([\n",
    "                np.max([self.word2vec[w] for w in words if w in self.word2vec] or [np.zeros(self.dim)], axis=0),\n",
    "                np.min([self.word2vec[w] for w in words if w in self.word2vec] or [np.zeros(self.dim)], axis=0),\n",
    "                np.mean([self.word2vec[w] for w in words if w in self.word2vec] or [np.zeros(self.dim)], axis=0),                \n",
    "                #np.std([self.word2vec[w] for w in words if w in self.word2vec] or [np.zeros(self.dim)], axis=0)                \n",
    "            ]) \n",
    "            for words in X\n",
    "        ]) \n",
    "\n",
    "# W2V 기반 feature 생성\n",
    "train_features = pd.DataFrame(EmbeddingVectorizer(w2v.wv).fit(train_corpus).transform(train_corpus))\n",
    "test_features = pd.DataFrame(EmbeddingVectorizer(w2v.wv).transform(test_corpus))"
   ]
  },
  {
   "cell_type": "code",
   "execution_count": 63,
   "id": "dd39aef6",
   "metadata": {
    "scrolled": true
   },
   "outputs": [],
   "source": [
    "# save data\n",
    "train_features.columns = ['vbuyernm'+f'{c+1:03d}' for c in train_features.columns]\n",
    "test_features.columns = ['vbuyernm'+f'{c+1:03d}' for c in test_features.columns]\n",
    "\n",
    "w2v_train = pd.concat([w2v_train, train_features], axis=1)\n",
    "w2v_test = pd.concat([w2v_test, test_features], axis=1)"
   ]
  },
  {
   "cell_type": "markdown",
   "id": "8d822f7b",
   "metadata": {},
   "source": [
    "### Save Data"
   ]
  },
  {
   "cell_type": "code",
   "execution_count": 64,
   "id": "c9c8578f",
   "metadata": {},
   "outputs": [],
   "source": [
    "w2v_train.to_csv(path+'/feature_train_W2V.csv', index=False, encoding='cp949')\n",
    "w2v_test.to_csv(path+'/feature_test_W2V.csv', index=False, encoding='cp949')"
   ]
  },
  {
   "cell_type": "code",
   "execution_count": null,
   "id": "1771483a",
   "metadata": {},
   "outputs": [],
   "source": []
  }
 ],
 "metadata": {
  "kernelspec": {
   "display_name": "Python 3 (ipykernel)",
   "language": "python",
   "name": "python3"
  },
  "language_info": {
   "codemirror_mode": {
    "name": "ipython",
    "version": 3
   },
   "file_extension": ".py",
   "mimetype": "text/x-python",
   "name": "python",
   "nbconvert_exporter": "python",
   "pygments_lexer": "ipython3",
   "version": "3.9.7"
  }
 },
 "nbformat": 4,
 "nbformat_minor": 5
}
