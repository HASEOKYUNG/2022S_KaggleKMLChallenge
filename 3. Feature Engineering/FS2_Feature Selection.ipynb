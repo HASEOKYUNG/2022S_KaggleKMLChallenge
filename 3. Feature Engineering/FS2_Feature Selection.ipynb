{
 "cells": [
  {
   "cell_type": "markdown",
   "id": "d66b1b6a",
   "metadata": {},
   "source": [
    "# 3(5)(134). Feature Selection"
   ]
  },
  {
   "cell_type": "markdown",
   "id": "ce61110a",
   "metadata": {},
   "source": [
    "### Imports"
   ]
  },
  {
   "cell_type": "code",
   "execution_count": 1,
   "id": "5ba322ec",
   "metadata": {},
   "outputs": [],
   "source": [
    "# for read data\n",
    "import os\n",
    "import pandas as pd\n",
    "import warnings; warnings.filterwarnings(\"ignore\")\n",
    "\n",
    "# feature selection\n",
    "from sklearn.model_selection import train_test_split\n",
    "from catboost import CatBoostClassifier \n",
    "from lightgbm import LGBMClassifier \n",
    "\n",
    "# validation\n",
    "from sklearn.model_selection import StratifiedKFold\n",
    "from sklearn.metrics import log_loss, make_scorer"
   ]
  },
  {
   "cell_type": "markdown",
   "id": "1b618736",
   "metadata": {},
   "source": [
    "## Exclude Low Importance Features\n",
    "모든 Feature를 집어넣어 학습시킨 뒤 Feature Importance가 낮은 Feature는 제외하고 Selection을 진행한다."
   ]
  },
  {
   "cell_type": "markdown",
   "id": "40545d08",
   "metadata": {},
   "source": [
    "- **[Catboost]**"
   ]
  },
  {
   "cell_type": "code",
   "execution_count": 2,
   "id": "334f73cd",
   "metadata": {},
   "outputs": [],
   "source": [
    "path = (os.path.abspath(\"./input\"))\n",
    "\n",
    "feature_train1 = pd.read_csv(path +'/feature_train_transformation_1.csv', encoding='cp949')\n",
    "feature_train3 = pd.read_csv(path +'/feature_train_W2V.csv', encoding='cp949')\n",
    "feature_train4 = pd.read_csv(path +'/feature_train_BOW.csv', encoding='cp949')\n",
    "feature_train = pd.merge(feature_train1, feature_train3, on='custid', how='outer')\n",
    "feature_train = pd.merge(feature_train, feature_train4, on='custid', how='outer')\n",
    "\n",
    "feature_test1 = pd.read_csv(path +'/feature_test_transformation_1.csv', encoding='cp949')\n",
    "feature_test3 = pd.read_csv(path +'/feature_test_W2V.csv', encoding='cp949')\n",
    "feature_test4 = pd.read_csv(path +'/feature_test_BOW.csv', encoding='cp949')\n",
    "feature_test = pd.merge(feature_test1, feature_test3, on='custid', how='outer')\n",
    "feature_test = pd.merge(feature_test, feature_test4, on='custid', how='outer')\n",
    "\n",
    "y_train = pd.read_csv(path +'/y_train.csv', encoding='cp949').group\n",
    "\n",
    "del feature_train['custid'], feature_test['custid']"
   ]
  },
  {
   "cell_type": "code",
   "execution_count": 21,
   "id": "37b4f9da",
   "metadata": {},
   "outputs": [],
   "source": [
    "X_train, X_dev, y__train, y_dev = train_test_split(feature_train, y_train, test_size=0.3, random_state=0)"
   ]
  },
  {
   "cell_type": "code",
   "execution_count": 22,
   "id": "9fcf43bd",
   "metadata": {},
   "outputs": [],
   "source": [
    "# learning_rate만 지정한다.\n",
    "model=CatBoostClassifier(iterations=100, learning_rate=0.03, objective='MultiClass', bootstrap_type ='Bayesian',\n",
    "                           devices='0:1', task_type=\"GPU\", random_state=0)"
   ]
  },
  {
   "cell_type": "code",
   "execution_count": 23,
   "id": "3bd8380d",
   "metadata": {
    "scrolled": true
   },
   "outputs": [
    {
     "name": "stdout",
     "output_type": "stream",
     "text": [
      "0:\tlearn: 2.0507196\ttotal: 12.5ms\tremaining: 1.23s\n",
      "1:\tlearn: 2.0248167\ttotal: 23.5ms\tremaining: 1.15s\n",
      "2:\tlearn: 2.0008893\ttotal: 34.6ms\tremaining: 1.12s\n",
      "3:\tlearn: 1.9799998\ttotal: 45.5ms\tremaining: 1.09s\n",
      "4:\tlearn: 1.9601500\ttotal: 56.7ms\tremaining: 1.08s\n",
      "5:\tlearn: 1.9418501\ttotal: 67.5ms\tremaining: 1.06s\n",
      "6:\tlearn: 1.9242522\ttotal: 78.6ms\tremaining: 1.04s\n",
      "7:\tlearn: 1.9077793\ttotal: 89.6ms\tremaining: 1.03s\n",
      "8:\tlearn: 1.8928060\ttotal: 100ms\tremaining: 1.02s\n",
      "9:\tlearn: 1.8788363\ttotal: 111ms\tremaining: 1s\n",
      "10:\tlearn: 1.8655935\ttotal: 123ms\tremaining: 991ms\n",
      "11:\tlearn: 1.8534541\ttotal: 134ms\tremaining: 983ms\n",
      "12:\tlearn: 1.8415374\ttotal: 145ms\tremaining: 972ms\n",
      "13:\tlearn: 1.8300213\ttotal: 157ms\tremaining: 962ms\n",
      "14:\tlearn: 1.8190566\ttotal: 168ms\tremaining: 951ms\n",
      "15:\tlearn: 1.8091528\ttotal: 179ms\tremaining: 941ms\n",
      "16:\tlearn: 1.7995277\ttotal: 190ms\tremaining: 929ms\n",
      "17:\tlearn: 1.7903311\ttotal: 201ms\tremaining: 917ms\n",
      "18:\tlearn: 1.7815180\ttotal: 216ms\tremaining: 919ms\n",
      "19:\tlearn: 1.7736232\ttotal: 227ms\tremaining: 906ms\n",
      "20:\tlearn: 1.7656374\ttotal: 237ms\tremaining: 893ms\n",
      "21:\tlearn: 1.7582661\ttotal: 248ms\tremaining: 880ms\n",
      "22:\tlearn: 1.7510798\ttotal: 259ms\tremaining: 866ms\n",
      "23:\tlearn: 1.7440231\ttotal: 270ms\tremaining: 854ms\n",
      "24:\tlearn: 1.7372841\ttotal: 280ms\tremaining: 841ms\n",
      "25:\tlearn: 1.7308511\ttotal: 291ms\tremaining: 829ms\n",
      "26:\tlearn: 1.7247446\ttotal: 302ms\tremaining: 817ms\n",
      "27:\tlearn: 1.7190377\ttotal: 313ms\tremaining: 805ms\n",
      "28:\tlearn: 1.7132793\ttotal: 324ms\tremaining: 793ms\n",
      "29:\tlearn: 1.7078608\ttotal: 335ms\tremaining: 781ms\n",
      "30:\tlearn: 1.7026264\ttotal: 346ms\tremaining: 769ms\n",
      "31:\tlearn: 1.6974951\ttotal: 356ms\tremaining: 757ms\n",
      "32:\tlearn: 1.6924926\ttotal: 367ms\tremaining: 746ms\n",
      "33:\tlearn: 1.6876969\ttotal: 378ms\tremaining: 734ms\n",
      "34:\tlearn: 1.6830593\ttotal: 389ms\tremaining: 722ms\n",
      "35:\tlearn: 1.6785725\ttotal: 400ms\tremaining: 711ms\n",
      "36:\tlearn: 1.6743144\ttotal: 412ms\tremaining: 702ms\n",
      "37:\tlearn: 1.6703093\ttotal: 424ms\tremaining: 692ms\n",
      "38:\tlearn: 1.6663892\ttotal: 435ms\tremaining: 681ms\n",
      "39:\tlearn: 1.6627964\ttotal: 446ms\tremaining: 669ms\n",
      "40:\tlearn: 1.6589429\ttotal: 457ms\tremaining: 657ms\n",
      "41:\tlearn: 1.6553219\ttotal: 467ms\tremaining: 645ms\n",
      "42:\tlearn: 1.6519044\ttotal: 478ms\tremaining: 634ms\n",
      "43:\tlearn: 1.6483813\ttotal: 489ms\tremaining: 622ms\n",
      "44:\tlearn: 1.6449864\ttotal: 500ms\tremaining: 611ms\n",
      "45:\tlearn: 1.6416358\ttotal: 511ms\tremaining: 600ms\n",
      "46:\tlearn: 1.6383931\ttotal: 521ms\tremaining: 588ms\n",
      "47:\tlearn: 1.6352666\ttotal: 532ms\tremaining: 576ms\n",
      "48:\tlearn: 1.6324538\ttotal: 543ms\tremaining: 565ms\n",
      "49:\tlearn: 1.6296901\ttotal: 554ms\tremaining: 554ms\n",
      "50:\tlearn: 1.6267817\ttotal: 564ms\tremaining: 542ms\n",
      "51:\tlearn: 1.6242045\ttotal: 575ms\tremaining: 531ms\n",
      "52:\tlearn: 1.6215963\ttotal: 586ms\tremaining: 519ms\n",
      "53:\tlearn: 1.6189617\ttotal: 596ms\tremaining: 508ms\n",
      "54:\tlearn: 1.6163019\ttotal: 607ms\tremaining: 497ms\n",
      "55:\tlearn: 1.6136967\ttotal: 619ms\tremaining: 486ms\n",
      "56:\tlearn: 1.6110631\ttotal: 630ms\tremaining: 475ms\n",
      "57:\tlearn: 1.6087075\ttotal: 641ms\tremaining: 464ms\n",
      "58:\tlearn: 1.6062862\ttotal: 652ms\tremaining: 453ms\n",
      "59:\tlearn: 1.6039318\ttotal: 663ms\tremaining: 442ms\n",
      "60:\tlearn: 1.6018099\ttotal: 674ms\tremaining: 431ms\n",
      "61:\tlearn: 1.5995587\ttotal: 686ms\tremaining: 420ms\n",
      "62:\tlearn: 1.5972673\ttotal: 697ms\tremaining: 409ms\n",
      "63:\tlearn: 1.5950279\ttotal: 708ms\tremaining: 398ms\n",
      "64:\tlearn: 1.5928178\ttotal: 719ms\tremaining: 387ms\n",
      "65:\tlearn: 1.5905318\ttotal: 730ms\tremaining: 376ms\n",
      "66:\tlearn: 1.5886252\ttotal: 741ms\tremaining: 365ms\n",
      "67:\tlearn: 1.5867123\ttotal: 752ms\tremaining: 354ms\n",
      "68:\tlearn: 1.5845623\ttotal: 763ms\tremaining: 343ms\n",
      "69:\tlearn: 1.5825558\ttotal: 774ms\tremaining: 332ms\n",
      "70:\tlearn: 1.5805155\ttotal: 785ms\tremaining: 321ms\n",
      "71:\tlearn: 1.5784687\ttotal: 797ms\tremaining: 310ms\n",
      "72:\tlearn: 1.5765054\ttotal: 808ms\tremaining: 299ms\n",
      "73:\tlearn: 1.5745857\ttotal: 819ms\tremaining: 288ms\n",
      "74:\tlearn: 1.5727706\ttotal: 830ms\tremaining: 277ms\n",
      "75:\tlearn: 1.5710591\ttotal: 841ms\tremaining: 266ms\n",
      "76:\tlearn: 1.5693237\ttotal: 852ms\tremaining: 255ms\n",
      "77:\tlearn: 1.5675923\ttotal: 864ms\tremaining: 244ms\n",
      "78:\tlearn: 1.5659891\ttotal: 876ms\tremaining: 233ms\n",
      "79:\tlearn: 1.5642004\ttotal: 887ms\tremaining: 222ms\n",
      "80:\tlearn: 1.5625838\ttotal: 897ms\tremaining: 211ms\n",
      "81:\tlearn: 1.5608762\ttotal: 909ms\tremaining: 199ms\n",
      "82:\tlearn: 1.5594339\ttotal: 921ms\tremaining: 189ms\n",
      "83:\tlearn: 1.5579574\ttotal: 932ms\tremaining: 178ms\n",
      "84:\tlearn: 1.5562687\ttotal: 944ms\tremaining: 167ms\n",
      "85:\tlearn: 1.5545880\ttotal: 955ms\tremaining: 155ms\n",
      "86:\tlearn: 1.5530998\ttotal: 966ms\tremaining: 144ms\n",
      "87:\tlearn: 1.5515345\ttotal: 977ms\tremaining: 133ms\n",
      "88:\tlearn: 1.5499860\ttotal: 988ms\tremaining: 122ms\n",
      "89:\tlearn: 1.5483032\ttotal: 999ms\tremaining: 111ms\n",
      "90:\tlearn: 1.5469034\ttotal: 1.01s\tremaining: 99.9ms\n",
      "91:\tlearn: 1.5452912\ttotal: 1.02s\tremaining: 88.8ms\n",
      "92:\tlearn: 1.5437029\ttotal: 1.03s\tremaining: 77.7ms\n",
      "93:\tlearn: 1.5422163\ttotal: 1.04s\tremaining: 66.7ms\n",
      "94:\tlearn: 1.5406920\ttotal: 1.06s\tremaining: 55.6ms\n",
      "95:\tlearn: 1.5392525\ttotal: 1.07s\tremaining: 44.5ms\n",
      "96:\tlearn: 1.5379132\ttotal: 1.08s\tremaining: 33.4ms\n",
      "97:\tlearn: 1.5368417\ttotal: 1.09s\tremaining: 22.2ms\n",
      "98:\tlearn: 1.5353271\ttotal: 1.1s\tremaining: 11.1ms\n",
      "99:\tlearn: 1.5339013\ttotal: 1.11s\tremaining: 0us\n"
     ]
    },
    {
     "data": {
      "text/plain": [
       "<catboost.core.CatBoostClassifier at 0x182588b3070>"
      ]
     },
     "execution_count": 23,
     "metadata": {},
     "output_type": "execute_result"
    }
   ],
   "source": [
    "model.fit(X_train, y__train)"
   ]
  },
  {
   "cell_type": "code",
   "execution_count": 24,
   "id": "d5a3649d",
   "metadata": {
    "scrolled": true
   },
   "outputs": [
    {
     "name": "stdout",
     "output_type": "stream",
     "text": [
      "상위 127개 사용:  1.6020957613253453\n"
     ]
    }
   ],
   "source": [
    "# 전체 Feature 사용: 1.6034232816171814\n",
    "# 상위 211개 사용:  1.602436056352858, redefine_1 결과\n",
    "# 상위 149개 사용:  1.6020110771039615, redefine_2 결과, STOP!\n",
    "# 상위 127개 사용:  1.6020957613253453, redefine_3 결과\n",
    "\n",
    "print(f'상위 {feature_train.shape[1]}개 사용: ',log_loss(y_dev, model.predict_proba(X_dev)))"
   ]
  },
  {
   "cell_type": "code",
   "execution_count": 19,
   "id": "3eabcbe1",
   "metadata": {
    "scrolled": true
   },
   "outputs": [
    {
     "data": {
      "text/plain": [
       "Feature_Importances\n",
       "0.000000               21\n",
       "0.090321                1\n",
       "0.092056                1\n",
       "0.100453                1\n",
       "0.108723                1\n",
       "                       ..\n",
       "2.612200                1\n",
       "3.110287                1\n",
       "3.351606                1\n",
       "5.278293                1\n",
       "9.646181                1\n",
       "Length: 129, dtype: int64"
      ]
     },
     "metadata": {},
     "output_type": "display_data"
    }
   ],
   "source": [
    "# Feature Importance 확인\n",
    "FI = pd.DataFrame({'Feature_Importances':model.feature_importances_})\n",
    "display(FI.value_counts().sort_index())"
   ]
  },
  {
   "cell_type": "code",
   "execution_count": 20,
   "id": "e5610a0b",
   "metadata": {},
   "outputs": [],
   "source": [
    "# redefine features\n",
    "# Log loss가 올라가는 importance 이면 그 사이값 재탐색 후 결정한다.\n",
    "# limit = round(FI.value_counts().sort_index().index[1][0], 6)\n",
    "# redefine_1 = FI.query('Feature_Importances > @limit').index\n",
    "# redefine_2 = FI.query('Feature_Importances > @limit').index\n",
    "# redefine_3 = FI.query('Feature_Importances > @limit').index\n",
    "\n",
    "# feature_train = feature_train.iloc[:, redefine_3]\n",
    "# feature_test = feature_test.iloc[:, redefine_3]"
   ]
  },
  {
   "cell_type": "markdown",
   "id": "561281f7",
   "metadata": {},
   "source": [
    "- **[LGBM]**"
   ]
  },
  {
   "cell_type": "code",
   "execution_count": 43,
   "id": "b2a0f365",
   "metadata": {},
   "outputs": [],
   "source": [
    "feature_train1 = pd.read_csv(path +'/feature_train_transformation_1.csv', encoding='cp949')\n",
    "feature_train3 = pd.read_csv(path +'/feature_train_W2V.csv', encoding='cp949')\n",
    "feature_train4 = pd.read_csv(path +'/feature_train_BOW.csv', encoding='cp949')\n",
    "feature_train = pd.merge(feature_train1, feature_train3, on='custid', how='outer')\n",
    "feature_train = pd.merge(feature_train, feature_train4, on='custid', how='outer')\n",
    "\n",
    "feature_test1 = pd.read_csv(path +'/feature_test_transformation_1.csv', encoding='cp949')\n",
    "feature_test3 = pd.read_csv(path +'/feature_test_W2V.csv', encoding='cp949')\n",
    "feature_test4 = pd.read_csv(path +'/feature_test_BOW.csv', encoding='cp949')\n",
    "feature_test = pd.merge(feature_test1, feature_test3, on='custid', how='outer')\n",
    "feature_test = pd.merge(feature_test, feature_test4, on='custid', how='outer')\n",
    "\n",
    "y_train = pd.read_csv(path +'/y_train.csv', encoding='cp949').group\n",
    "\n",
    "del feature_train['custid'], feature_test['custid']"
   ]
  },
  {
   "cell_type": "code",
   "execution_count": 63,
   "id": "3d56eaa0",
   "metadata": {},
   "outputs": [],
   "source": [
    "X_train, X_dev, y__train, y_dev = train_test_split(feature_train, y_train, test_size=0.3, random_state=0)"
   ]
  },
  {
   "cell_type": "code",
   "execution_count": 64,
   "id": "daa8df1c",
   "metadata": {},
   "outputs": [],
   "source": [
    "# learning_rate만 지정한다.\n",
    "model=LGBMClassifier(learning_rate=0.03,\n",
    "                     objective='multiclass', metrics='multi_logloss', num_gpu=1, random_state=0)"
   ]
  },
  {
   "cell_type": "code",
   "execution_count": 65,
   "id": "eab81086",
   "metadata": {},
   "outputs": [
    {
     "data": {
      "text/plain": [
       "LGBMClassifier(learning_rate=0.03, metrics='multi_logloss', num_gpu=1,\n",
       "               objective='multiclass', random_state=0)"
      ]
     },
     "execution_count": 65,
     "metadata": {},
     "output_type": "execute_result"
    }
   ],
   "source": [
    "model.fit(X_train, y__train)"
   ]
  },
  {
   "cell_type": "code",
   "execution_count": 66,
   "id": "1cd02de6",
   "metadata": {},
   "outputs": [
    {
     "name": "stdout",
     "output_type": "stream",
     "text": [
      "상위 3812개 사용:  1.5848623668352895\n"
     ]
    }
   ],
   "source": [
    "# 전체 Feature 사용: 1.585266831079759\n",
    "# 상위 4757개 사용:  1.5835110258811884, redefine_1 결과\n",
    "# 상위 4135개 사용:  1.5819675888731328, redefine_2 결과, STOP!\n",
    "# 상위 3812개 사용:  1.5848623668352895, redefine_3 결과\n",
    "\n",
    "print(f'상위 {feature_train.shape[1]}개 사용: ',log_loss(y_dev, model.predict_proba(X_dev)))"
   ]
  },
  {
   "cell_type": "code",
   "execution_count": 61,
   "id": "8b794719",
   "metadata": {
    "scrolled": true
   },
   "outputs": [
    {
     "data": {
      "text/plain": [
       "Feature_Importances\n",
       "0                       77\n",
       "1                      246\n",
       "2                      534\n",
       "3                      630\n",
       "4                      645\n",
       "5                      521\n",
       "6                      429\n",
       "7                      291\n",
       "8                      206\n",
       "9                      134\n",
       "10                      82\n",
       "11                      57\n",
       "12                      36\n",
       "13                      36\n",
       "14                      24\n",
       "15                      23\n",
       "16                      14\n",
       "17                      16\n",
       "18                      14\n",
       "19                      11\n",
       "20                       6\n",
       "21                       6\n",
       "22                       6\n",
       "23                       9\n",
       "24                       2\n",
       "25                       5\n",
       "26                       5\n",
       "27                       6\n",
       "28                       2\n",
       "29                       6\n",
       "30                       5\n",
       "31                       6\n",
       "33                       2\n",
       "34                       3\n",
       "35                       1\n",
       "36                       4\n",
       "37                       5\n",
       "38                       2\n",
       "40                       2\n",
       "42                       3\n",
       "44                       1\n",
       "47                       1\n",
       "48                       1\n",
       "49                       2\n",
       "54                       2\n",
       "57                       2\n",
       "60                       1\n",
       "65                       1\n",
       "66                       1\n",
       "72                       1\n",
       "77                       2\n",
       "80                       2\n",
       "83                       2\n",
       "106                      1\n",
       "107                      1\n",
       "111                      1\n",
       "205                      1\n",
       "dtype: int64"
      ]
     },
     "metadata": {},
     "output_type": "display_data"
    }
   ],
   "source": [
    "# Feature Importance 확인\n",
    "FI = pd.DataFrame({'Feature_Importances':model.feature_importances_})\n",
    "display(FI.value_counts().sort_index())"
   ]
  },
  {
   "cell_type": "code",
   "execution_count": 62,
   "id": "029ccd99",
   "metadata": {},
   "outputs": [],
   "source": [
    "# redefine features\n",
    "# Log loss가 올라가는 importance 직전에서 멈춘다.\n",
    "# REDEFINE_1 = FI.query('Feature_Importances > 1').index \n",
    "# REDEFINE_2 = FI.query('Feature_Importances > 1').index \n",
    "# REDEFINE_3 = FI.query('Feature_Importances > 1').index \n",
    "\n",
    "# feature_train = feature_train.iloc[:, REDEFINE_3]\n",
    "# feature_test = feature_test.iloc[:, REDEFINE_3]"
   ]
  },
  {
   "cell_type": "markdown",
   "id": "ef6ea5c7",
   "metadata": {},
   "source": [
    "### $~~~~$ Save data"
   ]
  },
  {
   "cell_type": "code",
   "execution_count": 67,
   "id": "57118962",
   "metadata": {},
   "outputs": [],
   "source": [
    "feature_train1 = pd.read_csv(path +'/feature_train_transformation_1.csv', encoding='cp949')\n",
    "feature_train3 = pd.read_csv(path +'/feature_train_W2V.csv', encoding='cp949')\n",
    "feature_train4 = pd.read_csv(path +'/feature_train_BOW.csv', encoding='cp949')\n",
    "feature_train = pd.merge(feature_train1, feature_train3, on='custid', how='outer')\n",
    "feature_train = pd.merge(feature_train, feature_train4, on='custid', how='outer')\n",
    "\n",
    "feature_test1 = pd.read_csv(path +'/feature_test_transformation_1.csv', encoding='cp949')\n",
    "feature_test3 = pd.read_csv(path +'/feature_test_W2V.csv', encoding='cp949')\n",
    "feature_test4 = pd.read_csv(path +'/feature_test_BOW.csv', encoding='cp949')\n",
    "feature_test = pd.merge(feature_test1, feature_test3, on='custid', how='outer')\n",
    "feature_test = pd.merge(feature_test, feature_test4, on='custid', how='outer')\n",
    "\n",
    "train_ID, test_ID = feature_train.custid, feature_test.custid\n",
    "del feature_train['custid'], feature_test['custid']"
   ]
  },
  {
   "cell_type": "code",
   "execution_count": 68,
   "id": "4fc86c52",
   "metadata": {},
   "outputs": [],
   "source": [
    "# Catboost\n",
    "# logloss: 1.6020110771039615\n",
    "cat_train = pd.concat([train_ID, \n",
    "                       feature_train.iloc[:, redefine_1].iloc[:, redefine_2]], axis=1)\n",
    "cat_train.to_csv(path+'/134.imp_CAT_train.csv', index=False, encoding='cp949')\n",
    "\n",
    "cat_test = pd.concat([test_ID, \n",
    "                      feature_test.iloc[:, redefine_1].iloc[:, redefine_2]], axis=1)\n",
    "cat_test.to_csv(path+'/134.imp_CAT_test.csv', index=False, encoding='cp949')"
   ]
  },
  {
   "cell_type": "code",
   "execution_count": 69,
   "id": "fd291145",
   "metadata": {},
   "outputs": [],
   "source": [
    "# lgbmboost\n",
    "# logloss: 1.5819675888731328\n",
    "lgbm_train = pd.concat([train_ID, feature_train.iloc[:, REDEFINE_1].iloc[:, REDEFINE_2]], axis=1)\n",
    "lgbm_train.to_csv(path+'/134.imp_LGBM_train.csv', index=False, encoding='cp949')\n",
    "\n",
    "lgbm_test = pd.concat([test_ID, feature_test.iloc[:, REDEFINE_1].iloc[:, REDEFINE_2]], axis=1)\n",
    "lgbm_test.to_csv(path+'/134.imp_LGBM_test.csv', index=False, encoding='cp949')"
   ]
  },
  {
   "cell_type": "code",
   "execution_count": null,
   "id": "4b704626",
   "metadata": {},
   "outputs": [],
   "source": []
  }
 ],
 "metadata": {
  "kernelspec": {
   "display_name": "Python 3 (ipykernel)",
   "language": "python",
   "name": "python3"
  },
  "language_info": {
   "codemirror_mode": {
    "name": "ipython",
    "version": 3
   },
   "file_extension": ".py",
   "mimetype": "text/x-python",
   "name": "python",
   "nbconvert_exporter": "python",
   "pygments_lexer": "ipython3",
   "version": "3.9.7"
  }
 },
 "nbformat": 4,
 "nbformat_minor": 5
}
