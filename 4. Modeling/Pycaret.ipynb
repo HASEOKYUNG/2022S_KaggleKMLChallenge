{
 "cells": [
  {
   "cell_type": "markdown",
   "id": "1f520370",
   "metadata": {},
   "source": [
    "## 4(1). Use Pycaret"
   ]
  },
  {
   "cell_type": "markdown",
   "id": "8419a6b0",
   "metadata": {},
   "source": [
    "### Imports"
   ]
  },
  {
   "cell_type": "code",
   "execution_count": 1,
   "id": "b30eecad",
   "metadata": {},
   "outputs": [],
   "source": [
    "# for read data\n",
    "import os\n",
    "import pandas as pd\n",
    "\n",
    "# load pycaret\n",
    "from pycaret.classification import *  "
   ]
  },
  {
   "cell_type": "markdown",
   "id": "c0b14a2b",
   "metadata": {
    "_uuid": "dd7e3527fd56e5b5855c6846ca226f5f860f725b"
   },
   "source": [
    "### Read Data"
   ]
  },
  {
   "cell_type": "code",
   "execution_count": 2,
   "id": "bb0b3d07",
   "metadata": {
    "scrolled": true
   },
   "outputs": [],
   "source": [
    "path = (os.path.abspath(\"./input\"))\n",
    "\n",
    "feature_train = pd.read_csv(path +'/034.imp_LGBM_train.csv', encoding='cp949')\n",
    "y_train = pd.read_csv(path +'/y_train.csv', encoding='cp949').group"
   ]
  },
  {
   "cell_type": "markdown",
   "id": "599c3a29",
   "metadata": {},
   "source": [
    "### Data Preprocessing & Feature Engineering"
   ]
  },
  {
   "cell_type": "code",
   "execution_count": 3,
   "id": "634d3eb3",
   "metadata": {},
   "outputs": [],
   "source": [
    "del feature_train['custid']"
   ]
  },
  {
   "cell_type": "code",
   "execution_count": 4,
   "id": "4e1b1ddc",
   "metadata": {
    "scrolled": false
   },
   "outputs": [
    {
     "data": {
      "text/html": [
       "<style type=\"text/css\">\n",
       "#T_42dcc_row15_col1 {\n",
       "  background-color: lightgreen;\n",
       "}\n",
       "</style>\n",
       "<table id=\"T_42dcc\">\n",
       "  <thead>\n",
       "    <tr>\n",
       "      <th class=\"blank level0\" >&nbsp;</th>\n",
       "      <th id=\"T_42dcc_level0_col0\" class=\"col_heading level0 col0\" >Description</th>\n",
       "      <th id=\"T_42dcc_level0_col1\" class=\"col_heading level0 col1\" >Value</th>\n",
       "    </tr>\n",
       "  </thead>\n",
       "  <tbody>\n",
       "    <tr>\n",
       "      <th id=\"T_42dcc_level0_row0\" class=\"row_heading level0 row0\" >0</th>\n",
       "      <td id=\"T_42dcc_row0_col0\" class=\"data row0 col0\" >session_id</td>\n",
       "      <td id=\"T_42dcc_row0_col1\" class=\"data row0 col1\" >123</td>\n",
       "    </tr>\n",
       "    <tr>\n",
       "      <th id=\"T_42dcc_level0_row1\" class=\"row_heading level0 row1\" >1</th>\n",
       "      <td id=\"T_42dcc_row1_col0\" class=\"data row1 col0\" >Target</td>\n",
       "      <td id=\"T_42dcc_row1_col1\" class=\"data row1 col1\" >group</td>\n",
       "    </tr>\n",
       "    <tr>\n",
       "      <th id=\"T_42dcc_level0_row2\" class=\"row_heading level0 row2\" >2</th>\n",
       "      <td id=\"T_42dcc_row2_col0\" class=\"data row2 col0\" >Target Type</td>\n",
       "      <td id=\"T_42dcc_row2_col1\" class=\"data row2 col1\" >Multiclass</td>\n",
       "    </tr>\n",
       "    <tr>\n",
       "      <th id=\"T_42dcc_level0_row3\" class=\"row_heading level0 row3\" >3</th>\n",
       "      <td id=\"T_42dcc_row3_col0\" class=\"data row3 col0\" >Label Encoded</td>\n",
       "      <td id=\"T_42dcc_row3_col1\" class=\"data row3 col1\" >F20: 0, F30: 1, F40: 2, F50: 3, M20: 4, M30: 5, M40: 6, M50: 7</td>\n",
       "    </tr>\n",
       "    <tr>\n",
       "      <th id=\"T_42dcc_level0_row4\" class=\"row_heading level0 row4\" >4</th>\n",
       "      <td id=\"T_42dcc_row4_col0\" class=\"data row4 col0\" >Original Data</td>\n",
       "      <td id=\"T_42dcc_row4_col1\" class=\"data row4 col1\" >(21587, 4657)</td>\n",
       "    </tr>\n",
       "    <tr>\n",
       "      <th id=\"T_42dcc_level0_row5\" class=\"row_heading level0 row5\" >5</th>\n",
       "      <td id=\"T_42dcc_row5_col0\" class=\"data row5 col0\" >Missing Values</td>\n",
       "      <td id=\"T_42dcc_row5_col1\" class=\"data row5 col1\" >0</td>\n",
       "    </tr>\n",
       "    <tr>\n",
       "      <th id=\"T_42dcc_level0_row6\" class=\"row_heading level0 row6\" >6</th>\n",
       "      <td id=\"T_42dcc_row6_col0\" class=\"data row6 col0\" >Numeric Features</td>\n",
       "      <td id=\"T_42dcc_row6_col1\" class=\"data row6 col1\" >4656</td>\n",
       "    </tr>\n",
       "    <tr>\n",
       "      <th id=\"T_42dcc_level0_row7\" class=\"row_heading level0 row7\" >7</th>\n",
       "      <td id=\"T_42dcc_row7_col0\" class=\"data row7 col0\" >Categorical Features</td>\n",
       "      <td id=\"T_42dcc_row7_col1\" class=\"data row7 col1\" >0</td>\n",
       "    </tr>\n",
       "    <tr>\n",
       "      <th id=\"T_42dcc_level0_row8\" class=\"row_heading level0 row8\" >8</th>\n",
       "      <td id=\"T_42dcc_row8_col0\" class=\"data row8 col0\" >Transformed Train Set</td>\n",
       "      <td id=\"T_42dcc_row8_col1\" class=\"data row8 col1\" >(15110, 4656)</td>\n",
       "    </tr>\n",
       "    <tr>\n",
       "      <th id=\"T_42dcc_level0_row9\" class=\"row_heading level0 row9\" >9</th>\n",
       "      <td id=\"T_42dcc_row9_col0\" class=\"data row9 col0\" >Transformed Test Set</td>\n",
       "      <td id=\"T_42dcc_row9_col1\" class=\"data row9 col1\" >(6477, 4656)</td>\n",
       "    </tr>\n",
       "    <tr>\n",
       "      <th id=\"T_42dcc_level0_row10\" class=\"row_heading level0 row10\" >10</th>\n",
       "      <td id=\"T_42dcc_row10_col0\" class=\"data row10 col0\" >Shuffle Train-Test</td>\n",
       "      <td id=\"T_42dcc_row10_col1\" class=\"data row10 col1\" >True</td>\n",
       "    </tr>\n",
       "    <tr>\n",
       "      <th id=\"T_42dcc_level0_row11\" class=\"row_heading level0 row11\" >11</th>\n",
       "      <td id=\"T_42dcc_row11_col0\" class=\"data row11 col0\" >Stratify Train-Test</td>\n",
       "      <td id=\"T_42dcc_row11_col1\" class=\"data row11 col1\" >False</td>\n",
       "    </tr>\n",
       "    <tr>\n",
       "      <th id=\"T_42dcc_level0_row12\" class=\"row_heading level0 row12\" >12</th>\n",
       "      <td id=\"T_42dcc_row12_col0\" class=\"data row12 col0\" >Fold Generator</td>\n",
       "      <td id=\"T_42dcc_row12_col1\" class=\"data row12 col1\" >StratifiedKFold</td>\n",
       "    </tr>\n",
       "    <tr>\n",
       "      <th id=\"T_42dcc_level0_row13\" class=\"row_heading level0 row13\" >13</th>\n",
       "      <td id=\"T_42dcc_row13_col0\" class=\"data row13 col0\" >Fold Number</td>\n",
       "      <td id=\"T_42dcc_row13_col1\" class=\"data row13 col1\" >10</td>\n",
       "    </tr>\n",
       "    <tr>\n",
       "      <th id=\"T_42dcc_level0_row14\" class=\"row_heading level0 row14\" >14</th>\n",
       "      <td id=\"T_42dcc_row14_col0\" class=\"data row14 col0\" >CPU Jobs</td>\n",
       "      <td id=\"T_42dcc_row14_col1\" class=\"data row14 col1\" >-1</td>\n",
       "    </tr>\n",
       "    <tr>\n",
       "      <th id=\"T_42dcc_level0_row15\" class=\"row_heading level0 row15\" >15</th>\n",
       "      <td id=\"T_42dcc_row15_col0\" class=\"data row15 col0\" >Use GPU</td>\n",
       "      <td id=\"T_42dcc_row15_col1\" class=\"data row15 col1\" >1</td>\n",
       "    </tr>\n",
       "    <tr>\n",
       "      <th id=\"T_42dcc_level0_row16\" class=\"row_heading level0 row16\" >16</th>\n",
       "      <td id=\"T_42dcc_row16_col0\" class=\"data row16 col0\" >Log Experiment</td>\n",
       "      <td id=\"T_42dcc_row16_col1\" class=\"data row16 col1\" >0</td>\n",
       "    </tr>\n",
       "    <tr>\n",
       "      <th id=\"T_42dcc_level0_row17\" class=\"row_heading level0 row17\" >17</th>\n",
       "      <td id=\"T_42dcc_row17_col0\" class=\"data row17 col0\" >Experiment Name</td>\n",
       "      <td id=\"T_42dcc_row17_col1\" class=\"data row17 col1\" >clf-default-name</td>\n",
       "    </tr>\n",
       "    <tr>\n",
       "      <th id=\"T_42dcc_level0_row18\" class=\"row_heading level0 row18\" >18</th>\n",
       "      <td id=\"T_42dcc_row18_col0\" class=\"data row18 col0\" >USI</td>\n",
       "      <td id=\"T_42dcc_row18_col1\" class=\"data row18 col1\" >5d8a</td>\n",
       "    </tr>\n",
       "    <tr>\n",
       "      <th id=\"T_42dcc_level0_row19\" class=\"row_heading level0 row19\" >19</th>\n",
       "      <td id=\"T_42dcc_row19_col0\" class=\"data row19 col0\" >Fix Imbalance</td>\n",
       "      <td id=\"T_42dcc_row19_col1\" class=\"data row19 col1\" >0</td>\n",
       "    </tr>\n",
       "    <tr>\n",
       "      <th id=\"T_42dcc_level0_row20\" class=\"row_heading level0 row20\" >20</th>\n",
       "      <td id=\"T_42dcc_row20_col0\" class=\"data row20 col0\" >Fix Imbalance Method</td>\n",
       "      <td id=\"T_42dcc_row20_col1\" class=\"data row20 col1\" >SMOTE</td>\n",
       "    </tr>\n",
       "  </tbody>\n",
       "</table>\n"
      ],
      "text/plain": [
       "<pandas.io.formats.style.Styler at 0x2b34f7dc3d0>"
      ]
     },
     "metadata": {},
     "output_type": "display_data"
    }
   ],
   "source": [
    "setup = setup(pd.concat([feature_train, y_train], axis=1), target='group', session_id=123, use_gpu=True,\n",
    "              preprocess=False)"
   ]
  },
  {
   "cell_type": "markdown",
   "id": "43f799ad",
   "metadata": {},
   "source": [
    "### Compare Model"
   ]
  },
  {
   "cell_type": "code",
   "execution_count": 5,
   "id": "40bf8d74",
   "metadata": {
    "scrolled": true
   },
   "outputs": [
    {
     "data": {
      "text/plain": [
       "Name                                                           LogLoss\n",
       "Display Name                                                   LogLoss\n",
       "Score Function               <function log_loss at 0x000002B2AA0AD790>\n",
       "Scorer               make_scorer(log_loss, greater_is_better=False,...\n",
       "Target                                                      pred_proba\n",
       "Args                                                                {}\n",
       "Greater is Better                                                False\n",
       "Multiclass                                                        True\n",
       "Custom                                                            True\n",
       "Name: logloss, dtype: object"
      ]
     },
     "execution_count": 5,
     "metadata": {},
     "output_type": "execute_result"
    }
   ],
   "source": [
    "from sklearn.metrics import log_loss\n",
    "add_metric('logloss', 'LogLoss', log_loss, greater_is_better=False, target=\"pred_proba\")"
   ]
  },
  {
   "cell_type": "code",
   "execution_count": 6,
   "id": "3e72602b",
   "metadata": {
    "scrolled": true
   },
   "outputs": [
    {
     "data": {
      "text/html": [
       "<style type=\"text/css\">\n",
       "#T_59360 th {\n",
       "  text-align: left;\n",
       "}\n",
       "#T_59360_row0_col0, #T_59360_row1_col0, #T_59360_row1_col1, #T_59360_row1_col2, #T_59360_row1_col4, #T_59360_row1_col5, #T_59360_row1_col6, #T_59360_row1_col7, #T_59360_row1_col8, #T_59360_row2_col0, #T_59360_row2_col1, #T_59360_row2_col2, #T_59360_row2_col3, #T_59360_row2_col4, #T_59360_row2_col5, #T_59360_row2_col6, #T_59360_row2_col7, #T_59360_row2_col8, #T_59360_row3_col0, #T_59360_row3_col1, #T_59360_row3_col2, #T_59360_row3_col3, #T_59360_row3_col4, #T_59360_row3_col5, #T_59360_row3_col6, #T_59360_row3_col7, #T_59360_row3_col8 {\n",
       "  text-align: left;\n",
       "}\n",
       "#T_59360_row0_col1, #T_59360_row0_col2, #T_59360_row0_col3, #T_59360_row0_col4, #T_59360_row0_col5, #T_59360_row0_col6, #T_59360_row0_col7, #T_59360_row0_col8, #T_59360_row1_col3 {\n",
       "  text-align: left;\n",
       "  background-color: yellow;\n",
       "}\n",
       "#T_59360_row0_col9, #T_59360_row1_col9, #T_59360_row3_col9 {\n",
       "  text-align: left;\n",
       "  background-color: lightgrey;\n",
       "}\n",
       "#T_59360_row2_col9 {\n",
       "  text-align: left;\n",
       "  background-color: yellow;\n",
       "  background-color: lightgrey;\n",
       "}\n",
       "</style>\n",
       "<table id=\"T_59360\">\n",
       "  <thead>\n",
       "    <tr>\n",
       "      <th class=\"blank level0\" >&nbsp;</th>\n",
       "      <th id=\"T_59360_level0_col0\" class=\"col_heading level0 col0\" >Model</th>\n",
       "      <th id=\"T_59360_level0_col1\" class=\"col_heading level0 col1\" >Accuracy</th>\n",
       "      <th id=\"T_59360_level0_col2\" class=\"col_heading level0 col2\" >AUC</th>\n",
       "      <th id=\"T_59360_level0_col3\" class=\"col_heading level0 col3\" >Recall</th>\n",
       "      <th id=\"T_59360_level0_col4\" class=\"col_heading level0 col4\" >Prec.</th>\n",
       "      <th id=\"T_59360_level0_col5\" class=\"col_heading level0 col5\" >F1</th>\n",
       "      <th id=\"T_59360_level0_col6\" class=\"col_heading level0 col6\" >Kappa</th>\n",
       "      <th id=\"T_59360_level0_col7\" class=\"col_heading level0 col7\" >MCC</th>\n",
       "      <th id=\"T_59360_level0_col8\" class=\"col_heading level0 col8\" >LogLoss</th>\n",
       "      <th id=\"T_59360_level0_col9\" class=\"col_heading level0 col9\" >TT (Sec)</th>\n",
       "    </tr>\n",
       "  </thead>\n",
       "  <tbody>\n",
       "    <tr>\n",
       "      <th id=\"T_59360_level0_row0\" class=\"row_heading level0 row0\" >lightgbm</th>\n",
       "      <td id=\"T_59360_row0_col0\" class=\"data row0 col0\" >Light Gradient Boosting Machine</td>\n",
       "      <td id=\"T_59360_row0_col1\" class=\"data row0 col1\" >0.4291</td>\n",
       "      <td id=\"T_59360_row0_col2\" class=\"data row0 col2\" >0.7559</td>\n",
       "      <td id=\"T_59360_row0_col3\" class=\"data row0 col3\" >0.2497</td>\n",
       "      <td id=\"T_59360_row0_col4\" class=\"data row0 col4\" >0.3844</td>\n",
       "      <td id=\"T_59360_row0_col5\" class=\"data row0 col5\" >0.3764</td>\n",
       "      <td id=\"T_59360_row0_col6\" class=\"data row0 col6\" >0.2421</td>\n",
       "      <td id=\"T_59360_row0_col7\" class=\"data row0 col7\" >0.2518</td>\n",
       "      <td id=\"T_59360_row0_col8\" class=\"data row0 col8\" >1.6685</td>\n",
       "      <td id=\"T_59360_row0_col9\" class=\"data row0 col9\" >104.0120</td>\n",
       "    </tr>\n",
       "    <tr>\n",
       "      <th id=\"T_59360_level0_row1\" class=\"row_heading level0 row1\" >xgboost</th>\n",
       "      <td id=\"T_59360_row1_col0\" class=\"data row1 col0\" >Extreme Gradient Boosting</td>\n",
       "      <td id=\"T_59360_row1_col1\" class=\"data row1 col1\" >0.4276</td>\n",
       "      <td id=\"T_59360_row1_col2\" class=\"data row1 col2\" >0.7469</td>\n",
       "      <td id=\"T_59360_row1_col3\" class=\"data row1 col3\" >0.2497</td>\n",
       "      <td id=\"T_59360_row1_col4\" class=\"data row1 col4\" >0.3829</td>\n",
       "      <td id=\"T_59360_row1_col5\" class=\"data row1 col5\" >0.3762</td>\n",
       "      <td id=\"T_59360_row1_col6\" class=\"data row1 col6\" >0.2414</td>\n",
       "      <td id=\"T_59360_row1_col7\" class=\"data row1 col7\" >0.2506</td>\n",
       "      <td id=\"T_59360_row1_col8\" class=\"data row1 col8\" >1.8254</td>\n",
       "      <td id=\"T_59360_row1_col9\" class=\"data row1 col9\" >126.9320</td>\n",
       "    </tr>\n",
       "    <tr>\n",
       "      <th id=\"T_59360_level0_row2\" class=\"row_heading level0 row2\" >lr</th>\n",
       "      <td id=\"T_59360_row2_col0\" class=\"data row2 col0\" >Logistic Regression</td>\n",
       "      <td id=\"T_59360_row2_col1\" class=\"data row2 col1\" >0.3265</td>\n",
       "      <td id=\"T_59360_row2_col2\" class=\"data row2 col2\" >0.5084</td>\n",
       "      <td id=\"T_59360_row2_col3\" class=\"data row2 col3\" >0.1250</td>\n",
       "      <td id=\"T_59360_row2_col4\" class=\"data row2 col4\" >0.1066</td>\n",
       "      <td id=\"T_59360_row2_col5\" class=\"data row2 col5\" >0.1607</td>\n",
       "      <td id=\"T_59360_row2_col6\" class=\"data row2 col6\" >0.0000</td>\n",
       "      <td id=\"T_59360_row2_col7\" class=\"data row2 col7\" >0.0000</td>\n",
       "      <td id=\"T_59360_row2_col8\" class=\"data row2 col8\" >1.8583</td>\n",
       "      <td id=\"T_59360_row2_col9\" class=\"data row2 col9\" >1.9400</td>\n",
       "    </tr>\n",
       "    <tr>\n",
       "      <th id=\"T_59360_level0_row3\" class=\"row_heading level0 row3\" >rf</th>\n",
       "      <td id=\"T_59360_row3_col0\" class=\"data row3 col0\" >Random Forest Classifier</td>\n",
       "      <td id=\"T_59360_row3_col1\" class=\"data row3 col1\" >0.3950</td>\n",
       "      <td id=\"T_59360_row3_col2\" class=\"data row3 col2\" >0.7045</td>\n",
       "      <td id=\"T_59360_row3_col3\" class=\"data row3 col3\" >0.1966</td>\n",
       "      <td id=\"T_59360_row3_col4\" class=\"data row3 col4\" >0.3257</td>\n",
       "      <td id=\"T_59360_row3_col5\" class=\"data row3 col5\" >0.3126</td>\n",
       "      <td id=\"T_59360_row3_col6\" class=\"data row3 col6\" >0.1706</td>\n",
       "      <td id=\"T_59360_row3_col7\" class=\"data row3 col7\" >0.1883</td>\n",
       "      <td id=\"T_59360_row3_col8\" class=\"data row3 col8\" >1.8592</td>\n",
       "      <td id=\"T_59360_row3_col9\" class=\"data row3 col9\" >8.4320</td>\n",
       "    </tr>\n",
       "  </tbody>\n",
       "</table>\n"
      ],
      "text/plain": [
       "<pandas.io.formats.style.Styler at 0x2b33b114820>"
      ]
     },
     "metadata": {},
     "output_type": "display_data"
    },
    {
     "data": {
      "text/plain": [
       "[LGBMClassifier(boosting_type='gbdt', class_weight=None, colsample_bytree=1.0,\n",
       "                device='gpu', importance_type='split', learning_rate=0.1,\n",
       "                max_depth=-1, min_child_samples=20, min_child_weight=0.001,\n",
       "                min_split_gain=0.0, n_estimators=100, n_jobs=-1, num_leaves=31,\n",
       "                objective=None, random_state=123, reg_alpha=0.0, reg_lambda=0.0,\n",
       "                silent='warn', subsample=1.0, subsample_for_bin=200000,\n",
       "                subsample_freq=0),\n",
       " XGBClassifier(base_score=0.5, booster='gbtree', callbacks=None,\n",
       "               colsample_bylevel=1, colsample_bynode=1, colsample_bytree=1,\n",
       "               early_stopping_rounds=None, enable_categorical=False,\n",
       "               eval_metric=None, gamma=0, gpu_id=0, grow_policy='depthwise',\n",
       "               importance_type=None, interaction_constraints='',\n",
       "               learning_rate=0.300000012, max_bin=256, max_cat_to_onehot=4,\n",
       "               max_delta_step=0, max_depth=6, max_leaves=0, min_child_weight=1,\n",
       "               missing=nan, monotone_constraints='()', n_estimators=100,\n",
       "               n_jobs=-1, num_parallel_tree=1, objective='multi:softprob',\n",
       "               predictor='auto', random_state=123, reg_alpha=0, ...),\n",
       " LogisticRegression(C=1.0, class_weight=None, dual=False, fit_intercept=True,\n",
       "                    intercept_scaling=1, l1_ratio=None, max_iter=1000,\n",
       "                    multi_class='auto', n_jobs=None, penalty='l2',\n",
       "                    random_state=123, solver='lbfgs', tol=0.0001, verbose=0,\n",
       "                    warm_start=False)]"
      ]
     },
     "execution_count": 6,
     "metadata": {},
     "output_type": "execute_result"
    }
   ],
   "source": [
    "# clf = create_model('lightgbm', fold=5)\n",
    "clfs = compare_models(n_select=3, sort='logloss', include = ['lightgbm', 'xgboost', 'rf', 'lr'], fold=5) \n",
    "clfs"
   ]
  },
  {
   "cell_type": "code",
   "execution_count": null,
   "id": "9d683559",
   "metadata": {},
   "outputs": [
    {
     "data": {
      "application/vnd.jupyter.widget-view+json": {
       "model_id": "8fbe3faa33aa425ba46a86571d9be74b",
       "version_major": 2,
       "version_minor": 0
      },
      "text/plain": [
       "IntProgress(value=0, description='Processing: ', max=4)"
      ]
     },
     "metadata": {},
     "output_type": "display_data"
    },
    {
     "data": {
      "text/html": [
       "<div>\n",
       "<style scoped>\n",
       "    .dataframe tbody tr th:only-of-type {\n",
       "        vertical-align: middle;\n",
       "    }\n",
       "\n",
       "    .dataframe tbody tr th {\n",
       "        vertical-align: top;\n",
       "    }\n",
       "\n",
       "    .dataframe thead th {\n",
       "        text-align: right;\n",
       "    }\n",
       "</style>\n",
       "<table border=\"1\" class=\"dataframe\">\n",
       "  <thead>\n",
       "    <tr style=\"text-align: right;\">\n",
       "      <th></th>\n",
       "      <th></th>\n",
       "      <th></th>\n",
       "    </tr>\n",
       "    <tr>\n",
       "      <th></th>\n",
       "      <th></th>\n",
       "      <th></th>\n",
       "    </tr>\n",
       "  </thead>\n",
       "  <tbody>\n",
       "    <tr>\n",
       "      <th>Initiated</th>\n",
       "      <td>. . . . . . . . . . . . . . . . . .</td>\n",
       "      <td>17:57:30</td>\n",
       "    </tr>\n",
       "    <tr>\n",
       "      <th>Status</th>\n",
       "      <td>. . . . . . . . . . . . . . . . . .</td>\n",
       "      <td>Fitting 5 Folds</td>\n",
       "    </tr>\n",
       "    <tr>\n",
       "      <th>Estimator</th>\n",
       "      <td>. . . . . . . . . . . . . . . . . .</td>\n",
       "      <td>Extreme Gradient Boosting</td>\n",
       "    </tr>\n",
       "  </tbody>\n",
       "</table>\n",
       "</div>"
      ],
      "text/plain": [
       "                                                                         \n",
       "                                                                         \n",
       "Initiated  . . . . . . . . . . . . . . . . . .                   17:57:30\n",
       "Status     . . . . . . . . . . . . . . . . . .            Fitting 5 Folds\n",
       "Estimator  . . . . . . . . . . . . . . . . . .  Extreme Gradient Boosting"
      ]
     },
     "metadata": {},
     "output_type": "display_data"
    },
    {
     "data": {
      "text/html": [
       "<div>\n",
       "<style scoped>\n",
       "    .dataframe tbody tr th:only-of-type {\n",
       "        vertical-align: middle;\n",
       "    }\n",
       "\n",
       "    .dataframe tbody tr th {\n",
       "        vertical-align: top;\n",
       "    }\n",
       "\n",
       "    .dataframe thead th {\n",
       "        text-align: right;\n",
       "    }\n",
       "</style>\n",
       "<table border=\"1\" class=\"dataframe\">\n",
       "  <thead>\n",
       "    <tr style=\"text-align: right;\">\n",
       "      <th></th>\n",
       "      <th>Accuracy</th>\n",
       "      <th>AUC</th>\n",
       "      <th>Recall</th>\n",
       "      <th>Prec.</th>\n",
       "      <th>F1</th>\n",
       "      <th>Kappa</th>\n",
       "      <th>MCC</th>\n",
       "      <th>LogLoss</th>\n",
       "    </tr>\n",
       "  </thead>\n",
       "  <tbody>\n",
       "  </tbody>\n",
       "</table>\n",
       "</div>"
      ],
      "text/plain": [
       "Empty DataFrame\n",
       "Columns: [Accuracy, AUC, Recall, Prec., F1, Kappa, MCC, LogLoss]\n",
       "Index: []"
      ]
     },
     "metadata": {},
     "output_type": "display_data"
    }
   ],
   "source": [
    "clf = create_model('xgboost', fold=5)"
   ]
  },
  {
   "cell_type": "markdown",
   "id": "d47180bd",
   "metadata": {},
   "source": [
    "### Tune Model"
   ]
  },
  {
   "cell_type": "code",
   "execution_count": null,
   "id": "befd4ac6",
   "metadata": {},
   "outputs": [],
   "source": [
    "clf_tune = tune_model(m, optimize='LogLoss', search_library='optuna',early_stopping=True, n_iter=300, fold=5)"
   ]
  },
  {
   "cell_type": "code",
   "execution_count": 8,
   "id": "36ac09fa",
   "metadata": {
    "scrolled": true
   },
   "outputs": [
    {
     "data": {
      "application/vnd.jupyter.widget-view+json": {
       "model_id": "0e0b9a0695484756b72f49bfa21481f4",
       "version_major": 2,
       "version_minor": 0
      },
      "text/plain": [
       "IntProgress(value=0, description='Processing: ', max=7)"
      ]
     },
     "metadata": {},
     "output_type": "display_data"
    },
    {
     "data": {
      "text/html": [
       "<div>\n",
       "<style scoped>\n",
       "    .dataframe tbody tr th:only-of-type {\n",
       "        vertical-align: middle;\n",
       "    }\n",
       "\n",
       "    .dataframe tbody tr th {\n",
       "        vertical-align: top;\n",
       "    }\n",
       "\n",
       "    .dataframe thead th {\n",
       "        text-align: right;\n",
       "    }\n",
       "</style>\n",
       "<table border=\"1\" class=\"dataframe\">\n",
       "  <thead>\n",
       "    <tr style=\"text-align: right;\">\n",
       "      <th></th>\n",
       "      <th></th>\n",
       "      <th></th>\n",
       "    </tr>\n",
       "    <tr>\n",
       "      <th></th>\n",
       "      <th></th>\n",
       "      <th></th>\n",
       "    </tr>\n",
       "  </thead>\n",
       "  <tbody>\n",
       "    <tr>\n",
       "      <th>Initiated</th>\n",
       "      <td>. . . . . . . . . . . . . . . . . .</td>\n",
       "      <td>17:57:30</td>\n",
       "    </tr>\n",
       "    <tr>\n",
       "      <th>Status</th>\n",
       "      <td>. . . . . . . . . . . . . . . . . .</td>\n",
       "      <td>Fitting 5 Folds</td>\n",
       "    </tr>\n",
       "    <tr>\n",
       "      <th>Estimator</th>\n",
       "      <td>. . . . . . . . . . . . . . . . . .</td>\n",
       "      <td>Extreme Gradient Boosting</td>\n",
       "    </tr>\n",
       "  </tbody>\n",
       "</table>\n",
       "</div>"
      ],
      "text/plain": [
       "                                                                         \n",
       "                                                                         \n",
       "Initiated  . . . . . . . . . . . . . . . . . .                   17:57:30\n",
       "Status     . . . . . . . . . . . . . . . . . .            Fitting 5 Folds\n",
       "Estimator  . . . . . . . . . . . . . . . . . .  Extreme Gradient Boosting"
      ]
     },
     "metadata": {},
     "output_type": "display_data"
    },
    {
     "data": {
      "text/html": [
       "<div>\n",
       "<style scoped>\n",
       "    .dataframe tbody tr th:only-of-type {\n",
       "        vertical-align: middle;\n",
       "    }\n",
       "\n",
       "    .dataframe tbody tr th {\n",
       "        vertical-align: top;\n",
       "    }\n",
       "\n",
       "    .dataframe thead th {\n",
       "        text-align: right;\n",
       "    }\n",
       "</style>\n",
       "<table border=\"1\" class=\"dataframe\">\n",
       "  <thead>\n",
       "    <tr style=\"text-align: right;\">\n",
       "      <th></th>\n",
       "      <th>Accuracy</th>\n",
       "      <th>AUC</th>\n",
       "      <th>Recall</th>\n",
       "      <th>Prec.</th>\n",
       "      <th>F1</th>\n",
       "      <th>Kappa</th>\n",
       "      <th>MCC</th>\n",
       "      <th>LogLoss</th>\n",
       "    </tr>\n",
       "  </thead>\n",
       "  <tbody>\n",
       "  </tbody>\n",
       "</table>\n",
       "</div>"
      ],
      "text/plain": [
       "Empty DataFrame\n",
       "Columns: [Accuracy, AUC, Recall, Prec., F1, Kappa, MCC, LogLoss]\n",
       "Index: []"
      ]
     },
     "metadata": {},
     "output_type": "display_data"
    },
    {
     "name": "stderr",
     "output_type": "stream",
     "text": [
      "\u001b[32m[I 2022-06-15 16:51:49,459]\u001b[0m Searching the best hyperparameters using 15110 samples...\u001b[0m\n"
     ]
    },
    {
     "name": "stdout",
     "output_type": "stream",
     "text": [
      "[LightGBM] [Warning] feature_fraction is set=0.9884585190307693, colsample_bytree=1.0 will be ignored. Current value: feature_fraction=0.9884585190307693\n",
      "[LightGBM] [Warning] bagging_fraction is set=0.810897843150918, subsample=1.0 will be ignored. Current value: bagging_fraction=0.810897843150918\n",
      "[LightGBM] [Warning] bagging_freq is set=3, subsample_freq=0 will be ignored. Current value: bagging_freq=3\n",
      "[LightGBM] [Warning] feature_fraction is set=0.9884585190307693, colsample_bytree=1.0 will be ignored. Current value: feature_fraction=0.9884585190307693\n",
      "[LightGBM] [Warning] bagging_fraction is set=0.810897843150918, subsample=1.0 will be ignored. Current value: bagging_fraction=0.810897843150918\n",
      "[LightGBM] [Warning] bagging_freq is set=3, subsample_freq=0 will be ignored. Current value: bagging_freq=3\n",
      "[LightGBM] [Warning] feature_fraction is set=0.9884585190307693, colsample_bytree=1.0 will be ignored. Current value: feature_fraction=0.9884585190307693\n",
      "[LightGBM] [Warning] bagging_fraction is set=0.810897843150918, subsample=1.0 will be ignored. Current value: bagging_fraction=0.810897843150918\n",
      "[LightGBM] [Warning] bagging_freq is set=3, subsample_freq=0 will be ignored. Current value: bagging_freq=3\n",
      "[LightGBM] [Warning] feature_fraction is set=0.9884585190307693, colsample_bytree=1.0 will be ignored. Current value: feature_fraction=0.9884585190307693\n",
      "[LightGBM] [Warning] bagging_fraction is set=0.810897843150918, subsample=1.0 will be ignored. Current value: bagging_fraction=0.810897843150918\n",
      "[LightGBM] [Warning] bagging_freq is set=3, subsample_freq=0 will be ignored. Current value: bagging_freq=3\n",
      "[LightGBM] [Warning] feature_fraction is set=0.5094950382721, colsample_bytree=1.0 will be ignored. Current value: feature_fraction=0.5094950382721\n",
      "[LightGBM] [Warning] bagging_fraction is set=0.5052710536884956, subsample=1.0 will be ignored. Current value: bagging_fraction=0.5052710536884956\n",
      "[LightGBM] [Warning] bagging_freq is set=4, subsample_freq=0 will be ignored. Current value: bagging_freq=4\n",
      "[LightGBM] [Warning] feature_fraction is set=0.5094950382721, colsample_bytree=1.0 will be ignored. Current value: feature_fraction=0.5094950382721\n",
      "[LightGBM] [Warning] bagging_fraction is set=0.5052710536884956, subsample=1.0 will be ignored. Current value: bagging_fraction=0.5052710536884956\n",
      "[LightGBM] [Warning] bagging_freq is set=4, subsample_freq=0 will be ignored. Current value: bagging_freq=4\n",
      "[LightGBM] [Warning] feature_fraction is set=0.5094950382721, colsample_bytree=1.0 will be ignored. Current value: feature_fraction=0.5094950382721\n",
      "[LightGBM] [Warning] bagging_fraction is set=0.5052710536884956, subsample=1.0 will be ignored. Current value: bagging_fraction=0.5052710536884956\n",
      "[LightGBM] [Warning] bagging_freq is set=4, subsample_freq=0 will be ignored. Current value: bagging_freq=4\n",
      "[LightGBM] [Warning] feature_fraction is set=0.5094950382721, colsample_bytree=1.0 will be ignored. Current value: feature_fraction=0.5094950382721\n",
      "[LightGBM] [Warning] bagging_fraction is set=0.5052710536884956, subsample=1.0 will be ignored. Current value: bagging_fraction=0.5052710536884956\n",
      "[LightGBM] [Warning] bagging_freq is set=4, subsample_freq=0 will be ignored. Current value: bagging_freq=4\n",
      "[LightGBM] [Warning] feature_fraction is set=0.5094950382721, colsample_bytree=1.0 will be ignored. Current value: feature_fraction=0.5094950382721\n",
      "[LightGBM] [Warning] bagging_fraction is set=0.5052710536884956, subsample=1.0 will be ignored. Current value: bagging_fraction=0.5052710536884956\n",
      "[LightGBM] [Warning] bagging_freq is set=4, subsample_freq=0 will be ignored. Current value: bagging_freq=4\n",
      "[LightGBM] [Warning] feature_fraction is set=0.6170731933733885, colsample_bytree=1.0 will be ignored. Current value: feature_fraction=0.6170731933733885\n",
      "[LightGBM] [Warning] bagging_fraction is set=0.5369579385273734, subsample=1.0 will be ignored. Current value: bagging_fraction=0.5369579385273734\n",
      "[LightGBM] [Warning] bagging_freq is set=2, subsample_freq=0 will be ignored. Current value: bagging_freq=2\n",
      "[LightGBM] [Warning] feature_fraction is set=0.6170731933733885, colsample_bytree=1.0 will be ignored. Current value: feature_fraction=0.6170731933733885\n",
      "[LightGBM] [Warning] bagging_fraction is set=0.5369579385273734, subsample=1.0 will be ignored. Current value: bagging_fraction=0.5369579385273734\n",
      "[LightGBM] [Warning] bagging_freq is set=2, subsample_freq=0 will be ignored. Current value: bagging_freq=2\n",
      "[LightGBM] [Warning] feature_fraction is set=0.6170731933733885, colsample_bytree=1.0 will be ignored. Current value: feature_fraction=0.6170731933733885\n",
      "[LightGBM] [Warning] bagging_fraction is set=0.5369579385273734, subsample=1.0 will be ignored. Current value: bagging_fraction=0.5369579385273734\n",
      "[LightGBM] [Warning] bagging_freq is set=2, subsample_freq=0 will be ignored. Current value: bagging_freq=2\n",
      "[LightGBM] [Warning] feature_fraction is set=0.6170731933733885, colsample_bytree=1.0 will be ignored. Current value: feature_fraction=0.6170731933733885\n",
      "[LightGBM] [Warning] bagging_fraction is set=0.5369579385273734, subsample=1.0 will be ignored. Current value: bagging_fraction=0.5369579385273734\n",
      "[LightGBM] [Warning] bagging_freq is set=2, subsample_freq=0 will be ignored. Current value: bagging_freq=2\n",
      "[LightGBM] [Warning] feature_fraction is set=0.6170731933733885, colsample_bytree=1.0 will be ignored. Current value: feature_fraction=0.6170731933733885\n",
      "[LightGBM] [Warning] bagging_fraction is set=0.5369579385273734, subsample=1.0 will be ignored. Current value: bagging_fraction=0.5369579385273734\n",
      "[LightGBM] [Warning] bagging_freq is set=2, subsample_freq=0 will be ignored. Current value: bagging_freq=2\n",
      "[LightGBM] [Warning] feature_fraction is set=0.655810784177685, colsample_bytree=1.0 will be ignored. Current value: feature_fraction=0.655810784177685\n",
      "[LightGBM] [Warning] bagging_fraction is set=0.9360334978702809, subsample=1.0 will be ignored. Current value: bagging_fraction=0.9360334978702809\n",
      "[LightGBM] [Warning] bagging_freq is set=7, subsample_freq=0 will be ignored. Current value: bagging_freq=7\n",
      "[LightGBM] [Warning] feature_fraction is set=0.655810784177685, colsample_bytree=1.0 will be ignored. Current value: feature_fraction=0.655810784177685\n",
      "[LightGBM] [Warning] bagging_fraction is set=0.9360334978702809, subsample=1.0 will be ignored. Current value: bagging_fraction=0.9360334978702809\n",
      "[LightGBM] [Warning] bagging_freq is set=7, subsample_freq=0 will be ignored. Current value: bagging_freq=7\n",
      "[LightGBM] [Warning] feature_fraction is set=0.655810784177685, colsample_bytree=1.0 will be ignored. Current value: feature_fraction=0.655810784177685\n",
      "[LightGBM] [Warning] bagging_fraction is set=0.9360334978702809, subsample=1.0 will be ignored. Current value: bagging_fraction=0.9360334978702809\n",
      "[LightGBM] [Warning] bagging_freq is set=7, subsample_freq=0 will be ignored. Current value: bagging_freq=7\n",
      "[LightGBM] [Warning] feature_fraction is set=0.655810784177685, colsample_bytree=1.0 will be ignored. Current value: feature_fraction=0.655810784177685\n",
      "[LightGBM] [Warning] bagging_fraction is set=0.9360334978702809, subsample=1.0 will be ignored. Current value: bagging_fraction=0.9360334978702809\n",
      "[LightGBM] [Warning] bagging_freq is set=7, subsample_freq=0 will be ignored. Current value: bagging_freq=7\n",
      "[LightGBM] [Warning] feature_fraction is set=0.655810784177685, colsample_bytree=1.0 will be ignored. Current value: feature_fraction=0.655810784177685\n",
      "[LightGBM] [Warning] bagging_fraction is set=0.9360334978702809, subsample=1.0 will be ignored. Current value: bagging_fraction=0.9360334978702809\n",
      "[LightGBM] [Warning] bagging_freq is set=7, subsample_freq=0 will be ignored. Current value: bagging_freq=7\n",
      "[LightGBM] [Warning] feature_fraction is set=0.6898205585576227, colsample_bytree=1.0 will be ignored. Current value: feature_fraction=0.6898205585576227\n",
      "[LightGBM] [Warning] bagging_fraction is set=0.991335871366423, subsample=1.0 will be ignored. Current value: bagging_fraction=0.991335871366423\n",
      "[LightGBM] [Warning] bagging_freq is set=4, subsample_freq=0 will be ignored. Current value: bagging_freq=4\n",
      "[LightGBM] [Warning] feature_fraction is set=0.6898205585576227, colsample_bytree=1.0 will be ignored. Current value: feature_fraction=0.6898205585576227\n",
      "[LightGBM] [Warning] bagging_fraction is set=0.991335871366423, subsample=1.0 will be ignored. Current value: bagging_fraction=0.991335871366423\n",
      "[LightGBM] [Warning] bagging_freq is set=4, subsample_freq=0 will be ignored. Current value: bagging_freq=4\n"
     ]
    },
    {
     "name": "stdout",
     "output_type": "stream",
     "text": [
      "[LightGBM] [Warning] feature_fraction is set=0.6898205585576227, colsample_bytree=1.0 will be ignored. Current value: feature_fraction=0.6898205585576227\n",
      "[LightGBM] [Warning] bagging_fraction is set=0.991335871366423, subsample=1.0 will be ignored. Current value: bagging_fraction=0.991335871366423\n",
      "[LightGBM] [Warning] bagging_freq is set=4, subsample_freq=0 will be ignored. Current value: bagging_freq=4\n",
      "[LightGBM] [Warning] feature_fraction is set=0.6898205585576227, colsample_bytree=1.0 will be ignored. Current value: feature_fraction=0.6898205585576227\n",
      "[LightGBM] [Warning] bagging_fraction is set=0.991335871366423, subsample=1.0 will be ignored. Current value: bagging_fraction=0.991335871366423\n",
      "[LightGBM] [Warning] bagging_freq is set=4, subsample_freq=0 will be ignored. Current value: bagging_freq=4\n",
      "[LightGBM] [Warning] feature_fraction is set=0.6898205585576227, colsample_bytree=1.0 will be ignored. Current value: feature_fraction=0.6898205585576227\n",
      "[LightGBM] [Warning] bagging_fraction is set=0.991335871366423, subsample=1.0 will be ignored. Current value: bagging_fraction=0.991335871366423\n",
      "[LightGBM] [Warning] bagging_freq is set=4, subsample_freq=0 will be ignored. Current value: bagging_freq=4\n",
      "[LightGBM] [Warning] feature_fraction is set=0.6502133266148209, colsample_bytree=1.0 will be ignored. Current value: feature_fraction=0.6502133266148209\n",
      "[LightGBM] [Warning] bagging_fraction is set=0.808780459475678, subsample=1.0 will be ignored. Current value: bagging_fraction=0.808780459475678\n",
      "[LightGBM] [Warning] bagging_freq is set=7, subsample_freq=0 will be ignored. Current value: bagging_freq=7\n",
      "[LightGBM] [Warning] feature_fraction is set=0.6502133266148209, colsample_bytree=1.0 will be ignored. Current value: feature_fraction=0.6502133266148209\n",
      "[LightGBM] [Warning] bagging_fraction is set=0.808780459475678, subsample=1.0 will be ignored. Current value: bagging_fraction=0.808780459475678\n",
      "[LightGBM] [Warning] bagging_freq is set=7, subsample_freq=0 will be ignored. Current value: bagging_freq=7\n",
      "[LightGBM] [Warning] feature_fraction is set=0.6502133266148209, colsample_bytree=1.0 will be ignored. Current value: feature_fraction=0.6502133266148209\n",
      "[LightGBM] [Warning] bagging_fraction is set=0.808780459475678, subsample=1.0 will be ignored. Current value: bagging_fraction=0.808780459475678\n",
      "[LightGBM] [Warning] bagging_freq is set=7, subsample_freq=0 will be ignored. Current value: bagging_freq=7\n",
      "[LightGBM] [Warning] feature_fraction is set=0.6502133266148209, colsample_bytree=1.0 will be ignored. Current value: feature_fraction=0.6502133266148209\n",
      "[LightGBM] [Warning] bagging_fraction is set=0.808780459475678, subsample=1.0 will be ignored. Current value: bagging_fraction=0.808780459475678\n",
      "[LightGBM] [Warning] bagging_freq is set=7, subsample_freq=0 will be ignored. Current value: bagging_freq=7\n"
     ]
    },
    {
     "name": "stderr",
     "output_type": "stream",
     "text": [
      "\n",
      "KeyboardInterrupt\n",
      "\n"
     ]
    }
   ],
   "source": [
    "tuned_models = [tune_model(m, optimize='LogLoss', search_library='optuna',\n",
    "                            early_stopping=True, n_iter=300, fold=5) for m in clfs]"
   ]
  },
  {
   "cell_type": "code",
   "execution_count": null,
   "id": "2d7d0f7e",
   "metadata": {},
   "outputs": [],
   "source": [
    "tuned_models"
   ]
  },
  {
   "cell_type": "markdown",
   "id": "15736074",
   "metadata": {},
   "source": [
    "### Ensemble Models"
   ]
  },
  {
   "cell_type": "code",
   "execution_count": null,
   "id": "1c10d87d",
   "metadata": {
    "scrolled": true
   },
   "outputs": [],
   "source": [
    "# Averaging\n",
    "# blender = blend_models(estimator_list=tuned_models, optimize='logloss', method='soft', fold=5, choose_better=True)\n",
    "\n",
    "# Stacking\n",
    "# stacker = stack_models(estimator_list=tuned_models, meta_model=create_model('rf'), optimize='logloss', fold=5, choose_better=True)"
   ]
  },
  {
   "cell_type": "markdown",
   "id": "05f59c18",
   "metadata": {},
   "source": [
    "### Deploy Model"
   ]
  },
  {
   "cell_type": "code",
   "execution_count": null,
   "id": "c5bcb5fd",
   "metadata": {},
   "outputs": [],
   "source": [
    "import joblib\n",
    "joblib.dump(lgbm_tune, path+'/Pycaret_lgbm.pkl')"
   ]
  },
  {
   "cell_type": "code",
   "execution_count": 9,
   "id": "4039c055",
   "metadata": {},
   "outputs": [],
   "source": [
    "# best_model = automl(optimize='logloss')\n",
    "\n",
    "# pred = predict_model(best_model, data=feature_test) \n",
    "# pred"
   ]
  }
 ],
 "metadata": {
  "kernelspec": {
   "display_name": "Python 3 (ipykernel)",
   "language": "python",
   "name": "python3"
  },
  "language_info": {
   "codemirror_mode": {
    "name": "ipython",
    "version": 3
   },
   "file_extension": ".py",
   "mimetype": "text/x-python",
   "name": "python",
   "nbconvert_exporter": "python",
   "pygments_lexer": "ipython3",
   "version": "3.8.12"
  }
 },
 "nbformat": 4,
 "nbformat_minor": 5
}
