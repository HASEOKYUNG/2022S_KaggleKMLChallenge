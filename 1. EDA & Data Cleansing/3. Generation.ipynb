{
 "cells": [
  {
   "cell_type": "markdown",
   "id": "acfaa2ed",
   "metadata": {},
   "source": [
    "## Import"
   ]
  },
  {
   "cell_type": "code",
   "execution_count": 1,
   "id": "76481380",
   "metadata": {
    "_cell_guid": "79c7e3d0-c299-4dcb-8224-4455121ee9b0",
    "_uuid": "d629ff2d2480ee46fbb7e2d37f6b5fab8052498a"
   },
   "outputs": [],
   "source": [
    "# for read data\n",
    "import os\n",
    "\n",
    "# for Data Preprocessing\n",
    "import pandas as pd\n",
    "import numpy as np"
   ]
  },
  {
   "cell_type": "markdown",
   "id": "a02f23f1",
   "metadata": {
    "_uuid": "dd7e3527fd56e5b5855c6846ca226f5f860f725b"
   },
   "source": [
    "## Read Data"
   ]
  },
  {
   "cell_type": "code",
   "execution_count": 2,
   "id": "e5c5d052",
   "metadata": {
    "_uuid": "794123064b09797f51add356a676fb6a7aed015d",
    "scrolled": true
   },
   "outputs": [],
   "source": [
    "path = (os.path.abspath(\"./input\"))\n",
    "\n",
    "# Incomplete Data Cleansing\n",
    "train = pd.read_csv(path + '/X_train_IDC.csv', encoding='cp949')\n",
    "test = pd.read_csv(path + '/X_test_IDC.csv', encoding='cp949')\n",
    "y_train = pd.read_csv(path + '/y_train.csv')\n",
    "\n",
    "man, woman = pd.read_pickle(path+'/DC_sex_1.pkl')"
   ]
  },
  {
   "cell_type": "code",
   "execution_count": 3,
   "id": "c2311fd6",
   "metadata": {
    "scrolled": true
   },
   "outputs": [
    {
     "data": {
      "text/html": [
       "<div>\n",
       "<style scoped>\n",
       "    .dataframe tbody tr th:only-of-type {\n",
       "        vertical-align: middle;\n",
       "    }\n",
       "\n",
       "    .dataframe tbody tr th {\n",
       "        vertical-align: top;\n",
       "    }\n",
       "\n",
       "    .dataframe thead th {\n",
       "        text-align: right;\n",
       "    }\n",
       "</style>\n",
       "<table border=\"1\" class=\"dataframe\">\n",
       "  <thead>\n",
       "    <tr style=\"text-align: right;\">\n",
       "      <th></th>\n",
       "      <th>custid</th>\n",
       "      <th>sales_month</th>\n",
       "      <th>sales_day</th>\n",
       "      <th>sales_dayofweek</th>\n",
       "      <th>sales_time</th>\n",
       "      <th>str_nm</th>\n",
       "      <th>goodcd</th>\n",
       "      <th>brd_nm</th>\n",
       "      <th>corner_nm</th>\n",
       "      <th>pc_nm</th>\n",
       "      <th>...</th>\n",
       "      <th>net_amt</th>\n",
       "      <th>inst_mon</th>\n",
       "      <th>inst_fee</th>\n",
       "      <th>REAL_PURCHASE</th>\n",
       "      <th>DISCOUNT</th>\n",
       "      <th>DISCOUNT_PER</th>\n",
       "      <th>REFUND</th>\n",
       "      <th>REFUND_AMT</th>\n",
       "      <th>IMPORT_AMT</th>\n",
       "      <th>INSTFEE_AMT</th>\n",
       "    </tr>\n",
       "  </thead>\n",
       "  <tbody>\n",
       "    <tr>\n",
       "      <th>0</th>\n",
       "      <td>0</td>\n",
       "      <td>6</td>\n",
       "      <td>25</td>\n",
       "      <td>일</td>\n",
       "      <td>1212</td>\n",
       "      <td>무역점</td>\n",
       "      <td>2116050008000</td>\n",
       "      <td>에스티로더</td>\n",
       "      <td>수입종합화장품</td>\n",
       "      <td>화장품</td>\n",
       "      <td>...</td>\n",
       "      <td>81000</td>\n",
       "      <td>3</td>\n",
       "      <td>0</td>\n",
       "      <td>1</td>\n",
       "      <td>1</td>\n",
       "      <td>0.10</td>\n",
       "      <td>0</td>\n",
       "      <td>0</td>\n",
       "      <td>81000.0</td>\n",
       "      <td>0.0</td>\n",
       "    </tr>\n",
       "    <tr>\n",
       "      <th>1</th>\n",
       "      <td>0</td>\n",
       "      <td>6</td>\n",
       "      <td>25</td>\n",
       "      <td>일</td>\n",
       "      <td>1242</td>\n",
       "      <td>무역점</td>\n",
       "      <td>4125440008000</td>\n",
       "      <td>시슬리</td>\n",
       "      <td>수입종합화장품</td>\n",
       "      <td>화장품</td>\n",
       "      <td>...</td>\n",
       "      <td>35100</td>\n",
       "      <td>1</td>\n",
       "      <td>0</td>\n",
       "      <td>1</td>\n",
       "      <td>1</td>\n",
       "      <td>0.10</td>\n",
       "      <td>0</td>\n",
       "      <td>0</td>\n",
       "      <td>35100.0</td>\n",
       "      <td>0.0</td>\n",
       "    </tr>\n",
       "    <tr>\n",
       "      <th>2</th>\n",
       "      <td>0</td>\n",
       "      <td>8</td>\n",
       "      <td>26</td>\n",
       "      <td>토</td>\n",
       "      <td>1810</td>\n",
       "      <td>본점</td>\n",
       "      <td>2116052008000</td>\n",
       "      <td>크리니크</td>\n",
       "      <td>수입종합화장품</td>\n",
       "      <td>화장품</td>\n",
       "      <td>...</td>\n",
       "      <td>157500</td>\n",
       "      <td>3</td>\n",
       "      <td>0</td>\n",
       "      <td>1</td>\n",
       "      <td>1</td>\n",
       "      <td>0.10</td>\n",
       "      <td>0</td>\n",
       "      <td>0</td>\n",
       "      <td>157500.0</td>\n",
       "      <td>0.0</td>\n",
       "    </tr>\n",
       "    <tr>\n",
       "      <th>3</th>\n",
       "      <td>0</td>\n",
       "      <td>8</td>\n",
       "      <td>26</td>\n",
       "      <td>토</td>\n",
       "      <td>1830</td>\n",
       "      <td>본점</td>\n",
       "      <td>4106430119900</td>\n",
       "      <td>듀퐁</td>\n",
       "      <td>수입의류</td>\n",
       "      <td>명품토탈</td>\n",
       "      <td>...</td>\n",
       "      <td>409500</td>\n",
       "      <td>3</td>\n",
       "      <td>0</td>\n",
       "      <td>1</td>\n",
       "      <td>1</td>\n",
       "      <td>0.10</td>\n",
       "      <td>0</td>\n",
       "      <td>0</td>\n",
       "      <td>409500.0</td>\n",
       "      <td>0.0</td>\n",
       "    </tr>\n",
       "    <tr>\n",
       "      <th>4</th>\n",
       "      <td>0</td>\n",
       "      <td>9</td>\n",
       "      <td>3</td>\n",
       "      <td>일</td>\n",
       "      <td>1802</td>\n",
       "      <td>무역점</td>\n",
       "      <td>2139141008000</td>\n",
       "      <td>랑콤</td>\n",
       "      <td>수입종합화장품</td>\n",
       "      <td>화장품</td>\n",
       "      <td>...</td>\n",
       "      <td>90000</td>\n",
       "      <td>3</td>\n",
       "      <td>0</td>\n",
       "      <td>1</td>\n",
       "      <td>1</td>\n",
       "      <td>0.10</td>\n",
       "      <td>0</td>\n",
       "      <td>0</td>\n",
       "      <td>0.0</td>\n",
       "      <td>0.0</td>\n",
       "    </tr>\n",
       "    <tr>\n",
       "      <th>...</th>\n",
       "      <td>...</td>\n",
       "      <td>...</td>\n",
       "      <td>...</td>\n",
       "      <td>...</td>\n",
       "      <td>...</td>\n",
       "      <td>...</td>\n",
       "      <td>...</td>\n",
       "      <td>...</td>\n",
       "      <td>...</td>\n",
       "      <td>...</td>\n",
       "      <td>...</td>\n",
       "      <td>...</td>\n",
       "      <td>...</td>\n",
       "      <td>...</td>\n",
       "      <td>...</td>\n",
       "      <td>...</td>\n",
       "      <td>...</td>\n",
       "      <td>...</td>\n",
       "      <td>...</td>\n",
       "      <td>...</td>\n",
       "      <td>...</td>\n",
       "    </tr>\n",
       "    <tr>\n",
       "      <th>1040034</th>\n",
       "      <td>49993</td>\n",
       "      <td>1</td>\n",
       "      <td>31</td>\n",
       "      <td>수</td>\n",
       "      <td>1750</td>\n",
       "      <td>신촌점</td>\n",
       "      <td>4405551020474</td>\n",
       "      <td>톰키드</td>\n",
       "      <td>아동</td>\n",
       "      <td>아동</td>\n",
       "      <td>...</td>\n",
       "      <td>20000</td>\n",
       "      <td>1</td>\n",
       "      <td>0</td>\n",
       "      <td>1</td>\n",
       "      <td>0</td>\n",
       "      <td>0.00</td>\n",
       "      <td>0</td>\n",
       "      <td>0</td>\n",
       "      <td>0.0</td>\n",
       "      <td>0.0</td>\n",
       "    </tr>\n",
       "    <tr>\n",
       "      <th>1040035</th>\n",
       "      <td>49993</td>\n",
       "      <td>1</td>\n",
       "      <td>31</td>\n",
       "      <td>수</td>\n",
       "      <td>1833</td>\n",
       "      <td>신촌점</td>\n",
       "      <td>2139140008300</td>\n",
       "      <td>폴로화장품</td>\n",
       "      <td>향수</td>\n",
       "      <td>화장품</td>\n",
       "      <td>...</td>\n",
       "      <td>66500</td>\n",
       "      <td>1</td>\n",
       "      <td>0</td>\n",
       "      <td>1</td>\n",
       "      <td>1</td>\n",
       "      <td>0.05</td>\n",
       "      <td>0</td>\n",
       "      <td>0</td>\n",
       "      <td>0.0</td>\n",
       "      <td>0.0</td>\n",
       "    </tr>\n",
       "    <tr>\n",
       "      <th>1040036</th>\n",
       "      <td>49994</td>\n",
       "      <td>4</td>\n",
       "      <td>14</td>\n",
       "      <td>토</td>\n",
       "      <td>1750</td>\n",
       "      <td>본점</td>\n",
       "      <td>4230120011274</td>\n",
       "      <td>스테파넬</td>\n",
       "      <td>영트랜드</td>\n",
       "      <td>영트랜디</td>\n",
       "      <td>...</td>\n",
       "      <td>39000</td>\n",
       "      <td>1</td>\n",
       "      <td>0</td>\n",
       "      <td>1</td>\n",
       "      <td>0</td>\n",
       "      <td>0.00</td>\n",
       "      <td>0</td>\n",
       "      <td>0</td>\n",
       "      <td>0.0</td>\n",
       "      <td>0.0</td>\n",
       "    </tr>\n",
       "    <tr>\n",
       "      <th>1040037</th>\n",
       "      <td>49994</td>\n",
       "      <td>4</td>\n",
       "      <td>14</td>\n",
       "      <td>토</td>\n",
       "      <td>1810</td>\n",
       "      <td>본점</td>\n",
       "      <td>4409271026010</td>\n",
       "      <td>써스데이아일앤드</td>\n",
       "      <td>진캐주얼</td>\n",
       "      <td>진캐주얼</td>\n",
       "      <td>...</td>\n",
       "      <td>34200</td>\n",
       "      <td>1</td>\n",
       "      <td>0</td>\n",
       "      <td>1</td>\n",
       "      <td>0</td>\n",
       "      <td>0.00</td>\n",
       "      <td>0</td>\n",
       "      <td>0</td>\n",
       "      <td>0.0</td>\n",
       "      <td>0.0</td>\n",
       "    </tr>\n",
       "    <tr>\n",
       "      <th>1040038</th>\n",
       "      <td>49994</td>\n",
       "      <td>4</td>\n",
       "      <td>15</td>\n",
       "      <td>일</td>\n",
       "      <td>1602</td>\n",
       "      <td>무역점</td>\n",
       "      <td>2116052008000</td>\n",
       "      <td>크리니크</td>\n",
       "      <td>수입종합화장품</td>\n",
       "      <td>화장품</td>\n",
       "      <td>...</td>\n",
       "      <td>77400</td>\n",
       "      <td>1</td>\n",
       "      <td>0</td>\n",
       "      <td>1</td>\n",
       "      <td>1</td>\n",
       "      <td>0.10</td>\n",
       "      <td>0</td>\n",
       "      <td>0</td>\n",
       "      <td>77400.0</td>\n",
       "      <td>0.0</td>\n",
       "    </tr>\n",
       "  </tbody>\n",
       "</table>\n",
       "<p>1040039 rows × 26 columns</p>\n",
       "</div>"
      ],
      "text/plain": [
       "         custid  sales_month  sales_day sales_dayofweek  sales_time str_nm  \\\n",
       "0             0            6         25               일        1212    무역점   \n",
       "1             0            6         25               일        1242    무역점   \n",
       "2             0            8         26               토        1810     본점   \n",
       "3             0            8         26               토        1830     본점   \n",
       "4             0            9          3               일        1802    무역점   \n",
       "...         ...          ...        ...             ...         ...    ...   \n",
       "1040034   49993            1         31               수        1750    신촌점   \n",
       "1040035   49993            1         31               수        1833    신촌점   \n",
       "1040036   49994            4         14               토        1750     본점   \n",
       "1040037   49994            4         14               토        1810     본점   \n",
       "1040038   49994            4         15               일        1602    무역점   \n",
       "\n",
       "                goodcd    brd_nm corner_nm pc_nm  ... net_amt inst_mon  \\\n",
       "0        2116050008000     에스티로더   수입종합화장품   화장품  ...   81000        3   \n",
       "1        4125440008000       시슬리   수입종합화장품   화장품  ...   35100        1   \n",
       "2        2116052008000      크리니크   수입종합화장품   화장품  ...  157500        3   \n",
       "3        4106430119900        듀퐁      수입의류  명품토탈  ...  409500        3   \n",
       "4        2139141008000        랑콤   수입종합화장품   화장품  ...   90000        3   \n",
       "...                ...       ...       ...   ...  ...     ...      ...   \n",
       "1040034  4405551020474       톰키드        아동    아동  ...   20000        1   \n",
       "1040035  2139140008300     폴로화장품        향수   화장품  ...   66500        1   \n",
       "1040036  4230120011274      스테파넬      영트랜드  영트랜디  ...   39000        1   \n",
       "1040037  4409271026010  써스데이아일앤드      진캐주얼  진캐주얼  ...   34200        1   \n",
       "1040038  2116052008000      크리니크   수입종합화장품   화장품  ...   77400        1   \n",
       "\n",
       "        inst_fee  REAL_PURCHASE  DISCOUNT  DISCOUNT_PER  REFUND  REFUND_AMT  \\\n",
       "0              0              1         1          0.10       0           0   \n",
       "1              0              1         1          0.10       0           0   \n",
       "2              0              1         1          0.10       0           0   \n",
       "3              0              1         1          0.10       0           0   \n",
       "4              0              1         1          0.10       0           0   \n",
       "...          ...            ...       ...           ...     ...         ...   \n",
       "1040034        0              1         0          0.00       0           0   \n",
       "1040035        0              1         1          0.05       0           0   \n",
       "1040036        0              1         0          0.00       0           0   \n",
       "1040037        0              1         0          0.00       0           0   \n",
       "1040038        0              1         1          0.10       0           0   \n",
       "\n",
       "         IMPORT_AMT  INSTFEE_AMT  \n",
       "0           81000.0          0.0  \n",
       "1           35100.0          0.0  \n",
       "2          157500.0          0.0  \n",
       "3          409500.0          0.0  \n",
       "4               0.0          0.0  \n",
       "...             ...          ...  \n",
       "1040034         0.0          0.0  \n",
       "1040035         0.0          0.0  \n",
       "1040036         0.0          0.0  \n",
       "1040037         0.0          0.0  \n",
       "1040038     77400.0          0.0  \n",
       "\n",
       "[1040039 rows x 26 columns]"
      ]
     },
     "metadata": {},
     "output_type": "display_data"
    }
   ],
   "source": [
    "# Concat train, test data\n",
    "train_ID = train.custid.unique()\n",
    "test_ID = test.custid.unique()\n",
    "\n",
    "data = pd.concat([train, test]).reset_index(drop=True)\n",
    "display(data)"
   ]
  },
  {
   "cell_type": "markdown",
   "id": "61058705",
   "metadata": {},
   "source": [
    "### Column Generation\n",
    "Feature Generation에 사용할 새로운 열을 생성하고자 한다. 원본 데이터와 헷갈리지 않게 생성하는 열의 이름은 대문자로 한다."
   ]
  },
  {
   "cell_type": "markdown",
   "id": "3dc13c56",
   "metadata": {},
   "source": [
    "- **[SALES_DATE, SALES_DAY, SALES_SEC]**<br>\n",
    "  매달 일수는 고정되어 있음으로 구매주기, 매장이용시간 등을 계산하기 위해 임의의 년도의 날짜 데이터로 생성한다. `연도는 활용해선 안된다.`<br>\n",
    "  또한 편의를 위해 'YYYYmmdd' 날짜 데이터를 생성한다. 시간과 분을 분으로 표현한 데이터를 생성한다."
   ]
  },
  {
   "cell_type": "code",
   "execution_count": 4,
   "id": "10f02b5f",
   "metadata": {},
   "outputs": [],
   "source": [
    "data['SALES_DATE'] = pd.to_datetime(data['sales_month'].apply(lambda x: '2018'+str(x).zfill(2) if x < 5 else '2017'+str(x).zfill(2))\\\n",
    "                                    + data.sales_day.astype(str).str.zfill(2)\\\n",
    "                                    + data.sales_time.astype(str), format='%Y%m%d%H%M')\n",
    "data['SALES_DAY'] = data.SALES_DATE.dt.strftime('%Y%m%d')\n",
    "# 3등 Feature 사용을 위해 만듦\n",
    "data['SALES_MIN'] = data['sales_time'].apply(lambda x : x//100*60 + x%100)\n",
    "\n",
    "# SALES_DATE가 담은 데이터 중 활용하지 않을 데이터는 제거한다.\n",
    "del data['sales_day'], data['sales_time']"
   ]
  },
  {
   "cell_type": "markdown",
   "id": "a6554150",
   "metadata": {},
   "source": [
    "- **[NEXT_PURCHASE, DUPLICATE_VISIT]**<br>\n",
    "  다음 상품을 구매하는 데까지 걸리는 분간격 데이터와 같은날 여러번 방문한 여부 데이터를 생성한다.<br>\n",
    "  [남녀 쇼핑시간 차이] https://www.folin.co/story/524"
   ]
  },
  {
   "cell_type": "code",
   "execution_count": 5,
   "id": "20c9e40b",
   "metadata": {},
   "outputs": [],
   "source": [
    "time = data[['custid', 'SALES_DATE']].sort_values(by=['custid', 'SALES_DATE'])\n",
    "time = time.diff()"
   ]
  },
  {
   "cell_type": "code",
   "execution_count": 6,
   "id": "13449c3f",
   "metadata": {},
   "outputs": [],
   "source": [
    "time['minute'] = time.SALES_DATE.dt.total_seconds()//60\n",
    "time['hour'] = time.minute//60\n",
    "time['same_id'] = time.custid.apply(lambda x: 0 if x != 0 else 1)\n",
    "time['same_day'] = time.SALES_DATE.dt.days.apply(lambda x: 1 if x == 0 else 0)\n",
    "time['same_visit'] = time.hour.apply(lambda x: 1 if 0 <= x < 3 else 0)"
   ]
  },
  {
   "cell_type": "code",
   "execution_count": 7,
   "id": "15b53753",
   "metadata": {},
   "outputs": [],
   "source": [
    "data = data.sort_values(by=['custid', 'SALES_DATE'])\n",
    "data['NEXT_PURCHASE'] = time['same_id'] * time['same_day'] * time['same_visit'] * time['minute']\n",
    "data.NEXT_PURCHASE.fillna(0, inplace=True)   # 1행의 NaT를 0으로 채움"
   ]
  },
  {
   "cell_type": "code",
   "execution_count": 8,
   "id": "9c411f9c",
   "metadata": {},
   "outputs": [],
   "source": [
    "data['DUPLICATE_VISIT'] = pd.merge(data.reset_index()['index'],\n",
    "                                   time.query('(same_id == 1) & (same_day == 1)').hour.apply(lambda x: 1 if x > 3 else 0).reset_index(),\n",
    "                                   on='index', how='outer').fillna(0).iloc[:, -1]"
   ]
  },
  {
   "cell_type": "markdown",
   "id": "81842aca",
   "metadata": {},
   "source": [
    "- **[SALES_WEEKEND]**<br>\n",
    "  주말에 구매한 데이터인지를 의미하는 데이터를 생성한다."
   ]
  },
  {
   "cell_type": "code",
   "execution_count": 9,
   "id": "aa5676aa",
   "metadata": {},
   "outputs": [],
   "source": [
    "data['SALES_WEEKEND'] = data.sales_dayofweek.apply(lambda x: 1 if (x==\"토\" or x==\"일\") else 0)"
   ]
  },
  {
   "cell_type": "markdown",
   "id": "b3014860",
   "metadata": {},
   "source": [
    "- **[DAILY, LEAVE_OFFICE]**<br>\n",
    "  회사원을 구분하기 위해 평일 중 퇴근시간이 아닐때 방문하였는지, 퇴근시간에 방문하였는지를 의미하는 데이터를 생성한다."
   ]
  },
  {
   "cell_type": "code",
   "execution_count": 10,
   "id": "ec5e678f",
   "metadata": {},
   "outputs": [],
   "source": [
    "data['DAILY'] = data.SALES_WEEKEND.apply(lambda x: 1 if x==0 else 0)\\\n",
    "                * data.SALES_DATE.dt.hour.apply(lambda x: 1 if 9<=x<=18 else 0)\n",
    "data['LEAVE_OFFICE'] = data.SALES_WEEKEND.apply(lambda x: 1 if x==0 else 0)\\\n",
    "                       * data.SALES_DATE.dt.hour.apply(lambda x: 0 if x>=18 else 1)"
   ]
  },
  {
   "cell_type": "markdown",
   "id": "b4ad886e",
   "metadata": {},
   "source": [
    "- **[WEIGHT_{group}, FAVOR_{group}]**<br>\n",
    "  group별 상위 10개의 브랜드에 해당하는 상품을 구매한건지, 구매한 상품의 순위가중치를 의미하는 데이터를 생성한다."
   ]
  },
  {
   "cell_type": "code",
   "execution_count": 11,
   "id": "6ce1d8bd",
   "metadata": {},
   "outputs": [],
   "source": [
    "weight = pd.merge(train, y_train, on='custid', how='inner')\n",
    "weight_list = weight.groupby('group')['brd_nm'].agg(lambda x: x.value_counts().index.tolist()[1:11]).reset_index()\n",
    "\n",
    "for i, g, b in weight_list.itertuples():\n",
    "    data[f'WEIGHT_{g}'] = data.brd_nm.apply(lambda x: 10 - b.index(x) if x in b else 0)\n",
    "    data[f'FAVOR_{g}'] = data.brd_nm.apply(lambda x: 1 if x in b else 0)\n",
    "    \n",
    "data['WEIGHT_SUM'] = data[[i for i in data.columns if 'WEIGHT' in i]].sum(axis=1)"
   ]
  },
  {
   "cell_type": "markdown",
   "id": "0d846396",
   "metadata": {},
   "source": [
    "- **[MAN, WOMAN]**<br>\n",
    "  corner_nm, pc_nm, part_nm에 \"남성\", \"여성\"이 들어간 상품의 구매여부를 생성한다."
   ]
  },
  {
   "cell_type": "code",
   "execution_count": 12,
   "id": "8e958838",
   "metadata": {},
   "outputs": [],
   "source": [
    "data['MAN'] = (data['brd_nm'].apply(lambda x: 1 if x in man['brd_nm'] else 0) +\\\n",
    "               data['corner_nm'].str.contains('남성').astype(int) +\\\n",
    "               data['corner_nm'].apply(lambda x: 1 if x in man['corner_nm'] else 0) +\\\n",
    "               data['pc_nm'].str.contains('남성').astype(int) +\\\n",
    "               data['pc_nm'].apply(lambda x: 1 if x in man['pc_nm'] else 0) +\\\n",
    "               data['part_nm'].str.contains('남성').astype(int))\\\n",
    "               .apply(lambda x: 0 if x == 0 else 1)"
   ]
  },
  {
   "cell_type": "code",
   "execution_count": 13,
   "id": "2eb924c6",
   "metadata": {},
   "outputs": [],
   "source": [
    "data['WOMAN'] = (data['corner_nm'].str.contains('여성').astype(int) +\\\n",
    "                 data['corner_nm'].apply(lambda x: 1 if x in woman['corner_nm'] else 0) +\\\n",
    "                 data['pc_nm'].str.contains('여성').astype(int) +\\\n",
    "                 data['pc_nm'].apply(lambda x: 1 if x in woman['pc_nm'] else 0) +\\\n",
    "                 data['part_nm'].str.contains('여성').astype(int))\\\n",
    "                 .apply(lambda x: 0 if x == 0 else 1)"
   ]
  },
  {
   "cell_type": "markdown",
   "id": "9efb24f7",
   "metadata": {},
   "source": [
    "- **[BABY, CHILD]**<br>\n",
    "  corner_nm에 \"유아\" 또는 \"신생아\", \"아동\"이 들어간 상품의 구매여부를 생성한다."
   ]
  },
  {
   "cell_type": "code",
   "execution_count": 14,
   "id": "85a79450",
   "metadata": {},
   "outputs": [],
   "source": [
    "data['BABY'] = data['corner_nm'].str.contains('유아').astype(int) + data['corner_nm'].str.contains('신생아').astype(int)\n",
    "data['CHILD'] = data['corner_nm'].str.contains('아동').astype(int)"
   ]
  },
  {
   "cell_type": "markdown",
   "id": "8d3147bc",
   "metadata": {},
   "source": [
    "- **[COSMETIC]**<br>\n",
    "  corner_nm에 \"화장품\"이 들어간 상품의 구매여부를 생성한다."
   ]
  },
  {
   "cell_type": "code",
   "execution_count": 15,
   "id": "2b6c198a",
   "metadata": {},
   "outputs": [],
   "source": [
    "data['COSMETIC'] = data['corner_nm'].str.contains('화장품').astype(int)"
   ]
  },
  {
   "cell_type": "markdown",
   "id": "b0e137da",
   "metadata": {},
   "source": [
    "- **[WITHOUT_INST]**<br>\n",
    "  롯데백화점의 무이자 조건을 근거로 무이자 혜택 카드를 사용한 것인지를 의미하는 데이터를 생성한다."
   ]
  },
  {
   "cell_type": "code",
   "execution_count": 16,
   "id": "5f81fe9e",
   "metadata": {},
   "outputs": [],
   "source": [
    "data['WITHOUT_INST'] = pd.merge(data.reset_index()['index'], \n",
    "                                data.query('net_amt >= 50000 and inst_mon > 1')['inst_fee'].apply(lambda x : 1 if x == 0 else 0).reset_index(),\n",
    "                                on='index', how='outer').iloc[:, -1].fillna(0)"
   ]
  },
  {
   "cell_type": "markdown",
   "id": "24de52a1",
   "metadata": {},
   "source": [
    "### $~~~$ Confirm data"
   ]
  },
  {
   "cell_type": "code",
   "execution_count": 17,
   "id": "6bfab373",
   "metadata": {
    "scrolled": false
   },
   "outputs": [
    {
     "name": "stdout",
     "output_type": "stream",
     "text": [
      "<class 'pandas.core.frame.DataFrame'>\n",
      "Int64Index: 1040039 entries, 0 to 1040038\n",
      "Data columns (total 55 columns):\n",
      " #   Column           Non-Null Count    Dtype         \n",
      "---  ------           --------------    -----         \n",
      " 0   custid           1040039 non-null  int64         \n",
      " 1   sales_month      1040039 non-null  int64         \n",
      " 2   sales_dayofweek  1040039 non-null  object        \n",
      " 3   str_nm           1040039 non-null  object        \n",
      " 4   goodcd           1040039 non-null  int64         \n",
      " 5   brd_nm           1040039 non-null  object        \n",
      " 6   corner_nm        1040039 non-null  object        \n",
      " 7   pc_nm            1040039 non-null  object        \n",
      " 8   part_nm          1040039 non-null  object        \n",
      " 9   team_nm          1040039 non-null  object        \n",
      " 10  buyer_nm         1040039 non-null  object        \n",
      " 11  import_flg       1040039 non-null  int64         \n",
      " 12  tot_amt          1040039 non-null  int64         \n",
      " 13  dis_amt          1040039 non-null  int64         \n",
      " 14  net_amt          1040039 non-null  int64         \n",
      " 15  inst_mon         1040039 non-null  int64         \n",
      " 16  inst_fee         1040039 non-null  int64         \n",
      " 17  REAL_PURCHASE    1040039 non-null  int64         \n",
      " 18  DISCOUNT         1040039 non-null  int64         \n",
      " 19  DISCOUNT_PER     1040039 non-null  float64       \n",
      " 20  REFUND           1040039 non-null  int64         \n",
      " 21  REFUND_AMT       1040039 non-null  int64         \n",
      " 22  IMPORT_AMT       1040039 non-null  float64       \n",
      " 23  INSTFEE_AMT      1040039 non-null  float64       \n",
      " 24  SALES_DATE       1040039 non-null  datetime64[ns]\n",
      " 25  SALES_DAY        1040039 non-null  object        \n",
      " 26  SALES_MIN        1040039 non-null  int64         \n",
      " 27  NEXT_PURCHASE    1040039 non-null  float64       \n",
      " 28  DUPLICATE_VISIT  1040039 non-null  float64       \n",
      " 29  SALES_WEEKEND    1040039 non-null  int64         \n",
      " 30  DAILY            1040039 non-null  int64         \n",
      " 31  LEAVE_OFFICE     1040039 non-null  int64         \n",
      " 32  WEIGHT_F20       1040039 non-null  int64         \n",
      " 33  FAVOR_F20        1040039 non-null  int64         \n",
      " 34  WEIGHT_F30       1040039 non-null  int64         \n",
      " 35  FAVOR_F30        1040039 non-null  int64         \n",
      " 36  WEIGHT_F40       1040039 non-null  int64         \n",
      " 37  FAVOR_F40        1040039 non-null  int64         \n",
      " 38  WEIGHT_F50       1040039 non-null  int64         \n",
      " 39  FAVOR_F50        1040039 non-null  int64         \n",
      " 40  WEIGHT_M20       1040039 non-null  int64         \n",
      " 41  FAVOR_M20        1040039 non-null  int64         \n",
      " 42  WEIGHT_M30       1040039 non-null  int64         \n",
      " 43  FAVOR_M30        1040039 non-null  int64         \n",
      " 44  WEIGHT_M40       1040039 non-null  int64         \n",
      " 45  FAVOR_M40        1040039 non-null  int64         \n",
      " 46  WEIGHT_M50       1040039 non-null  int64         \n",
      " 47  FAVOR_M50        1040039 non-null  int64         \n",
      " 48  WEIGHT_SUM       1040039 non-null  int64         \n",
      " 49  MAN              1040039 non-null  int64         \n",
      " 50  WOMAN            1040039 non-null  int64         \n",
      " 51  BABY             1040039 non-null  int32         \n",
      " 52  CHILD            1040039 non-null  int32         \n",
      " 53  COSMETIC         1040039 non-null  int32         \n",
      " 54  WITHOUT_INST     1040039 non-null  float64       \n",
      "dtypes: datetime64[ns](1), float64(6), int32(3), int64(36), object(9)\n",
      "memory usage: 432.5+ MB\n"
     ]
    }
   ],
   "source": [
    "data.info()"
   ]
  },
  {
   "cell_type": "markdown",
   "id": "74c80306",
   "metadata": {},
   "source": [
    "### $~~~$ Split train, test data"
   ]
  },
  {
   "cell_type": "code",
   "execution_count": 18,
   "id": "26a69587",
   "metadata": {},
   "outputs": [],
   "source": [
    "train = data.query('custid in @train_ID').reset_index(drop=True)\n",
    "test = data.query('custid in @test_ID').reset_index(drop=True)"
   ]
  },
  {
   "cell_type": "markdown",
   "id": "820e40bc",
   "metadata": {},
   "source": [
    "### $~~~$ Save train, test data"
   ]
  },
  {
   "cell_type": "code",
   "execution_count": 19,
   "id": "c8cad340",
   "metadata": {},
   "outputs": [],
   "source": [
    "train.to_csv(path +'/X_train_DC.csv', index=False, encoding='cp949')\n",
    "test.to_csv(path +'/X_test_DC.csv', index=False, encoding='cp949')"
   ]
  },
  {
   "cell_type": "code",
   "execution_count": null,
   "id": "9162a030",
   "metadata": {},
   "outputs": [],
   "source": []
  }
 ],
 "metadata": {
  "kernelspec": {
   "display_name": "Python 3 (ipykernel)",
   "language": "python",
   "name": "python3"
  },
  "language_info": {
   "codemirror_mode": {
    "name": "ipython",
    "version": 3
   },
   "file_extension": ".py",
   "mimetype": "text/x-python",
   "name": "python",
   "nbconvert_exporter": "python",
   "pygments_lexer": "ipython3",
   "version": "3.9.7"
  }
 },
 "nbformat": 4,
 "nbformat_minor": 5
}
