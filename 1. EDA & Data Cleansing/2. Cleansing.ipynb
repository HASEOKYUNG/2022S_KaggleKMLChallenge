{
 "cells": [
  {
   "cell_type": "markdown",
   "id": "acfaa2ed",
   "metadata": {},
   "source": [
    "## Import"
   ]
  },
  {
   "cell_type": "code",
   "execution_count": 1,
   "id": "76481380",
   "metadata": {
    "_cell_guid": "79c7e3d0-c299-4dcb-8224-4455121ee9b0",
    "_uuid": "d629ff2d2480ee46fbb7e2d37f6b5fab8052498a"
   },
   "outputs": [],
   "source": [
    "# for read data\n",
    "import os\n",
    "\n",
    "# for Data Preprocessing\n",
    "import pandas as pd\n",
    "import numpy as np"
   ]
  },
  {
   "cell_type": "markdown",
   "id": "a02f23f1",
   "metadata": {
    "_uuid": "dd7e3527fd56e5b5855c6846ca226f5f860f725b"
   },
   "source": [
    "## Read Data"
   ]
  },
  {
   "cell_type": "code",
   "execution_count": 2,
   "id": "e5c5d052",
   "metadata": {
    "_uuid": "794123064b09797f51add356a676fb6a7aed015d",
    "scrolled": true
   },
   "outputs": [],
   "source": [
    "path = (os.path.abspath(\"./input\"))\n",
    "\n",
    "# raw data\n",
    "train = pd.read_csv(path + '/X_train.csv', encoding='cp949')\n",
    "test = pd.read_csv(path + '/X_test.csv', encoding='cp949')"
   ]
  },
  {
   "cell_type": "markdown",
   "id": "8a1984eb",
   "metadata": {},
   "source": [
    "## Concat train, test data\n",
    "train, test data를 합쳐서 cleansing하고 추후 custid를 기준으로 분리한다."
   ]
  },
  {
   "cell_type": "code",
   "execution_count": 3,
   "id": "c2311fd6",
   "metadata": {
    "scrolled": true
   },
   "outputs": [
    {
     "data": {
      "text/html": [
       "<div>\n",
       "<style scoped>\n",
       "    .dataframe tbody tr th:only-of-type {\n",
       "        vertical-align: middle;\n",
       "    }\n",
       "\n",
       "    .dataframe tbody tr th {\n",
       "        vertical-align: top;\n",
       "    }\n",
       "\n",
       "    .dataframe thead th {\n",
       "        text-align: right;\n",
       "    }\n",
       "</style>\n",
       "<table border=\"1\" class=\"dataframe\">\n",
       "  <thead>\n",
       "    <tr style=\"text-align: right;\">\n",
       "      <th></th>\n",
       "      <th>custid</th>\n",
       "      <th>sales_month</th>\n",
       "      <th>sales_day</th>\n",
       "      <th>sales_dayofweek</th>\n",
       "      <th>sales_time</th>\n",
       "      <th>str_nm</th>\n",
       "      <th>goodcd</th>\n",
       "      <th>brd_nm</th>\n",
       "      <th>corner_nm</th>\n",
       "      <th>pc_nm</th>\n",
       "      <th>part_nm</th>\n",
       "      <th>team_nm</th>\n",
       "      <th>buyer_nm</th>\n",
       "      <th>import_flg</th>\n",
       "      <th>tot_amt</th>\n",
       "      <th>dis_amt</th>\n",
       "      <th>net_amt</th>\n",
       "      <th>inst_mon</th>\n",
       "      <th>inst_fee</th>\n",
       "    </tr>\n",
       "  </thead>\n",
       "  <tbody>\n",
       "    <tr>\n",
       "      <th>0</th>\n",
       "      <td>0</td>\n",
       "      <td>6</td>\n",
       "      <td>25</td>\n",
       "      <td>일</td>\n",
       "      <td>1212</td>\n",
       "      <td>무역점</td>\n",
       "      <td>2116050008000</td>\n",
       "      <td>에스티로더</td>\n",
       "      <td>수입종합화장품</td>\n",
       "      <td>화장품</td>\n",
       "      <td>명품잡화</td>\n",
       "      <td>잡화가용팀</td>\n",
       "      <td>화장품</td>\n",
       "      <td>1</td>\n",
       "      <td>90000</td>\n",
       "      <td>9000</td>\n",
       "      <td>81000</td>\n",
       "      <td>3</td>\n",
       "      <td>0</td>\n",
       "    </tr>\n",
       "    <tr>\n",
       "      <th>1</th>\n",
       "      <td>0</td>\n",
       "      <td>6</td>\n",
       "      <td>25</td>\n",
       "      <td>일</td>\n",
       "      <td>1242</td>\n",
       "      <td>무역점</td>\n",
       "      <td>4125440008000</td>\n",
       "      <td>시슬리</td>\n",
       "      <td>수입종합화장품</td>\n",
       "      <td>화장품</td>\n",
       "      <td>명품잡화</td>\n",
       "      <td>잡화가용팀</td>\n",
       "      <td>화장품</td>\n",
       "      <td>1</td>\n",
       "      <td>39000</td>\n",
       "      <td>3900</td>\n",
       "      <td>35100</td>\n",
       "      <td>1</td>\n",
       "      <td>0</td>\n",
       "    </tr>\n",
       "    <tr>\n",
       "      <th>2</th>\n",
       "      <td>0</td>\n",
       "      <td>8</td>\n",
       "      <td>26</td>\n",
       "      <td>토</td>\n",
       "      <td>1810</td>\n",
       "      <td>본점</td>\n",
       "      <td>2116052008000</td>\n",
       "      <td>크리니크</td>\n",
       "      <td>수입종합화장품</td>\n",
       "      <td>화장품</td>\n",
       "      <td>잡화파트</td>\n",
       "      <td>잡화가용팀</td>\n",
       "      <td>화장품</td>\n",
       "      <td>1</td>\n",
       "      <td>175000</td>\n",
       "      <td>17500</td>\n",
       "      <td>157500</td>\n",
       "      <td>3</td>\n",
       "      <td>0</td>\n",
       "    </tr>\n",
       "    <tr>\n",
       "      <th>3</th>\n",
       "      <td>0</td>\n",
       "      <td>8</td>\n",
       "      <td>26</td>\n",
       "      <td>토</td>\n",
       "      <td>1830</td>\n",
       "      <td>본점</td>\n",
       "      <td>4106430119900</td>\n",
       "      <td>듀퐁</td>\n",
       "      <td>수입의류</td>\n",
       "      <td>명품토탈</td>\n",
       "      <td>잡화파트</td>\n",
       "      <td>잡화가용팀</td>\n",
       "      <td>수입명품</td>\n",
       "      <td>1</td>\n",
       "      <td>455000</td>\n",
       "      <td>45500</td>\n",
       "      <td>409500</td>\n",
       "      <td>3</td>\n",
       "      <td>0</td>\n",
       "    </tr>\n",
       "    <tr>\n",
       "      <th>4</th>\n",
       "      <td>0</td>\n",
       "      <td>9</td>\n",
       "      <td>3</td>\n",
       "      <td>일</td>\n",
       "      <td>1802</td>\n",
       "      <td>무역점</td>\n",
       "      <td>2139141008000</td>\n",
       "      <td>랑콤</td>\n",
       "      <td>수입종합화장품</td>\n",
       "      <td>화장품</td>\n",
       "      <td>명품잡화</td>\n",
       "      <td>잡화가용팀</td>\n",
       "      <td>화장품</td>\n",
       "      <td>0</td>\n",
       "      <td>100000</td>\n",
       "      <td>10000</td>\n",
       "      <td>90000</td>\n",
       "      <td>3</td>\n",
       "      <td>0</td>\n",
       "    </tr>\n",
       "    <tr>\n",
       "      <th>...</th>\n",
       "      <td>...</td>\n",
       "      <td>...</td>\n",
       "      <td>...</td>\n",
       "      <td>...</td>\n",
       "      <td>...</td>\n",
       "      <td>...</td>\n",
       "      <td>...</td>\n",
       "      <td>...</td>\n",
       "      <td>...</td>\n",
       "      <td>...</td>\n",
       "      <td>...</td>\n",
       "      <td>...</td>\n",
       "      <td>...</td>\n",
       "      <td>...</td>\n",
       "      <td>...</td>\n",
       "      <td>...</td>\n",
       "      <td>...</td>\n",
       "      <td>...</td>\n",
       "      <td>...</td>\n",
       "    </tr>\n",
       "    <tr>\n",
       "      <th>1040034</th>\n",
       "      <td>49993</td>\n",
       "      <td>13</td>\n",
       "      <td>31</td>\n",
       "      <td>수</td>\n",
       "      <td>1750</td>\n",
       "      <td>신촌점</td>\n",
       "      <td>4405551020474</td>\n",
       "      <td>톰키드</td>\n",
       "      <td>아동</td>\n",
       "      <td>아동</td>\n",
       "      <td>아동문화</td>\n",
       "      <td>잡화가용팀</td>\n",
       "      <td>유아동복</td>\n",
       "      <td>0</td>\n",
       "      <td>20000</td>\n",
       "      <td>0</td>\n",
       "      <td>20000</td>\n",
       "      <td>1</td>\n",
       "      <td>0</td>\n",
       "    </tr>\n",
       "    <tr>\n",
       "      <th>1040035</th>\n",
       "      <td>49993</td>\n",
       "      <td>13</td>\n",
       "      <td>31</td>\n",
       "      <td>수</td>\n",
       "      <td>1833</td>\n",
       "      <td>신촌점</td>\n",
       "      <td>2139140008300</td>\n",
       "      <td>폴로화장품</td>\n",
       "      <td>향수</td>\n",
       "      <td>화장품</td>\n",
       "      <td>패션잡화</td>\n",
       "      <td>잡화가용팀</td>\n",
       "      <td>화장품</td>\n",
       "      <td>0</td>\n",
       "      <td>70000</td>\n",
       "      <td>3500</td>\n",
       "      <td>66500</td>\n",
       "      <td>1</td>\n",
       "      <td>0</td>\n",
       "    </tr>\n",
       "    <tr>\n",
       "      <th>1040036</th>\n",
       "      <td>49994</td>\n",
       "      <td>16</td>\n",
       "      <td>14</td>\n",
       "      <td>토</td>\n",
       "      <td>1750</td>\n",
       "      <td>본점</td>\n",
       "      <td>4230120011274</td>\n",
       "      <td>스테파넬</td>\n",
       "      <td>영트랜드</td>\n",
       "      <td>영트렌디</td>\n",
       "      <td>케주얼,구두,아동</td>\n",
       "      <td>의류패션팀</td>\n",
       "      <td>영캐주얼</td>\n",
       "      <td>0</td>\n",
       "      <td>39000</td>\n",
       "      <td>0</td>\n",
       "      <td>39000</td>\n",
       "      <td>1</td>\n",
       "      <td>0</td>\n",
       "    </tr>\n",
       "    <tr>\n",
       "      <th>1040037</th>\n",
       "      <td>49994</td>\n",
       "      <td>16</td>\n",
       "      <td>14</td>\n",
       "      <td>토</td>\n",
       "      <td>1810</td>\n",
       "      <td>본점</td>\n",
       "      <td>4409271026010</td>\n",
       "      <td>써스데이아일앤드</td>\n",
       "      <td>진케주얼</td>\n",
       "      <td>진케주얼</td>\n",
       "      <td>케주얼,구두,아동</td>\n",
       "      <td>의류패션팀</td>\n",
       "      <td>유니캐주얼</td>\n",
       "      <td>0</td>\n",
       "      <td>34200</td>\n",
       "      <td>0</td>\n",
       "      <td>34200</td>\n",
       "      <td>1</td>\n",
       "      <td>0</td>\n",
       "    </tr>\n",
       "    <tr>\n",
       "      <th>1040038</th>\n",
       "      <td>49994</td>\n",
       "      <td>16</td>\n",
       "      <td>15</td>\n",
       "      <td>일</td>\n",
       "      <td>1602</td>\n",
       "      <td>무역점</td>\n",
       "      <td>2116052008000</td>\n",
       "      <td>크리니크</td>\n",
       "      <td>수입종합화장품</td>\n",
       "      <td>화장품</td>\n",
       "      <td>명품잡화</td>\n",
       "      <td>잡화가용팀</td>\n",
       "      <td>화장품</td>\n",
       "      <td>1</td>\n",
       "      <td>86000</td>\n",
       "      <td>8600</td>\n",
       "      <td>77400</td>\n",
       "      <td>1</td>\n",
       "      <td>0</td>\n",
       "    </tr>\n",
       "  </tbody>\n",
       "</table>\n",
       "<p>1040039 rows × 19 columns</p>\n",
       "</div>"
      ],
      "text/plain": [
       "         custid  sales_month  sales_day sales_dayofweek  sales_time str_nm  \\\n",
       "0             0            6         25               일        1212    무역점   \n",
       "1             0            6         25               일        1242    무역점   \n",
       "2             0            8         26               토        1810     본점   \n",
       "3             0            8         26               토        1830     본점   \n",
       "4             0            9          3               일        1802    무역점   \n",
       "...         ...          ...        ...             ...         ...    ...   \n",
       "1040034   49993           13         31               수        1750    신촌점   \n",
       "1040035   49993           13         31               수        1833    신촌점   \n",
       "1040036   49994           16         14               토        1750     본점   \n",
       "1040037   49994           16         14               토        1810     본점   \n",
       "1040038   49994           16         15               일        1602    무역점   \n",
       "\n",
       "                goodcd    brd_nm corner_nm pc_nm    part_nm team_nm buyer_nm  \\\n",
       "0        2116050008000     에스티로더   수입종합화장품   화장품       명품잡화   잡화가용팀      화장품   \n",
       "1        4125440008000       시슬리   수입종합화장품   화장품       명품잡화   잡화가용팀      화장품   \n",
       "2        2116052008000      크리니크   수입종합화장품   화장품       잡화파트   잡화가용팀      화장품   \n",
       "3        4106430119900        듀퐁      수입의류  명품토탈       잡화파트   잡화가용팀     수입명품   \n",
       "4        2139141008000        랑콤   수입종합화장품   화장품       명품잡화   잡화가용팀      화장품   \n",
       "...                ...       ...       ...   ...        ...     ...      ...   \n",
       "1040034  4405551020474       톰키드        아동    아동       아동문화   잡화가용팀     유아동복   \n",
       "1040035  2139140008300     폴로화장품        향수   화장품       패션잡화   잡화가용팀      화장품   \n",
       "1040036  4230120011274      스테파넬      영트랜드  영트렌디  케주얼,구두,아동   의류패션팀     영캐주얼   \n",
       "1040037  4409271026010  써스데이아일앤드      진케주얼  진케주얼  케주얼,구두,아동   의류패션팀    유니캐주얼   \n",
       "1040038  2116052008000      크리니크   수입종합화장품   화장품       명품잡화   잡화가용팀      화장품   \n",
       "\n",
       "         import_flg  tot_amt  dis_amt  net_amt  inst_mon  inst_fee  \n",
       "0                 1    90000     9000    81000         3         0  \n",
       "1                 1    39000     3900    35100         1         0  \n",
       "2                 1   175000    17500   157500         3         0  \n",
       "3                 1   455000    45500   409500         3         0  \n",
       "4                 0   100000    10000    90000         3         0  \n",
       "...             ...      ...      ...      ...       ...       ...  \n",
       "1040034           0    20000        0    20000         1         0  \n",
       "1040035           0    70000     3500    66500         1         0  \n",
       "1040036           0    39000        0    39000         1         0  \n",
       "1040037           0    34200        0    34200         1         0  \n",
       "1040038           1    86000     8600    77400         1         0  \n",
       "\n",
       "[1040039 rows x 19 columns]"
      ]
     },
     "metadata": {},
     "output_type": "display_data"
    }
   ],
   "source": [
    "train_ID = train.custid.unique()\n",
    "test_ID = test.custid.unique()\n",
    "\n",
    "data = pd.concat([train, test]).reset_index(drop=True)\n",
    "display(data)"
   ]
  },
  {
   "cell_type": "markdown",
   "id": "1f1cce75",
   "metadata": {},
   "source": [
    "### Category variable\n",
    "같은 의미이나 다른 이름으로 등록된 것을 정정한다. 또한 sales_month의 값을 1~12의 값으로 데이터를 수정한다.<br>\n",
    "데이터에 함축된 환불금액, 할인금액 등의 데이터를 생성한다. 이때 raw data와 구분하기 위해 열의 이름은 대문자로 한다."
   ]
  },
  {
   "cell_type": "markdown",
   "id": "d33454b5",
   "metadata": {},
   "source": [
    "- **[corner_nm 정제]**"
   ]
  },
  {
   "cell_type": "code",
   "execution_count": 4,
   "id": "219dd024",
   "metadata": {},
   "outputs": [],
   "source": [
    "# 2021 수정사항 반영\n",
    "data.loc[data.corner_nm == '모피.피혁', 'corner_nm'] = '모피/피혁'\n",
    "data.loc[data.corner_nm == '원목(주니어)', 'corner_nm'] = '원목/주니어'\n",
    "data.loc[data.corner_nm == '우산,장갑', 'corner_nm'] = '우산/장갑'\n",
    "data.loc[data.corner_nm == '우산장갑', 'corner_nm'] = '우산/장갑'\n",
    "data.loc[data.corner_nm == '트.단품 ', 'corner_nm'] = '트단품'\n",
    "data.loc[data.corner_nm == 'TV,VTR', 'corner_nm'] = 'TV/VTR'\n",
    "data.loc[data.corner_nm == 'TV.VTR', 'corner_nm'] = 'TV/VTR'\n",
    "data.loc[data.corner_nm == 'GBR  지원', 'corner_nm'] = 'GBR지원'\n",
    "data.loc[data.corner_nm == '페레  지원', 'corner_nm'] = '페레지원'\n",
    "data.loc[data.corner_nm == '라디오.카세트', 'corner_nm'] = '라디오/카세트'\n",
    "data.loc[data.corner_nm == '스포츠용퓸', 'corner_nm'] = '스포츠용품'\n",
    "data.loc[data.corner_nm == '카세트,전화기', 'corner_nm'] = '전화기/카세트'\n",
    "\n",
    "# 2022 수정사항\n",
    "data.loc[data.corner_nm == '골프(용품)', 'corner_nm'] = '골프용품'\n",
    "data.loc[data.corner_nm == '내셔날', 'corner_nm'] = '내셔널'\n",
    "data.loc[data.corner_nm == '냉장고.세탁기', 'corner_nm'] = '냉장고/세탁기'\n",
    "data.loc[data.corner_nm == '단품행사', 'corner_nm'] = '단품/행사'\n",
    "data.loc[data.corner_nm == '세탁기,냉장고', 'corner_nm'] = '냉장고/세탁기'\n",
    "data.loc[data.corner_nm == '선글래스', 'corner_nm'] = '선글라스'\n",
    "data.loc[data.corner_nm == '소파', 'corner_nm'] = '쇼파'\n",
    "data.loc[data.corner_nm == '수입ACC', 'corner_nm'] = '수입악세사리'\n",
    "data.loc[data.corner_nm == '수입액세서리', 'corner_nm'] = '수입악세사리'\n",
    "data.loc[data.corner_nm == '썬그라스', 'corner_nm'] = '선글라스'\n",
    "data.loc[data.corner_nm == '영캐쥬얼', 'corner_nm'] = '영캐주얼'\n",
    "data.loc[data.corner_nm == '인스탄트식품', 'corner_nm'] = '인스턴트식품'\n",
    "data.loc[data.corner_nm == '일반ACC', 'corner_nm'] = '일반악세사리'\n",
    "data.loc[data.corner_nm == '진캐쥬얼', 'corner_nm'] = '진캐주얼'\n",
    "data.loc[data.corner_nm == '진케주얼', 'corner_nm'] = '진캐주얼'\n",
    "data.loc[data.corner_nm == '캐릭터캐쥬얼', 'corner_nm'] = '캐릭터캐주얼'\n",
    "data.loc[data.corner_nm == '트래디셔널캐쥬얼', 'corner_nm'] = '트렌드캐주얼'\n",
    "data.loc[data.corner_nm == '패션ACC', 'corner_nm'] = '패션악세사리'\n",
    "data.loc[data.corner_nm == '헤어ACC', 'corner_nm'] = '헤어악세사리'\n",
    "data.loc[data.corner_nm == '헤어액세사리', 'corner_nm'] = '헤어악세사리'"
   ]
  },
  {
   "cell_type": "markdown",
   "id": "828a3379",
   "metadata": {},
   "source": [
    "- **[pc_nm 정제]**"
   ]
  },
  {
   "cell_type": "code",
   "execution_count": 5,
   "id": "f3e3d334",
   "metadata": {},
   "outputs": [],
   "source": [
    "# 2021 수정사항 반영\n",
    "data.loc[data.pc_nm == '침구,수예', 'pc_nm'] = '침구/수예'\n",
    "data.loc[data.pc_nm == '디자이너부띠크', 'pc_nm'] = '디자이너부띠끄'\n",
    "data.loc[data.pc_nm == '디자이너부틱', 'pc_nm'] = '디자이너부띠끄'\n",
    "data.loc[data.pc_nm == '니트,단품,모피', 'pc_nm'] = '니트/단품/모피'\n",
    "data.loc[data.pc_nm == '니트/단품', 'pc_nm'] = '니트/단품/모피'\n",
    "data.loc[data.pc_nm == '로얄부틱', 'pc_nm'] = '로얄부띠끄'\n",
    "data.loc[data.pc_nm == '트랜디 케쥬얼', 'pc_nm'] = '트랜디캐쥬얼'\n",
    "\n",
    "# 2022 수정사항\n",
    "data.loc[data.pc_nm == '영트렌디', 'pc_nm'] = '영트랜디'\n",
    "data.loc[data.pc_nm == '진캐쥬얼', 'pc_nm'] = '진캐주얼'\n",
    "data.loc[data.pc_nm == '진케주얼', 'pc_nm'] = '진캐주얼'\n",
    "data.loc[data.pc_nm == '침구수예', 'pc_nm'] = '침구/수예'\n",
    "data.loc[data.pc_nm == '캐릭터캐쥬얼', 'pc_nm'] = '캐릭터캐주얼'\n",
    "data.loc[data.pc_nm == '캐쥬얼', 'pc_nm'] = '캐주얼'\n",
    "data.loc[data.pc_nm == '트래디셔널', 'pc_nm'] = '트레디셔널'"
   ]
  },
  {
   "cell_type": "markdown",
   "id": "e38487fa",
   "metadata": {},
   "source": [
    "- **[part_nm 정제]**"
   ]
  },
  {
   "cell_type": "code",
   "execution_count": 6,
   "id": "19ead791",
   "metadata": {},
   "outputs": [],
   "source": [
    "# 2022 수정사항 \n",
    "data.loc[data.part_nm == '가정용품파트', 'part_nm'] = '가정용품'\n",
    "data.loc[data.part_nm == '공산품파트', 'part_nm'] = '공산품'\n",
    "data.loc[data.part_nm == '생식품파트', 'part_nm'] = '생식품'\n",
    "data.loc[data.part_nm == '스포츠캐쥬얼', 'part_nm'] = '스포츠캐주얼'\n",
    "data.loc[data.part_nm == '여성캐쥬얼', 'part_nm'] = '여성캐주얼'\n",
    "data.loc[data.part_nm == '잡화파트', 'part_nm'] = '잡화'\n",
    "data.loc[data.part_nm == '트랜디 케쥬얼', 'part_nm'] = '트랜디캐쥬얼'\n",
    "data.loc[data.part_nm == '로얄부틱', 'part_nm'] = '로얄부띠끄'"
   ]
  },
  {
   "cell_type": "markdown",
   "id": "66106067",
   "metadata": {},
   "source": [
    "- **[buyer_nm 정제]**"
   ]
  },
  {
   "cell_type": "code",
   "execution_count": 7,
   "id": "ff497d69",
   "metadata": {},
   "outputs": [],
   "source": [
    "# 2021 수정사항 반영\n",
    "data.loc[data.buyer_nm == '행사장.*', 'buyer_nm'] = '행사장'\n",
    "data.loc[data.buyer_nm == '피혁A', 'buyer_nm'] = '피혁'\n",
    "data.loc[data.buyer_nm == '피혁B', 'buyer_nm'] = '피혁'"
   ]
  },
  {
   "cell_type": "markdown",
   "id": "a08ba135",
   "metadata": {},
   "source": [
    "- **[sales_month 수정]**"
   ]
  },
  {
   "cell_type": "code",
   "execution_count": 8,
   "id": "f97b1bfd",
   "metadata": {},
   "outputs": [],
   "source": [
    "data['sales_month'] = data.sales_month.apply(lambda x: x-12 if x > 12 else x)"
   ]
  },
  {
   "cell_type": "markdown",
   "id": "1fa5e959",
   "metadata": {},
   "source": [
    "- **[REAL_PURCHASE 생성]**<br>\n",
    "  구매데이터에는 1, 환불데이터에는 -1을 부여한다."
   ]
  },
  {
   "cell_type": "code",
   "execution_count": 9,
   "id": "3756339c",
   "metadata": {},
   "outputs": [],
   "source": [
    "data['REAL_PURCHASE'] = data.net_amt.apply(lambda x: -1 if x < 0 else 1)"
   ]
  },
  {
   "cell_type": "markdown",
   "id": "b564adab",
   "metadata": {},
   "source": [
    "- **[DISCOUNT, DISCOUNT_PER 생성]**<br>\n",
    "  할인 받은 여부, 적용된 할인율 데이터를 생성한다."
   ]
  },
  {
   "cell_type": "code",
   "execution_count": 10,
   "id": "a34c5b8e",
   "metadata": {},
   "outputs": [],
   "source": [
    "data['DISCOUNT'] = data.dis_amt.apply(lambda x: 1 if x > 0 else 0)"
   ]
  },
  {
   "cell_type": "code",
   "execution_count": 11,
   "id": "8289309c",
   "metadata": {},
   "outputs": [],
   "source": [
    "discount = data.copy()\n",
    "discount['dis_amt'] = discount.dis_amt.apply(lambda x: x if x > 0 else 0)\n",
    "data['DISCOUNT_PER'] = abs(discount.dis_amt / discount.tot_amt)"
   ]
  },
  {
   "cell_type": "markdown",
   "id": "8d5d8aa5",
   "metadata": {},
   "source": [
    "- **[REFUND, REFUND_AMT 생성]**<br>\n",
    "  환불 여부, 환불금액 데이터를 생성한다."
   ]
  },
  {
   "cell_type": "code",
   "execution_count": 12,
   "id": "f217ef0f",
   "metadata": {},
   "outputs": [],
   "source": [
    "data['REFUND'] = data.tot_amt.apply(lambda x: 1 if x < 0  else 0)"
   ]
  },
  {
   "cell_type": "code",
   "execution_count": 13,
   "id": "74d157f1",
   "metadata": {},
   "outputs": [],
   "source": [
    "data['REFUND_AMT'] = data.net_amt.apply(lambda x: -x if x < 0 else 0)"
   ]
  },
  {
   "cell_type": "markdown",
   "id": "80979266",
   "metadata": {},
   "source": [
    "- **[IMPORT_AMT 생성]**"
   ]
  },
  {
   "cell_type": "code",
   "execution_count": 14,
   "id": "47d0b1f5",
   "metadata": {},
   "outputs": [],
   "source": [
    "data['IMPORT_AMT'] = data.query('import_flg == 1').net_amt\n",
    "data['IMPORT_AMT'].fillna(0, inplace=True)"
   ]
  },
  {
   "cell_type": "markdown",
   "id": "c44c4293",
   "metadata": {},
   "source": [
    "- **[INSTFEE_AMT 생성]**<br>\n",
    "  무이자 할부를 결정한 구매금액 데이터를 생성한다."
   ]
  },
  {
   "cell_type": "code",
   "execution_count": 15,
   "id": "96271ee4",
   "metadata": {},
   "outputs": [],
   "source": [
    "data['INSTFEE_AMT'] = data.query('inst_fee == 1').net_amt\n",
    "data['INSTFEE_AMT'].fillna(0, inplace=True)"
   ]
  },
  {
   "cell_type": "markdown",
   "id": "ee55fa76",
   "metadata": {},
   "source": [
    "### Split Data"
   ]
  },
  {
   "cell_type": "code",
   "execution_count": 16,
   "id": "d720f0fb",
   "metadata": {},
   "outputs": [],
   "source": [
    "train = data.query('custid in @train_ID').reset_index(drop=True)\n",
    "test = data.query('custid in @test_ID').reset_index(drop=True)"
   ]
  },
  {
   "cell_type": "markdown",
   "id": "42009d97",
   "metadata": {},
   "source": [
    "### Save Data\n",
    "정제된 데이터를 EDA하기 위해 저장한다. "
   ]
  },
  {
   "cell_type": "code",
   "execution_count": 17,
   "id": "f3a8c0fd",
   "metadata": {},
   "outputs": [],
   "source": [
    "# Incomplete Data Cleansing\n",
    "train.to_csv(path + '/X_train_IDC.csv', index=False, encoding='cp949')\n",
    "test.to_csv(path + '/X_test_IDC.csv', index=False, encoding='cp949')"
   ]
  },
  {
   "cell_type": "code",
   "execution_count": null,
   "id": "aad5eab3",
   "metadata": {},
   "outputs": [],
   "source": []
  }
 ],
 "metadata": {
  "kernelspec": {
   "display_name": "Python 3 (ipykernel)",
   "language": "python",
   "name": "python3"
  },
  "language_info": {
   "codemirror_mode": {
    "name": "ipython",
    "version": 3
   },
   "file_extension": ".py",
   "mimetype": "text/x-python",
   "name": "python",
   "nbconvert_exporter": "python",
   "pygments_lexer": "ipython3",
   "version": "3.9.7"
  }
 },
 "nbformat": 4,
 "nbformat_minor": 5
}
